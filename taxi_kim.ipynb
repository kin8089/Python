{
 "cells": [
  {
   "cell_type": "code",
   "execution_count": 30,
   "id": "95bd0b6f-8466-4487-9da3-9edf6573fb04",
   "metadata": {},
   "outputs": [],
   "source": [
    "import requests\n",
    "\n",
    "from bs4 import BeautifulSoup\n",
    "\n",
    "response = requests.get('https://news.seoul.go.kr/traffic/archives/307')\n",
    "\n",
    "taxi = response.text\n",
    "\n",
    "soup = BeautifulSoup(taxi, 'html.parser')"
   ]
  },
  {
   "cell_type": "code",
   "execution_count": 61,
   "id": "bb94c7a5-4116-40f2-a5eb-b63ab958c8cd",
   "metadata": {},
   "outputs": [
    {
     "name": "stdout",
     "output_type": "stream",
     "text": [
      "None\n",
      "\n",
      "개 인\n",
      "\n",
      "\n",
      "49,504\n",
      "\n",
      "\n",
      "49,449\n",
      "\n",
      "\n",
      "49,424\n",
      "\n",
      "\n",
      "49,394\n",
      "\n",
      "\n",
      "49,373\n",
      "\n",
      "\n",
      "49,336\n",
      "\n",
      "\n",
      "49,269\n",
      "\n",
      "\n",
      "49,249\n",
      "\n",
      "\n",
      "49,225\n",
      "\n",
      "\n",
      "49,202\n",
      "\n",
      "\n",
      "49,178\n",
      "\n",
      "\n",
      "['\\n개 인\\n', '\\n49,504\\n', '\\n49,449\\n', '\\n49,424\\n', '\\n49,394\\n', '\\n49,373\\n', '\\n49,336\\n', '\\n49,269\\n', '\\n49,249\\n', '\\n49,225\\n', '\\n49,202\\n', '\\n49,178\\n', '']\n"
     ]
    }
   ],
   "source": [
    "taxilist = []\n",
    "my = soup.select('#post_content > table:nth-child(3) > tbody > tr:nth-child(4) > td')\n",
    "\n",
    "print(soup.int)\n",
    "for i in my :\n",
    "    y = i.get_text()\n",
    "    print(y)\n",
    "    taxilist.append(i.get_text())\n",
    "    \n",
    "print(taxilist)"
   ]
  }
 ],
 "metadata": {
  "kernelspec": {
   "display_name": "Python 3 (ipykernel)",
   "language": "python",
   "name": "python3"
  },
  "language_info": {
   "codemirror_mode": {
    "name": "ipython",
    "version": 3
   },
   "file_extension": ".py",
   "mimetype": "text/x-python",
   "name": "python",
   "nbconvert_exporter": "python",
   "pygments_lexer": "ipython3",
   "version": "3.9.7"
  }
 },
 "nbformat": 4,
 "nbformat_minor": 5
}

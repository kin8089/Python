{
 "cells": [
  {
   "cell_type": "markdown",
   "id": "466f9be2-e5dc-44c8-a6e7-8e2f3270d775",
   "metadata": {},
   "source": [
    "# Day 06"
   ]
  },
  {
   "cell_type": "markdown",
   "id": "494b7595-16a1-4ce8-b670-5c3b95303eda",
   "metadata": {},
   "source": [
    "# 텍스트파일 읽기 쓰기"
   ]
  },
  {
   "cell_type": "code",
   "execution_count": 11,
   "id": "c1224023-e2f7-4335-949e-bf8509fd480d",
   "metadata": {},
   "outputs": [],
   "source": [
    "'''\n",
    "파일 - 파이썬으로 가져올 때 데이터를 순차적으로 읽어온다\n",
    "stream 작업 **\n",
    "1. open 2. read (txt파일)\n",
    "\n",
    "jpg 같은 이미지 파일은 binary(바이너리)파일이라고 하며 인코딩 작업이 필요 없음\n",
    "\n",
    "영어 = 1byte / 한국어 = 2byte (유니코드 사용)\n",
    "\n",
    "\n",
    "파이썬 - 파일 작업할 때\n",
    "1. open 2.write 3.close\n",
    "\n",
    "txt파일은 영구저장\n",
    "'''\n",
    "\n",
    "f = open('test.txt' , 'w', encoding='utf-8')               # stream 작업. w = write 원래는 wt해야하지만 txt가 기본값이라 생략가능\n",
    "\n",
    "f.write('텍스트 파일을 새로 만들고 텍스트를 씁니다\\n')\n",
    "\n",
    "f.write('텍스트 파일을 새로 만들고 텍스트를 씁니다\\n')\n",
    "\n",
    "f.close()                                                  # write를 할때는 필수적으로 close를 해줘야함"
   ]
  },
  {
   "cell_type": "code",
   "execution_count": 19,
   "id": "614ee007-39e7-4e83-939e-b98a21dfb60f",
   "metadata": {},
   "outputs": [
    {
     "name": "stdout",
     "output_type": "stream",
     "text": [
      "텍스트 파일을 새로 만들고 텍스트를 씁니다\n",
      "\n",
      "텍스트 파일을 새로 만들고 텍스트를 씁니다\n",
      "\n"
     ]
    }
   ],
   "source": [
    "f = open('test.txt', 'r', encoding='utf-8')                  # stream 작업. r = read rt에서 txt는 기본값이라 생략\n",
    "\n",
    "#print(f.readline())\n",
    "#print(f.readline())\n",
    "#print(f.readline())\n",
    "#f.read(10)\n",
    "\n",
    "#while True : \n",
    "    #x = f.readline()\n",
    "    #if x  :                                           # if x != '' :  or if x == True / 파이썬에서는 빈문자열 = false \n",
    "        #print(x)\n",
    "    \n",
    "    #else :\n",
    "       # break\n",
    "\n",
    "        \n",
    "#print(type(f.readlines()))\n",
    "\n",
    "x = f.readlines()\n",
    "for i in x :\n",
    "    print(i)\n",
    "\n",
    "\n",
    "f.close()"
   ]
  },
  {
   "cell_type": "markdown",
   "id": "592d60fe-2324-4f15-9b26-2cfb22d840f1",
   "metadata": {},
   "source": [
    "# with 절"
   ]
  },
  {
   "cell_type": "code",
   "execution_count": 39,
   "id": "0e638bdd-3862-4747-b4ee-6597eced5848",
   "metadata": {},
   "outputs": [
    {
     "name": "stdout",
     "output_type": "stream",
     "text": [
      "테스트입니다1.\n",
      "\n",
      "테스트입니다2.\n",
      "\n"
     ]
    }
   ],
   "source": [
    "'''\n",
    "with 블럭이 끝나면 오픈한 파일이 자동으로 클로즈 됨   *** 자주 사용\n",
    "'''\n",
    "\n",
    "with open('test_txt', 'a', encoding = 'utf-8') as test :\n",
    "    test.write('테스트입니다1.\\n')\n",
    "    test.write('테스트입니다2.\\n')\n",
    " \n",
    "with open('test_txt', 'r', encoding = 'utf-8') as test :\n",
    "    print(test.readline())\n",
    "    print(test.readline())\n"
   ]
  },
  {
   "cell_type": "code",
   "execution_count": 52,
   "id": "ba839620-2fc3-45af-b185-d0e6be0f29b0",
   "metadata": {},
   "outputs": [
    {
     "name": "stdout",
     "output_type": "stream",
     "text": [
      "[{'name': 'john', 'age': 25, 'city': 'new york'}, {'name': 'kim', 'age': 27, 'city': 'seoul'}]\n",
      "<class 'str'>\n"
     ]
    }
   ],
   "source": [
    "import json\n",
    "\n",
    "json_string = '''[{ \"name\" : \"john\" , \n",
    "                   \"age\"  : 25 , \n",
    "                   \"city\" : \"new york\"} ,\n",
    "                   { \"name\" : \"kim\" , \n",
    "                   \"age\"  : 27 , \n",
    "                   \"city\" : \"seoul\"}]'''\n",
    "\n",
    "with open('name.json', 'w') as f :\n",
    "    f.write(json_string)\n",
    "\n",
    "with open('name.json', 'r') as f :\n",
    "    json_ = json.load(f)\n",
    "    print(json_)\n",
    "\n",
    "print(type(json_string))"
   ]
  },
  {
   "cell_type": "code",
   "execution_count": 54,
   "id": "1c3571a9-aee7-4a21-b5cf-34a946198eec",
   "metadata": {},
   "outputs": [
    {
     "name": "stdout",
     "output_type": "stream",
     "text": [
      "[{'name': 'john', 'age': 25, 'city': 'new york'}, {'name': 'kim', 'age': 27, 'city': 'seoul'}]\n",
      "<class 'list'>\n"
     ]
    }
   ],
   "source": [
    "with open('name.json', 'r') as f :\n",
    "    pp = json.load(f)                         # json파일은 load를 거쳐서 수정 편집등 가능\n",
    "    print(pp)\n",
    "    print(type(pp))"
   ]
  },
  {
   "cell_type": "code",
   "execution_count": 107,
   "id": "4eb0397e-f198-442a-aaaa-ae75c59c3618",
   "metadata": {},
   "outputs": [
    {
     "data": {
      "text/plain": [
       "'\\nweb 에서 request를 통해서 response를 받음\\n\\n가져온 내용을 mypage에서 조작\\n\\nmypage에서 file로 저장 (open , w)\\n\\nweb   -   mypage   -  file\\n  (request)      (open)\\n'"
      ]
     },
     "execution_count": 107,
     "metadata": {},
     "output_type": "execute_result"
    }
   ],
   "source": [
    "import requests                     # 크롤링할때 사용\n",
    "import json\n",
    "\n",
    "response = requests.get('https://api.github.com/')\n",
    "\n",
    "#print(type(response))\n",
    "\n",
    "response.status_code\n",
    "\n",
    "#if response.status_code == 200 :\n",
    "    #print(response.content)\n",
    "    #print(response.text)\n",
    "json_object = json.loads(response.text)\n",
    "\n",
    "\n",
    "#print(json_object['current_user_url'])\n",
    "\n",
    "with open('response.text', 'w') as f :\n",
    "    f.write(response.text)\n",
    "    \n",
    "    \n",
    "'''\n",
    "web 에서 request를 통해서 response를 받음\n",
    "\n",
    "가져온 내용을 mypage에서 조작\n",
    "\n",
    "mypage에서 file로 저장 (open , w)\n",
    "\n",
    "web   -   mypage   -  file\n",
    "  (request)      (open)\n",
    "'''\n",
    "\n"
   ]
  },
  {
   "cell_type": "markdown",
   "id": "bd460446-d04f-45f4-a231-3905cb324fa0",
   "metadata": {},
   "source": [
    "# 정규식 RegEx"
   ]
  },
  {
   "cell_type": "code",
   "execution_count": null,
   "id": "d00e56ff-5d25-431f-aab8-d55739664506",
   "metadata": {},
   "outputs": [],
   "source": [
    "'''\n",
    "특정한 규칙을 가진 문자열의 집합을 표현할 때 사용하는 형식언어\n",
    "\n",
    "1. 메타문자\n",
    "\n",
    "\n",
    "([0-9]{3}) = 0부터9까지 3번\n",
    "'''"
   ]
  },
  {
   "cell_type": "code",
   "execution_count": 130,
   "id": "931cf76d-3a8e-424d-80ec-0b752b86331f",
   "metadata": {},
   "outputs": [
    {
     "name": "stdout",
     "output_type": "stream",
     "text": [
      "<class 're.Pattern'>\n",
      "<re.Match object; span=(0, 1), match='a'>\n",
      "<re.Match object; span=(0, 1), match='y'>\n",
      "None\n",
      "<re.Match object; span=(0, 1), match='p'>\n",
      "<re.Match object; span=(0, 1), match='p'>\n"
     ]
    }
   ],
   "source": [
    "import re\n",
    "\n",
    "p = re.compile('[a-z]')\n",
    "print(type(p))\n",
    "print(p.match('a'))\n",
    "print(p.match('y'))\n",
    "print(p.match('A'))\n",
    "\n",
    "print(p.match('python'))\n",
    "print(p.match('python'))"
   ]
  },
  {
   "cell_type": "code",
   "execution_count": 122,
   "id": "70438651-ab10-4328-a79e-d956b50f639b",
   "metadata": {},
   "outputs": [
    {
     "name": "stdout",
     "output_type": "stream",
     "text": [
      "<re.Match object; span=(0, 3), match='a\\nb'>\n"
     ]
    }
   ],
   "source": [
    "import re\n",
    "\n",
    "p = re.compile('a.b')\n",
    "p = re.compile('a.b', re.DOTALL)\n",
    "\n",
    "print(p.match('a\\nb'))"
   ]
  },
  {
   "cell_type": "code",
   "execution_count": 159,
   "id": "a130dc58-b63a-4937-9e62-105445d34053",
   "metadata": {},
   "outputs": [
    {
     "name": "stdout",
     "output_type": "stream",
     "text": [
      "['python one', 'python two', 'python three']\n",
      "<re.Match object; span=(0, 10), match='python one'>\n"
     ]
    }
   ],
   "source": [
    "import re\n",
    "\n",
    "#p = re.compile(\"^python\\s\\w+\")\n",
    "p = re.compile(\"^python\\s\\w+\", re.MULTILINE)         # 파이썬으로 시작 , 공백1개 , 몇글자든 상관없음\n",
    "data = \"\"\"python one \n",
    "life is too short\n",
    "python two\n",
    "you need python\n",
    "python three\"\"\"\n",
    "\n",
    "print(p.findall(data))\n",
    "print(p.match(data))"
   ]
  },
  {
   "cell_type": "code",
   "execution_count": 187,
   "id": "fff56d08-117c-4263-84df-19c1b9836047",
   "metadata": {},
   "outputs": [
    {
     "name": "stdout",
     "output_type": "stream",
     "text": [
      "<re.Match object; span=(0, 5), match='aaaaa'>\n",
      "<re.Match object; span=(0, 8), match='bbbbbbbb'>\n",
      "<re.Match object; span=(0, 6), match='baaaaa'>\n",
      "<re.Match object; span=(0, 6), match='aabbla'>\n",
      "0\n",
      "5\n"
     ]
    }
   ],
   "source": [
    "import re\n",
    "\n",
    "p = re.compile('[a-z]+')   # 영문자 여러개\n",
    "\n",
    "\n",
    "print(p.match('aaaaa'))\n",
    "print(p.match('bbbbbbbb'))\n",
    "print(p.match('baaaaa'))\n",
    "print(p.match('aabbla'))\n",
    "\n",
    "x = p.match('aaaaa')\n",
    "print(x.start())\n",
    "print(x.end())"
   ]
  },
  {
   "cell_type": "code",
   "execution_count": 184,
   "id": "a250072e-7896-4fdd-bf12-5769ecc2fd68",
   "metadata": {},
   "outputs": [
    {
     "name": "stdout",
     "output_type": "stream",
     "text": [
      "<re.Match object; span=(0, 7), match='bbaaaaa'>\n",
      "<re.Match object; span=(0, 9), match='aabbbbbbb'>\n",
      "<re.Match object; span=(1, 6), match='aaaaa'>\n",
      "<re.Match object; span=(1, 8), match='baabbla'>\n",
      "0\n",
      "8\n"
     ]
    }
   ],
   "source": [
    "import re\n",
    "\n",
    "p = re.compile('[a-z]+')   # 영문자 여러개\n",
    "\n",
    "\n",
    "print(p.search('bbaaaaa'))\n",
    "print(p.search('aabbbbbbb'))\n",
    "print(p.search('1aaaaa'))\n",
    "print(p.search('1baabbla'))\n",
    "\n",
    "x = p.search('lbaabbla')\n",
    "print(x.start())\n",
    "print(x.end())"
   ]
  },
  {
   "cell_type": "code",
   "execution_count": 196,
   "id": "6dc0ad18-2215-4b45-8edd-32b94cf0bb56",
   "metadata": {},
   "outputs": [
    {
     "name": "stdout",
     "output_type": "stream",
     "text": [
      "['aaa']\n",
      "['abaaa']\n",
      "['bba', 'aaa']\n",
      "['b', 'ab', 'aaa']\n"
     ]
    }
   ],
   "source": [
    "print(p.findall('aaa'))\n",
    "print(p.findall('11abaaa'))\n",
    "print(p.findall('bba11aaa'))\n",
    "print(p.findall('b1ab1aaa'))\n"
   ]
  },
  {
   "cell_type": "code",
   "execution_count": 197,
   "id": "2391d155-a33a-4ec3-babf-f921cf287f23",
   "metadata": {},
   "outputs": [
    {
     "name": "stdout",
     "output_type": "stream",
     "text": [
      "<re.Match object; span=(0, 1), match='a'>\n",
      "<re.Match object; span=(2, 3), match='b'>\n",
      "<re.Match object; span=(4, 6), match='aa'>\n"
     ]
    }
   ],
   "source": [
    "iterator = p.finditer('a1b1aa')\n",
    "\n",
    "for i in iterator :\n",
    "    print(i)"
   ]
  },
  {
   "cell_type": "code",
   "execution_count": 254,
   "id": "e5e9e1f7-21dc-411d-862d-8406203a0170",
   "metadata": {},
   "outputs": [
    {
     "name": "stdout",
     "output_type": "stream",
     "text": [
      "{'j': '22', 'a': '22', 'i': '22', 'c': '22', 'e': '22', 's': '22', 'n': '22', 'd': '22', 'o': '22', 'r': '22', 'x': '22'}\n"
     ]
    }
   ],
   "source": [
    "import re\n",
    "\n",
    "Nameage = '''\n",
    "jaice is 22 and orn is 50\n",
    "jinx is 17 an joe is 22\n",
    "'''\n",
    "p = re.compile('\\d{1,3}')                              # \\d = [0-9]\n",
    "ages  = p.findall(Nameage)\n",
    "p2 = re.compile('[a-z][A-Z]*')                         # * = 0번이\n",
    "names = p2.findall(Nameage)\n",
    "\n",
    "#age = re.findall('\\d{1,3}', Nameage)\n",
    "\n",
    "#name = re.findall('[A-Z][a-z]+', Nameage)\n",
    "\n",
    "myDict = {}\n",
    "i = 0\n",
    "for n in names :\n",
    "    myDict[n] = ages[i]\n",
    "    index += 1\n",
    "    \n",
    "print(myDict)"
   ]
  },
  {
   "cell_type": "code",
   "execution_count": null,
   "id": "9ed0a696-0ac8-446a-a72a-90293906fce0",
   "metadata": {},
   "outputs": [],
   "source": [
    "import re\n",
    " \n",
    "Nameage = '''\n",
    "Janice is 22 and Theon is 33\n",
    "Gabriel is 44 and Joey is 21\n",
    "'''\n",
    " \n",
    "ages = re.findall('\\d{1,3}', Nameage)\n",
    "names = re.findall('[A-Z][a-z]*', Nameage)\n",
    " \n",
    "ageDict = {}\n",
    "\n",
    "index = 0\n",
    "\n",
    "for eachname in names:\n",
    "    ageDict[eachname] = ages[index]\n",
    "    index += 1\n",
    "    \n",
    "print(ageDict)"
   ]
  },
  {
   "cell_type": "code",
   "execution_count": 27,
   "id": "0b8e7ee8-65c9-41a3-a647-2d03a1796206",
   "metadata": {},
   "outputs": [
    {
     "name": "stdout",
     "output_type": "stream",
     "text": [
      "100\n",
      "(257) 563-7401\n",
      "(372) 587-2335\n",
      "(786) 713-8616\n",
      "(793) 151-6230\n",
      "(492) 709-6392\n",
      "(654) 393-5734\n",
      "(404) 960-3807\n",
      "(314) 244-6306\n",
      "(947) 278-5929\n",
      "(684) 579-1879\n",
      "(389) 737-2852\n",
      "(660) 663-4518\n",
      "(608) 265-2215\n",
      "(959) 119-8364\n",
      "(468) 353-2641\n",
      "(248) 675-4007\n",
      "(939) 353-1107\n",
      "(570) 873-7090\n",
      "(302) 259-2375\n",
      "(717) 450-4729\n",
      "(453) 391-4650\n",
      "(559) 104-5475\n",
      "(387) 142-9434\n",
      "(516) 745-4496\n",
      "(326) 677-3419\n",
      "(746) 679-2470\n",
      "(455) 430-0989\n",
      "(490) 936-4694\n",
      "(985) 834-8285\n",
      "(662) 661-1446\n",
      "(802) 668-8240\n",
      "(477) 768-9247\n",
      "(791) 239-9057\n",
      "(832) 109-0213\n",
      "(837) 196-3274\n",
      "(268) 442-2428\n",
      "(850) 676-5117\n",
      "(861) 546-5032\n",
      "(176) 805-4108\n",
      "(715) 912-6931\n",
      "(993) 554-0563\n",
      "(357) 616-5411\n",
      "(121) 347-0086\n",
      "(304) 506-6314\n",
      "(425) 288-2332\n",
      "(145) 987-4962\n",
      "(187) 582-9707\n",
      "(750) 558-3965\n",
      "(492) 467-3131\n",
      "(774) 914-2510\n",
      "(888) 106-8550\n",
      "(539) 567-3573\n",
      "(693) 337-2849\n",
      "(545) 604-9386\n",
      "(221) 156-5026\n",
      "(414) 876-0865\n",
      "(932) 726-8645\n",
      "(726) 710-9826\n",
      "(622) 594-1662\n",
      "(948) 600-8503\n",
      "(605) 900-7508\n",
      "(716) 977-5775\n",
      "(368) 239-8275\n",
      "(725) 342-0650\n",
      "(711) 993-5187\n",
      "(882) 399-5084\n",
      "(287) 755-9948\n",
      "(659) 551-3389\n",
      "(275) 730-6868\n",
      "(725) 757-4047\n",
      "(314) 882-1496\n",
      "(639) 360-7590\n",
      "(168) 222-1592\n",
      "(896) 303-1164\n",
      "(203) 982-6130\n",
      "(906) 217-1470\n",
      "(614) 514-1269\n",
      "(763) 409-5446\n",
      "(836) 292-5324\n",
      "(926) 709-3295\n",
      "(963) 356-9268\n",
      "(736) 522-8584\n",
      "(410) 483-0352\n",
      "(252) 204-1434\n",
      "(874) 886-4174\n",
      "(581) 379-7573\n",
      "(983) 632-8597\n",
      "(295) 983-3476\n",
      "(873) 392-8802\n",
      "(360) 669-3923\n",
      "(840) 987-9449\n",
      "(422) 517-6053\n",
      "(126) 940-2753\n",
      "(427) 930-5255\n",
      "(689) 721-5145\n",
      "(676) 334-2174\n",
      "(437) 994-5270\n",
      "(564) 908-6970\n",
      "(577) 333-6244\n",
      "(655) 840-6139\n",
      "96522\n",
      "20620\n",
      "11523\n",
      "39531\n",
      "47096\n",
      "10855\n",
      "08219\n",
      "12482\n",
      "67708\n",
      "98804\n",
      "69409\n",
      "24975\n",
      "38100\n",
      "45149\n",
      "49854\n",
      "19253\n",
      "02913\n",
      "09289\n",
      "93373\n",
      "20783\n",
      "90255\n",
      "37547\n",
      "48432\n",
      "58563\n",
      "93479\n",
      "30309\n",
      "51324\n",
      "92358\n",
      "19759\n",
      "55797\n",
      "37232\n",
      "50654\n",
      "31626\n",
      "43526\n",
      "95302\n",
      "29738\n",
      "54886\n",
      "77373\n",
      "11292\n",
      "73585\n",
      "87535\n",
      "77382\n",
      "35282\n",
      "82776\n",
      "92508\n",
      "85794\n",
      "19408\n",
      "08609\n",
      "31522\n",
      "58521\n",
      "81202\n",
      "10626\n",
      "58520\n",
      "57692\n",
      "04645\n",
      "26278\n",
      "69679\n",
      "03869\n",
      "55246\n",
      "87323\n",
      "84872\n",
      "41329\n",
      "30135\n",
      "99602\n",
      "91750\n",
      "76865\n",
      "73490\n",
      "63725\n",
      "96892\n",
      "22767\n",
      "77987\n",
      "43841\n",
      "40684\n",
      "03828\n",
      "50710\n",
      "66309\n",
      "67973\n",
      "71983\n",
      "79637\n",
      "06963\n",
      "07367\n",
      "68999\n",
      "73510\n",
      "53700\n",
      "48247\n",
      "12657\n",
      "56618\n",
      "28423\n",
      "97020\n",
      "93490\n",
      "62401\n",
      "05182\n",
      "87065\n",
      "92611\n",
      "88317\n",
      "36734\n",
      "70863\n",
      "19587\n",
      "07528\n",
      "48580\n"
     ]
    }
   ],
   "source": [
    "import requests\n",
    "\n",
    "import re\n",
    "\n",
    "response = requests.get('https://www.summet.com/dmsi/html/codesamples/addresses.html')\n",
    "\n",
    "p = re.compile(\"\\(\\d{3}\\) \\d{3}-\\d{4}\")\n",
    "y = re.compile(\"\\d{5}\")\n",
    "\n",
    "phone_num = p.findall(response.text)\n",
    "num = y.findall(response.text)\n",
    "\n",
    "with open('phone_num.txt', 'w') as f :\n",
    "    print(len(phone_num))\n",
    "    \n",
    "for i in phone_num :\n",
    "    print(i)\n",
    "    \n",
    "for i in num :\n",
    "    print(i)"
   ]
  },
  {
   "cell_type": "code",
   "execution_count": 54,
   "id": "cb627d9b-5d06-4d0d-8d79-08e404985045",
   "metadata": {},
   "outputs": [
    {
     "name": "stdout",
     "output_type": "stream",
     "text": [
      "319,084.00\n",
      "153,454.00\n",
      "203,248.00\n",
      "252,190.00\n",
      "252,190.00\n",
      "480,536.00\n",
      "438,888.00\n",
      "390,122.67\n",
      "473,955.00\n",
      "182,019.00\n",
      "182,019.00\n",
      "348,098.00\n",
      "369,141.00\n",
      "328,125.33\n",
      "294,835.00\n",
      "163,797.22\n",
      "306,383.00\n",
      "136,170.22\n",
      "281,479.00\n",
      "123,409.00\n",
      "474,494.00\n",
      "105,281.00\n",
      "210,282.00\n",
      "241,571.00\n",
      "277,501.00\n",
      "215,834.11\n",
      "340,623.00\n",
      "447,049.00\n",
      "270,451.00\n",
      "168,269.00\n",
      "130,875.89\n",
      "388,277.00\n",
      "110,878.00\n",
      "447,473.00\n",
      "198,876.89\n",
      "164,614.00\n",
      "459,535.00\n",
      "129,273.00\n",
      "172,584.00\n"
     ]
    }
   ],
   "source": [
    "import requests\n",
    "\n",
    "import re\n",
    "\n",
    "response = requests.get('https://www.summet.com/dmsi/html/codesamples/dch.html')\n",
    "\n",
    "p = re.compile('\\d{3},\\d{3}.\\d{2}')\n",
    "\n",
    "price = p.findall(response.text)\n",
    "\n",
    "for i in price :\n",
    "    print(i)\n"
   ]
  }
 ],
 "metadata": {
  "kernelspec": {
   "display_name": "Python 3 (ipykernel)",
   "language": "python",
   "name": "python3"
  },
  "language_info": {
   "codemirror_mode": {
    "name": "ipython",
    "version": 3
   },
   "file_extension": ".py",
   "mimetype": "text/x-python",
   "name": "python",
   "nbconvert_exporter": "python",
   "pygments_lexer": "ipython3",
   "version": "3.9.7"
  }
 },
 "nbformat": 4,
 "nbformat_minor": 5
}

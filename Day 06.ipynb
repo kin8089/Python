{
 "cells": [
  {
   "cell_type": "markdown",
   "id": "466f9be2-e5dc-44c8-a6e7-8e2f3270d775",
   "metadata": {},
   "source": [
    "# Day 06"
   ]
  },
  {
   "cell_type": "markdown",
   "id": "494b7595-16a1-4ce8-b670-5c3b95303eda",
   "metadata": {},
   "source": [
    "# 텍스트파일 읽기 쓰기"
   ]
  },
  {
   "cell_type": "code",
   "execution_count": 11,
   "id": "c1224023-e2f7-4335-949e-bf8509fd480d",
   "metadata": {},
   "outputs": [],
   "source": [
    "'''\n",
    "파일 - 파이썬으로 가져올 때 데이터를 순차적으로 읽어온다\n",
    "stream 작업 **\n",
    "1. open 2. read (txt파일)\n",
    "\n",
    "jpg 같은 이미지 파일은 binary(바이너리)파일이라고 하며 인코딩 작업이 필요 없음\n",
    "\n",
    "영어 = 1byte / 한국어 = 2byte (유니코드 사용)\n",
    "\n",
    "\n",
    "파이썬 - 파일 작업할 때\n",
    "1. open 2.write 3.close\n",
    "\n",
    "txt파일은 영구저장\n",
    "'''\n",
    "\n",
    "f = open('test.txt' , 'w', encoding='utf-8')               # stream 작업. w = write 원래는 wt해야하지만 txt가 기본값이라 생략가능\n",
    "\n",
    "f.write('텍스트 파일을 새로 만들고 텍스트를 씁니다\\n')\n",
    "\n",
    "f.write('텍스트 파일을 새로 만들고 텍스트를 씁니다\\n')\n",
    "\n",
    "f.close()                                                  # write를 할때는 필수적으로 close를 해줘야함"
   ]
  },
  {
   "cell_type": "code",
   "execution_count": 19,
   "id": "614ee007-39e7-4e83-939e-b98a21dfb60f",
   "metadata": {},
   "outputs": [
    {
     "name": "stdout",
     "output_type": "stream",
     "text": [
      "텍스트 파일을 새로 만들고 텍스트를 씁니다\n",
      "\n",
      "텍스트 파일을 새로 만들고 텍스트를 씁니다\n",
      "\n"
     ]
    }
   ],
   "source": [
    "f = open('test.txt', 'r', encoding='utf-8')                  # stream 작업. r = read rt에서 txt는 기본값이라 생략\n",
    "\n",
    "#print(f.readline())\n",
    "#print(f.readline())\n",
    "#print(f.readline())\n",
    "#f.read(10)\n",
    "\n",
    "#while True : \n",
    "    #x = f.readline()\n",
    "    #if x  :                                           # if x != '' :  or if x == True / 파이썬에서는 빈문자열 = false \n",
    "        #print(x)\n",
    "    \n",
    "    #else :\n",
    "       # break\n",
    "\n",
    "        \n",
    "#print(type(f.readlines()))\n",
    "\n",
    "x = f.readlines()\n",
    "for i in x :\n",
    "    print(i)\n",
    "\n",
    "\n",
    "f.close()"
   ]
  },
  {
   "cell_type": "markdown",
   "id": "592d60fe-2324-4f15-9b26-2cfb22d840f1",
   "metadata": {},
   "source": [
    "# with 절"
   ]
  },
  {
   "cell_type": "code",
   "execution_count": 39,
   "id": "0e638bdd-3862-4747-b4ee-6597eced5848",
   "metadata": {},
   "outputs": [
    {
     "name": "stdout",
     "output_type": "stream",
     "text": [
      "테스트입니다1.\n",
      "\n",
      "테스트입니다2.\n",
      "\n"
     ]
    }
   ],
   "source": [
    "'''\n",
    "with 블럭이 끝나면 오픈한 파일이 자동으로 클로즈 됨   *** 자주 사용\n",
    "'''\n",
    "\n",
    "with open('test_txt', 'a', encoding = 'utf-8') as test :\n",
    "    test.write('테스트입니다1.\\n')\n",
    "    test.write('테스트입니다2.\\n')\n",
    " \n",
    "with open('test_txt', 'r', encoding = 'utf-8') as test :\n",
    "    print(test.readline())\n",
    "    print(test.readline())\n"
   ]
  },
  {
   "cell_type": "code",
   "execution_count": 52,
   "id": "ba839620-2fc3-45af-b185-d0e6be0f29b0",
   "metadata": {},
   "outputs": [
    {
     "name": "stdout",
     "output_type": "stream",
     "text": [
      "[{'name': 'john', 'age': 25, 'city': 'new york'}, {'name': 'kim', 'age': 27, 'city': 'seoul'}]\n",
      "<class 'str'>\n"
     ]
    }
   ],
   "source": [
    "import json\n",
    "\n",
    "json_string = '''[{ \"name\" : \"john\" , \n",
    "                   \"age\"  : 25 , \n",
    "                   \"city\" : \"new york\"} ,\n",
    "                   { \"name\" : \"kim\" , \n",
    "                   \"age\"  : 27 , \n",
    "                   \"city\" : \"seoul\"}]'''\n",
    "\n",
    "with open('name.json', 'w') as f :\n",
    "    f.write(json_string)\n",
    "\n",
    "with open('name.json', 'r') as f :\n",
    "    json_ = json.load(f)\n",
    "    print(json_)\n",
    "\n",
    "print(type(json_string))"
   ]
  },
  {
   "cell_type": "code",
   "execution_count": 54,
   "id": "1c3571a9-aee7-4a21-b5cf-34a946198eec",
   "metadata": {},
   "outputs": [
    {
     "name": "stdout",
     "output_type": "stream",
     "text": [
      "[{'name': 'john', 'age': 25, 'city': 'new york'}, {'name': 'kim', 'age': 27, 'city': 'seoul'}]\n",
      "<class 'list'>\n"
     ]
    }
   ],
   "source": [
    "with open('name.json', 'r') as f :\n",
    "    pp = json.load(f)                         # json파일은 load를 거쳐서 수정 편집등 가능\n",
    "    print(pp)\n",
    "    print(type(pp))"
   ]
  },
  {
   "cell_type": "code",
   "execution_count": 68,
   "id": "4eb0397e-f198-442a-aaaa-ae75c59c3618",
   "metadata": {},
   "outputs": [
    {
     "name": "stdout",
     "output_type": "stream",
     "text": [
      "<class 'requests.models.Response'>\n"
     ]
    },
    {
     "data": {
      "text/plain": [
       "200"
      ]
     },
     "execution_count": 68,
     "metadata": {},
     "output_type": "execute_result"
    }
   ],
   "source": [
    "import requests                     # 크롤링할때 사용\n",
    "import json\n",
    "\n",
    "response = requests.get('https://github.com/kin8089')\n",
    "\n",
    "print(type(response))\n",
    "\n",
    "response.status_code\n",
    "\n",
    "#if response.status_code == 200 :\n",
    "    #print(response.content)\n",
    "    #print(response.txt)"
   ]
  }
 ],
 "metadata": {
  "kernelspec": {
   "display_name": "Python 3 (ipykernel)",
   "language": "python",
   "name": "python3"
  },
  "language_info": {
   "codemirror_mode": {
    "name": "ipython",
    "version": 3
   },
   "file_extension": ".py",
   "mimetype": "text/x-python",
   "name": "python",
   "nbconvert_exporter": "python",
   "pygments_lexer": "ipython3",
   "version": "3.9.7"
  }
 },
 "nbformat": 4,
 "nbformat_minor": 5
}

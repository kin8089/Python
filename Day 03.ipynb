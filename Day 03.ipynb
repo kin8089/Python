{
 "cells": [
  {
   "cell_type": "markdown",
   "id": "60f2381f-4812-4e5d-8e49-911d1dc308b9",
   "metadata": {},
   "source": [
    "# Day 03"
   ]
  },
  {
   "cell_type": "code",
   "execution_count": 31,
   "id": "f19a8378-d07f-4867-b2e9-2e3b42b2de3f",
   "metadata": {},
   "outputs": [
    {
     "name": "stdin",
     "output_type": "stream",
     "text": [
      "숫자를 입력하세요 45\n"
     ]
    },
    {
     "name": "stdout",
     "output_type": "stream",
     "text": [
      "정답이 아닙니다\n",
      "down. 4번남았습니다\n"
     ]
    },
    {
     "name": "stdin",
     "output_type": "stream",
     "text": [
      "숫자를 입력하세요 45\n"
     ]
    },
    {
     "name": "stdout",
     "output_type": "stream",
     "text": [
      "정답이 아닙니다\n",
      "down. 3번남았습니다\n"
     ]
    },
    {
     "name": "stdin",
     "output_type": "stream",
     "text": [
      "숫자를 입력하세요 45\n"
     ]
    },
    {
     "name": "stdout",
     "output_type": "stream",
     "text": [
      "정답이 아닙니다\n",
      "down. 2번남았습니다\n"
     ]
    },
    {
     "name": "stdin",
     "output_type": "stream",
     "text": [
      "숫자를 입력하세요 45\n"
     ]
    },
    {
     "name": "stdout",
     "output_type": "stream",
     "text": [
      "정답이 아닙니다\n",
      "down. 1번남았습니다\n"
     ]
    },
    {
     "name": "stdin",
     "output_type": "stream",
     "text": [
      "숫자를 입력하세요 45\n"
     ]
    },
    {
     "name": "stdout",
     "output_type": "stream",
     "text": [
      "정답이 아닙니다\n",
      "down. 0번남았습니다\n",
      "기회가 없습니다\n"
     ]
    }
   ],
   "source": [
    "i = int(input('숫자를 입력하세요'))\n",
    "answer = 75\n",
    "chance = 5\n",
    "\n",
    "while chance > 0:\n",
    "    if i == answer:\n",
    "        print('정답입니다')\n",
    "        break\n",
    "    else:\n",
    "        chance = chance - 1\n",
    "        print('정답이 아닙니다')\n",
    "    \n",
    "        if i > answer:\n",
    "            print('up. %d번남았습니다'%chance)\n",
    "            \n",
    "        else:\n",
    "            print('down. %d번남았습니다'%chance)\n",
    "        \n",
    "        if chance == 0:\n",
    "            print('기회가 없습니다')\n",
    "            break\n",
    "    i = int(input('숫자를 입력하세요'))"
   ]
  },
  {
   "cell_type": "code",
   "execution_count": 1,
   "id": "baacb012-fa40-451c-abcd-5857a53893f5",
   "metadata": {},
   "outputs": [
    {
     "name": "stdout",
     "output_type": "stream",
     "text": [
      "2\n",
      "5\n",
      "8\n",
      "11\n",
      "14\n",
      "17\n",
      "20\n",
      "23\n",
      "26\n",
      "29\n"
     ]
    }
   ],
   "source": [
    "for i in range(2, 30 , 3):            # 2~30까지 3씩증가\n",
    "    print(i)"
   ]
  },
  {
   "cell_type": "code",
   "execution_count": 83,
   "id": "f8c71965-3b6d-4b9f-9fc8-2441757f63d2",
   "metadata": {},
   "outputs": [
    {
     "name": "stdout",
     "output_type": "stream",
     "text": [
      "[] <class 'list'>\n",
      "['banana', 'apple', 'watermelon', 'apple', 'strawberry'] <class 'list'>\n",
      "apple\n",
      "['watermelon', 'apple', 'strawberry']\n",
      "['watermelon', 'strawberry']\n",
      "['watermelon', 'strawberry']\n",
      "strawberry\n",
      "['watermelon']\n"
     ]
    },
    {
     "data": {
      "text/plain": [
       "1"
      ]
     },
     "execution_count": 83,
     "metadata": {},
     "output_type": "execute_result"
    }
   ],
   "source": [
    "my_fruits = list()\n",
    "my_car = list()\n",
    "\n",
    "\n",
    "print(my_car, type(my_car))\n",
    "\n",
    "'''\n",
    "append : 리스트에 추가하기 (****이때 원하는 리스트.append 사용)\n",
    "'''\n",
    "\n",
    "my_fruits.append('apple')               # 과일 리스트에 사과를 추가\n",
    "my_fruits.append('watermelon')\n",
    "my_fruits.append('apple')               # 중복값 추가가능. append는 한번에 1개씩만 추가\n",
    "my_fruits.append('strawberry')\n",
    "\n",
    "my_fruits.insert(0, 'banana')           # insert는 원하는 위치에 추가 - 위치를 지정해줘야 한다\n",
    "print(my_fruits, type(my_fruits))\n",
    "\n",
    "print(my_fruits[1])\n",
    "\n",
    "len(my_fruits)\n",
    "\n",
    "my_fruits.remove('banana')\n",
    "my_fruits.remove(my_fruits[0])           # remove는 삭제기능. 위치 or 이름으로 지정해서 삭제\n",
    "print(my_fruits)\n",
    "\n",
    "my_fruits.remove('apple')                # my까지 쓰고 Tab키를 누르면 해당 셀에 있는 내용 호출가능  / .쓰고 Tab누르면 명령어 호출가능\n",
    "\n",
    "'''\n",
    "명령어 입력 후 Shift + Tab 누르면 설명\n",
    "'''\n",
    "\n",
    "my_fruits.sort(reverse=True)             # sort는 정렬기능. 오름차순(알파벳의 정해진 숫자가 존재)으로 정렬한다 / 내림차순은 (reverse=True) 삽입\n",
    "print(my_fruits)\n",
    "\n",
    "'''\n",
    "한글 or 중국어등은 유니코드를 인코더로 사용해야 한다(유니코드는 2byte까지 지원) utf : 유니코드 사용\n",
    "'''\n",
    "print(my_fruits)\n",
    "a = my_fruits.pop(-1)                    # pop 대입연산자 = 사용가능   ex) a = my_fruits.pop(-1)  / 리턴값이 없으면 대입연산자 사용 불가능\n",
    "print(a)\n",
    "print(my_fruits)                         # pop으로 꺼낸 함수는 리스트에서 삭제된다. (이때 -1은 리스트의 마지막 함수임. -2는 뒤에서 2번째)\n",
    "\n",
    "'''\n",
    "매개변수 = 0개 ~ 여러개 / 리턴값 = 0 or 1개\n",
    "'''\n",
    "\n",
    "len(my_fruits)"
   ]
  }
 ],
 "metadata": {
  "kernelspec": {
   "display_name": "Python 3 (ipykernel)",
   "language": "python",
   "name": "python3"
  },
  "language_info": {
   "codemirror_mode": {
    "name": "ipython",
    "version": 3
   },
   "file_extension": ".py",
   "mimetype": "text/x-python",
   "name": "python",
   "nbconvert_exporter": "python",
   "pygments_lexer": "ipython3",
   "version": "3.9.7"
  }
 },
 "nbformat": 4,
 "nbformat_minor": 5
}

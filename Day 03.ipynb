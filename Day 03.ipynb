{
 "cells": [
  {
   "cell_type": "markdown",
   "id": "60f2381f-4812-4e5d-8e49-911d1dc308b9",
   "metadata": {},
   "source": [
    "# Day 03"
   ]
  },
  {
   "cell_type": "code",
   "execution_count": 31,
   "id": "f19a8378-d07f-4867-b2e9-2e3b42b2de3f",
   "metadata": {},
   "outputs": [
    {
     "name": "stdin",
     "output_type": "stream",
     "text": [
      "숫자를 입력하세요 45\n"
     ]
    },
    {
     "name": "stdout",
     "output_type": "stream",
     "text": [
      "정답이 아닙니다\n",
      "down. 4번남았습니다\n"
     ]
    },
    {
     "name": "stdin",
     "output_type": "stream",
     "text": [
      "숫자를 입력하세요 45\n"
     ]
    },
    {
     "name": "stdout",
     "output_type": "stream",
     "text": [
      "정답이 아닙니다\n",
      "down. 3번남았습니다\n"
     ]
    },
    {
     "name": "stdin",
     "output_type": "stream",
     "text": [
      "숫자를 입력하세요 45\n"
     ]
    },
    {
     "name": "stdout",
     "output_type": "stream",
     "text": [
      "정답이 아닙니다\n",
      "down. 2번남았습니다\n"
     ]
    },
    {
     "name": "stdin",
     "output_type": "stream",
     "text": [
      "숫자를 입력하세요 45\n"
     ]
    },
    {
     "name": "stdout",
     "output_type": "stream",
     "text": [
      "정답이 아닙니다\n",
      "down. 1번남았습니다\n"
     ]
    },
    {
     "name": "stdin",
     "output_type": "stream",
     "text": [
      "숫자를 입력하세요 45\n"
     ]
    },
    {
     "name": "stdout",
     "output_type": "stream",
     "text": [
      "정답이 아닙니다\n",
      "down. 0번남았습니다\n",
      "기회가 없습니다\n"
     ]
    }
   ],
   "source": [
    "i = int(input('숫자를 입력하세요'))\n",
    "answer = 75\n",
    "chance = 5\n",
    "\n",
    "while chance > 0:\n",
    "    if i == answer:\n",
    "        print('정답입니다')\n",
    "        break\n",
    "    else:\n",
    "        chance = chance - 1\n",
    "        print('정답이 아닙니다')\n",
    "    \n",
    "        if i > answer:\n",
    "            print('up. %d번남았습니다'%chance)\n",
    "            \n",
    "        else:\n",
    "            print('down. %d번남았습니다'%chance)\n",
    "        \n",
    "        if chance == 0:\n",
    "            print('기회가 없습니다')\n",
    "            break\n",
    "    i = int(input('숫자를 입력하세요'))"
   ]
  },
  {
   "cell_type": "code",
   "execution_count": 1,
   "id": "baacb012-fa40-451c-abcd-5857a53893f5",
   "metadata": {},
   "outputs": [
    {
     "name": "stdout",
     "output_type": "stream",
     "text": [
      "2\n",
      "5\n",
      "8\n",
      "11\n",
      "14\n",
      "17\n",
      "20\n",
      "23\n",
      "26\n",
      "29\n"
     ]
    }
   ],
   "source": [
    "for i in range(2, 30 , 3):            # 2~30까지 3씩증가\n",
    "    print(i)"
   ]
  },
  {
   "cell_type": "code",
   "execution_count": 85,
   "id": "f8c71965-3b6d-4b9f-9fc8-2441757f63d2",
   "metadata": {},
   "outputs": [
    {
     "name": "stdout",
     "output_type": "stream",
     "text": [
      "[] <class 'list'>\n",
      "['banana', 'apple', 'watermelon', 'apple', 'strawberry'] <class 'list'>\n",
      "apple\n",
      "['watermelon', 'apple', 'strawberry']\n",
      "['watermelon', 'strawberry']\n",
      "['watermelon', 'strawberry']\n",
      "strawberry\n",
      "['watermelon']\n"
     ]
    },
    {
     "data": {
      "text/plain": [
       "1"
      ]
     },
     "execution_count": 85,
     "metadata": {},
     "output_type": "execute_result"
    }
   ],
   "source": [
    "my_fruits = list()\n",
    "my_car = list()\n",
    "\n",
    "\n",
    "print(my_car, type(my_car))\n",
    "\n",
    "'''\n",
    "append : 리스트에 추가하기 (****이때 원하는 리스트.append 사용)\n",
    "'''\n",
    "\n",
    "my_fruits.append('apple')               # 과일 리스트에 사과를 추가\n",
    "my_fruits.append('watermelon')\n",
    "my_fruits.append('apple')               # 중복값 추가가능. append는 한번에 1개씩만 추가\n",
    "my_fruits.append('strawberry')\n",
    "\n",
    "my_fruits.insert(0, 'banana')           # insert는 원하는 위치에 추가 - 위치를 지정해줘야 한다\n",
    "print(my_fruits, type(my_fruits))\n",
    "\n",
    "print(my_fruits[1])\n",
    "\n",
    "len(my_fruits)\n",
    "\n",
    "my_fruits.remove('banana')\n",
    "my_fruits.remove(my_fruits[0])           # remove는 삭제기능. 위치 or 이름으로 지정해서 삭제\n",
    "print(my_fruits)\n",
    "\n",
    "my_fruits.remove('apple')                # my까지 쓰고 Tab키를 누르면 해당 셀에 있는 내용 호출가능  / .쓰고 Tab누르면 명령어 호출가능\n",
    "\n",
    "'''\n",
    "명령어 입력 후 Shift + Tab 누르면 설명\n",
    "'''\n",
    "\n",
    "my_fruits.sort(reverse=True)             # sort는 정렬기능. 오름차순(알파벳의 정해진 숫자가 존재)으로 정렬한다 / 내림차순은 (reverse=True) 삽입\n",
    "print(my_fruits)\n",
    "\n",
    "'''\n",
    "한글 or 중국어등은 유니코드를 인코더로 사용해야 한다(유니코드는 2byte까지 지원) utf : 유니코드 사용\n",
    "'''\n",
    "\n",
    "print(my_fruits)\n",
    "a = my_fruits.pop(-1)                    # pop 대입연산자 = 사용가능   ex) a = my_fruits.pop(-1)  / 리턴값이 없으면 대입연산자 사용 불가능\n",
    "print(a)\n",
    "print(my_fruits)                         # pop으로 꺼낸 함수는 리스트에서 삭제된다. (이때 -1은 리스트의 마지막 함수임. -2는 뒤에서 2번째)\n",
    "\n",
    "'''\n",
    "매개변수 = 0개 ~ 여러개 / 리턴값 = 0 or 1개\n",
    "'''\n",
    "\n",
    "len(my_fruits)"
   ]
  },
  {
   "cell_type": "code",
   "execution_count": 113,
   "id": "7b481f48-a3af-4bbf-9966-84c1dbb3b351",
   "metadata": {},
   "outputs": [
    {
     "name": "stdout",
     "output_type": "stream",
     "text": [
      "() <class 'tuple'>\n",
      "('orange', 'apple', 'melon', 'banana') <class 'tuple'>\n",
      "('melon', 'banana')\n",
      "<class 'tuple'>\n",
      "<class 'list'>\n",
      "['orange', 'apple', 'melon', 'banana', 'strawberry']\n",
      "<class 'tuple'>\n",
      "1\n"
     ]
    }
   ],
   "source": [
    "'''\n",
    "튜플(tuple)은 추가 삭제등 수정이 불가능함. 수정이 필요하면 리스트로 바꿔줘야 한다\n",
    "튜플을 만들때는 미리 값을 전부 넣고 만들어야한다. / 리스트 = [] 튜플 = () /\n",
    "'''\n",
    "\n",
    "my_car = tuple()\n",
    "my_fruits =('orange','apple','melon','banana')\n",
    "\n",
    "print(my_car, type(my_car))\n",
    "print(my_fruits, type(my_fruits))\n",
    "\n",
    "print(my_fruits[2:4])                    # 인덱스 호출시에는 튜플도 대괄호[]를 사용해야함\n",
    "\n",
    "my_fruits_list = list(my_fruits)         # 튜플 인덱스로 바꾸는 방법\n",
    "\n",
    "print(type(my_fruits))\n",
    "print(type(my_fruits_list))\n",
    "\n",
    "my_fruits_list.append('strawberry')      # 리스트로 변경했기 때문에 추가가 가능함\n",
    "\n",
    "print(my_fruits_list)\n",
    "\n",
    "my_fruits_tuple = tuple(my_fruits_list)  # 리스트를 다시 튜플로 바꾸는 방법 (리스트로 만들어서 추가하고 다시 튜플로 만들 수 있다)\n",
    "\n",
    "print(type(my_fruits_tuple))\n",
    "\n",
    "print(my_fruits_tuple.count('banana'))          # count는 개수를 세주는 메소드로 리턴값이 있음"
   ]
  },
  {
   "cell_type": "code",
   "execution_count": 17,
   "id": "108b72b8-76dc-42a6-a132-757246f321c1",
   "metadata": {},
   "outputs": [
    {
     "name": "stdout",
     "output_type": "stream",
     "text": [
      "<class 'set'>\n",
      "<class 'set'>\n",
      "{'bently'}\n",
      "{'bmw', 'bently', 'porshe', 'tank', 'kia'}\n",
      "{'apple'}\n",
      "set()\n"
     ]
    }
   ],
   "source": [
    "'''\n",
    "set은 list와 거의 동일하지만 중복값이 허용이 안된다\n",
    "순서 유지가 안되기 때문에 인덱스로 접근 불가  / 인덱스 = {}\n",
    "'''\n",
    "\n",
    "my_fruits = {'banana','apple'}       # {}를 사용해서 set만들때는 안에 값이 있어야함\n",
    "my_car = set()                \n",
    "\n",
    "print(type(my_car))\n",
    "print(type(my_fruits))\n",
    "\n",
    "my_car.add('bently')                 # set에서는 append가 아닌 add로 추가\n",
    "my_car.add('bently') \n",
    "print(my_car)\n",
    "\n",
    "my_car.add('bmw')\n",
    "my_car.add('porshe')\n",
    "my_car.add('kia')\n",
    "my_car.add('tank') \n",
    "print(my_car)\n",
    "\n",
    "# print(my_car[0])                   # 인덱스로 접근 불가\n",
    "\n",
    "thisset = {'banana','apple'}\n",
    "\n",
    "thisset.remove('banana')\n",
    "print(thisset)\n",
    "\n",
    "thisset.discard('apple')             # remove 와 discard로 삭제가 가능\n",
    "print(thisset)"
   ]
  },
  {
   "cell_type": "code",
   "execution_count": 26,
   "id": "97a2882c-76bb-4932-832e-1d57a5ec2e5e",
   "metadata": {},
   "outputs": [
    {
     "name": "stdin",
     "output_type": "stream",
     "text": [
      "점수를 입력하세요 4\n",
      "점수를 입력하세요 5\n",
      "점수를 입력하세요 6\n",
      "점수를 입력하세요 7\n",
      "점수를 입력하세요 8\n"
     ]
    },
    {
     "name": "stdout",
     "output_type": "stream",
     "text": [
      "[4, 5, 6, 7, 8]\n"
     ]
    }
   ],
   "source": [
    "'''\n",
    "입력받은 값을 리스트에 추가하기\n",
    "'''\n",
    "score = []\n",
    "n = 0\n",
    "while n < 5: \n",
    "    x = int(input('점수를 입력하세요'))      # 같은 내용은 위에 넣을 필요가 없음\n",
    "    score.append(x)                           \n",
    "    n = n + 1                                 # n = n + 1 - 한번 반복할때마다 n값이 1씩 증가한다\n",
    "\n",
    "print(score)"
   ]
  },
  {
   "cell_type": "code",
   "execution_count": 58,
   "id": "564980d8-edde-495b-bb42-be006f669429",
   "metadata": {},
   "outputs": [
    {
     "name": "stdin",
     "output_type": "stream",
     "text": [
      "점수를 추가하세요 7\n",
      "점수를 추가하세요 8\n",
      "점수를 추가하세요 9\n",
      "점수를 추가하세요 4\n",
      "점수를 추가하세요 5\n"
     ]
    },
    {
     "name": "stdout",
     "output_type": "stream",
     "text": [
      "['7', '8', '9', '4', '5']\n"
     ]
    }
   ],
   "source": [
    "score = []\n",
    "n = 0\n",
    "for n in range(5):\n",
    "    a = input('점수를 추가하세요')\n",
    "    score.append(a)\n",
    "    n = n + 1\n",
    "print(score)"
   ]
  },
  {
   "cell_type": "code",
   "execution_count": 65,
   "id": "205d9281-5127-427f-b27e-77ad001a2f7d",
   "metadata": {},
   "outputs": [
    {
     "name": "stdin",
     "output_type": "stream",
     "text": [
      "점수를 입력하세요 1\n",
      "점수를 입력하세요 2\n",
      "점수를 입력하세요 3\n",
      "점수를 입력하세요 4\n",
      "점수를 입력하세요 5\n"
     ]
    },
    {
     "name": "stdout",
     "output_type": "stream",
     "text": [
      "[1, 2, 3, 4, 5]\n",
      "15\n"
     ]
    }
   ],
   "source": [
    "'''\n",
    "학생 5명 점수 입력받기\n",
    "점수를 각각 받아서 총합하고 \n",
    "평균점수 내기\n",
    "'''\n",
    "score = []\n",
    "\n",
    "n = 0\n",
    "while n < 5:\n",
    "    x = int(input('점수를 입력하세요'))\n",
    "    score.append(x)\n",
    "    n = n + 1\n",
    "print(score)\n",
    "\n",
    "total = 0 \n",
    "\n",
    "for a in score:\n",
    "    total = a + total\n",
    "print(total)"
   ]
  },
  {
   "cell_type": "code",
   "execution_count": null,
   "id": "66fefdb7-7a98-4fef-923d-5951bf99388d",
   "metadata": {},
   "outputs": [
    {
     "name": "stdout",
     "output_type": "stream",
     "text": [
      "range(1, 3)\n"
     ]
    },
    {
     "name": "stdin",
     "output_type": "stream",
     "text": [
      "5 dddd 1\n"
     ]
    }
   ],
   "source": [
    "list = []\n",
    "print(range(1,n))\n",
    "\n",
    "\n",
    "n = 5\n",
    "x = input('%d dddd'%n)\n",
    "\n",
    "list.append(x)"
   ]
  }
 ],
 "metadata": {
  "kernelspec": {
   "display_name": "Python 3 (ipykernel)",
   "language": "python",
   "name": "python3"
  },
  "language_info": {
   "codemirror_mode": {
    "name": "ipython",
    "version": 3
   },
   "file_extension": ".py",
   "mimetype": "text/x-python",
   "name": "python",
   "nbconvert_exporter": "python",
   "pygments_lexer": "ipython3",
   "version": "3.9.7"
  }
 },
 "nbformat": 4,
 "nbformat_minor": 5
}

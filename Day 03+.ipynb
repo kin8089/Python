{
 "cells": [
  {
   "cell_type": "markdown",
   "id": "6bb63a74-3b84-4b39-a0fa-f2b77e37b301",
   "metadata": {},
   "source": [
    "# Function"
   ]
  },
  {
   "cell_type": "code",
   "execution_count": null,
   "id": "acbd7cfb-6d48-4ec3-b769-82374d06881f",
   "metadata": {},
   "outputs": [],
   "source": [
    "'''\n",
    "1. 함수 정의\n",
    "def 함수명([매개변수[=초기값],.........]):\n",
    "    수행할 문장\n",
    "    ....\n",
    "    [return 리턴값]\n",
    "    \n",
    "function은 자주 쓰는 함수를 만들어 놓고 필요시 호출해서 재사용\n",
    "\n",
    "def = 함수 정의 문법\n",
    "[]는 생략 가능하다\n",
    "\n",
    "def my-function(매개변수=입력값)\n",
    "    return값=출력값                     \n",
    "    \n",
    "2. 함수 호출\n",
    "print = 파이썬에 만들어진 함수 호출\n",
    "\n",
    "\n",
    "함수명([매개변수]....)\n",
    "'''"
   ]
  },
  {
   "cell_type": "code",
   "execution_count": 21,
   "id": "3b4b5e68-81ad-4ca9-86e2-c2c0f09aa18d",
   "metadata": {},
   "outputs": [
    {
     "name": "stdout",
     "output_type": "stream",
     "text": [
      "--------------------------------------------------\n",
      "my_fuction\n",
      "--------------------------------------------------\n",
      "--------------------------------------------------\n",
      "my_fuction\n",
      "--------------------------------------------------\n",
      "함수호출 끝\n"
     ]
    }
   ],
   "source": [
    "def my_fuction():\n",
    "    print('-'*50)\n",
    "    print('my_fuction')            # 매개변수 , 리턴값 입력 안한 케이스\n",
    "    print('-'*50)\n",
    "    \n",
    "my_fuction()                       # 리턴값이 없으면 대입연산자 사용 불가능\n",
    "my_fuction()\n",
    "print('함수호출 끝')"
   ]
  },
  {
   "cell_type": "code",
   "execution_count": 206,
   "id": "e064ecd2-0806-4903-94fd-979dc70ca8da",
   "metadata": {},
   "outputs": [],
   "source": [
    "def my_fuction(n, x):\n",
    "    print('-'* n)\n",
    "    print('x')            # 입력값을 넣고싶으면 매개변수자리에 넣어줌. 이때 호출을 할때도 사용한 매개변수를 명시해야함.\n",
    "    print('-'* n)                  \n",
    "\n"
   ]
  },
  {
   "cell_type": "code",
   "execution_count": 208,
   "id": "b8b88209-31c3-4202-90a6-a87335e09c1e",
   "metadata": {},
   "outputs": [
    {
     "name": "stdin",
     "output_type": "stream",
     "text": [
      "개수 2\n",
      " 안녕하세요\n"
     ]
    },
    {
     "name": "stdout",
     "output_type": "stream",
     "text": [
      "--\n",
      "x\n",
      "--\n"
     ]
    }
   ],
   "source": [
    "n = int(input('개수'))            \n",
    "x = input('')                 \n",
    "\n",
    "my_fuction(n, x)"
   ]
  },
  {
   "cell_type": "code",
   "execution_count": 213,
   "id": "4b36d5f2-ded2-4d20-8dff-bd6ffdea23a0",
   "metadata": {},
   "outputs": [],
   "source": [
    "def my_add(n, m):\n",
    "    print('합을 출력하겠습니다')\n",
    "    h = n + m\n",
    "    print('%d + %d = %d' %(n,m,h))\n",
    "    "
   ]
  },
  {
   "cell_type": "code",
   "execution_count": 214,
   "id": "806ca9c3-d6da-4fa4-8784-d05768e9abd5",
   "metadata": {},
   "outputs": [
    {
     "name": "stdin",
     "output_type": "stream",
     "text": [
      " 5\n",
      " 10\n"
     ]
    },
    {
     "name": "stdout",
     "output_type": "stream",
     "text": [
      "합을 출력하겠습니다\n",
      "5 + 10 = 15\n"
     ]
    }
   ],
   "source": [
    "n = int(input(''))\n",
    "m = int(input(''))\n",
    "my_add(n, m)"
   ]
  },
  {
   "cell_type": "code",
   "execution_count": 181,
   "id": "ceb7234f-f717-44fc-af05-466804957480",
   "metadata": {},
   "outputs": [],
   "source": [
    "'''\n",
    "숫자 받아서\n",
    "함수4개\n",
    "합 차 곱 나누기\n",
    "매개변수 2개씩\n",
    "'''\n",
    "\n",
    "def my_p(n, m):\n",
    "    print('합을 출력합니다')\n",
    "    h = n + m\n",
    "    print('%d + %d = %d'%(n,m,h))\n",
    "\n",
    "def my_m(n, m):\n",
    "    print('차를 출력합니다')                     \n",
    "    if n > m:\n",
    "        h = n - m\n",
    "        print('%d - %d = %d'%(n,m,h))               \n",
    "    else:\n",
    "        h = m - n\n",
    "        print('%d - %d = %d'%(m,n,h))\n",
    "def my_x(n, m):\n",
    "    print('곱을 출력합니다')\n",
    "    h = n * m\n",
    "    print('%d * %d = %d'%(n,m,h))\n",
    "def my_n(n, m):\n",
    "    print('나누기를 출력합니다')\n",
    "    if n > m:\n",
    "        h = n / m\n",
    "        print('%d / %d = %d'%(n,m,h))\n",
    "    else:\n",
    "        h = m / n\n",
    "        print('%d / %d = %d'%(m,n,h))"
   ]
  },
  {
   "cell_type": "code",
   "execution_count": 198,
   "id": "afb7ffe2-a86e-47dc-8738-3a71d3e2f6c6",
   "metadata": {},
   "outputs": [
    {
     "name": "stdin",
     "output_type": "stream",
     "text": [
      " 78\n",
      " 78\n"
     ]
    },
    {
     "name": "stdout",
     "output_type": "stream",
     "text": [
      "합을 출력합니다\n",
      "78 + 78 = 156\n",
      "차를 출력합니다\n",
      "78 - 78 = 0\n",
      "곱을 출력합니다\n",
      "78 * 78 = 6084\n",
      "나누기를 출력합니다\n",
      "78 / 78 = 1\n"
     ]
    }
   ],
   "source": [
    "n = int(input(''))\n",
    "m = int(input(''))\n",
    "my_p(n, m)\n",
    "my_m(n, m)\n",
    "my_x(n, m)\n",
    "my_n(n, m)"
   ]
  },
  {
   "cell_type": "code",
   "execution_count": null,
   "id": "02da22cc-4ef7-45d8-8ae8-35ddd9de4369",
   "metadata": {},
   "outputs": [],
   "source": [
    "'''\n",
    "1.숫자로 구성된 리스트를 입력받아\n",
    "짝수를 추출하여 출력하는 pickup_even 함수를 구현하라\n",
    "새로운 리스트에 append 하고 출력\n",
    "+\n",
    "\n",
    "2.숫자로 구성된 리스트를 입력받아\n",
    "홀수를 추출하여 합을 구하는 pickup_odd 함수를 구현하라\n",
    "그냥 합 구해서 출력\n",
    "\n",
    "3. 도형을 선택하세요                                                                              - 필수\n",
    "1.직삼각형\n",
    "2.원\n",
    "3.정사각형\n",
    "4.직사각형\n",
    "\n",
    "1.밑변 높이\n",
    "2.반지름\n",
    "3.길이 하나\n",
    "4.가로 세로 길이\n",
    "넓이를 구하시오\n",
    "\n",
    "4. 세 개의 숫자를 입력받아 가장 큰수를 출력하는 print_max 함수를 정의. 단 if 문을 사용해서 수를 비교 - 필수\n",
    "'''"
   ]
  },
  {
   "cell_type": "code",
   "execution_count": 284,
   "id": "ecd5e779-cd8b-45d9-babc-f18e632d59a2",
   "metadata": {},
   "outputs": [
    {
     "name": "stdin",
     "output_type": "stream",
     "text": [
      "숫자를 입력하세요. 4\n",
      "숫자를 입력하세요. 5\n",
      "숫자를 입력하세요. 5\n"
     ]
    },
    {
     "name": "stdout",
     "output_type": "stream",
     "text": [
      "가장 큰 숫자는?\n",
      "중복된 숫자가 존재합니다.\n"
     ]
    }
   ],
   "source": [
    "# 1번\n",
    "def print_max(a,b,c):\n",
    "    print('가장 큰 숫자는?')\n",
    "    if a > b:\n",
    "        if a > c:\n",
    "            print(a)\n",
    "    elif b > a:\n",
    "        if b > c:\n",
    "            print(b)\n",
    "    if c > b:\n",
    "        if c > a:\n",
    "            print(c)\n",
    "    else:\n",
    "        print('중복된 숫자가 존재합니다.')\n",
    "\n",
    "a = int(input('숫자를 입력하세요.'))\n",
    "b = int(input('숫자를 입력하세요.'))\n",
    "c = int(input('숫자를 입력하세요.'))\n",
    "\n",
    "print_max(a,b,c)"
   ]
  },
  {
   "cell_type": "code",
   "execution_count": 275,
   "id": "0983a3a0-8e95-457c-998b-5d828287a795",
   "metadata": {},
   "outputs": [
    {
     "name": "stdout",
     "output_type": "stream",
     "text": [
      "도형을 선택하세요\n",
      "1.직삼각형\n",
      "2.원\n",
      "3.정사각형\n",
      "4.직사각형\n"
     ]
    },
    {
     "name": "stdin",
     "output_type": "stream",
     "text": [
      "숫자를 선택하시오 4\n",
      "밑변을 입력하시오 5\n",
      "높이를 입력하시오 5\n",
      "반지름을 입력하시오 \n"
     ]
    },
    {
     "ename": "ValueError",
     "evalue": "invalid literal for int() with base 10: ''",
     "output_type": "error",
     "traceback": [
      "\u001b[1;31m---------------------------------------------------------------------------\u001b[0m",
      "\u001b[1;31mValueError\u001b[0m                                Traceback (most recent call last)",
      "\u001b[1;32m~\\AppData\\Local\\Temp/ipykernel_10120/533165273.py\u001b[0m in \u001b[0;36m<module>\u001b[1;34m\u001b[0m\n\u001b[0;32m      4\u001b[0m \u001b[0mb\u001b[0m \u001b[1;33m=\u001b[0m \u001b[0mint\u001b[0m\u001b[1;33m(\u001b[0m\u001b[0minput\u001b[0m\u001b[1;33m(\u001b[0m\u001b[1;34m'밑변을 입력하시오'\u001b[0m\u001b[1;33m)\u001b[0m\u001b[1;33m)\u001b[0m\u001b[1;33m\u001b[0m\u001b[1;33m\u001b[0m\u001b[0m\n\u001b[0;32m      5\u001b[0m \u001b[0mc\u001b[0m \u001b[1;33m=\u001b[0m \u001b[0mint\u001b[0m\u001b[1;33m(\u001b[0m\u001b[0minput\u001b[0m\u001b[1;33m(\u001b[0m\u001b[1;34m'높이를 입력하시오'\u001b[0m\u001b[1;33m)\u001b[0m\u001b[1;33m)\u001b[0m\u001b[1;33m\u001b[0m\u001b[1;33m\u001b[0m\u001b[0m\n\u001b[1;32m----> 6\u001b[1;33m \u001b[0md\u001b[0m \u001b[1;33m=\u001b[0m \u001b[0mint\u001b[0m\u001b[1;33m(\u001b[0m\u001b[0minput\u001b[0m\u001b[1;33m(\u001b[0m\u001b[1;34m'반지름을 입력하시오'\u001b[0m\u001b[1;33m)\u001b[0m\u001b[1;33m)\u001b[0m\u001b[1;33m\u001b[0m\u001b[1;33m\u001b[0m\u001b[0m\n\u001b[0m\u001b[0;32m      7\u001b[0m \u001b[1;33m\u001b[0m\u001b[0m\n\u001b[0;32m      8\u001b[0m \u001b[1;32mif\u001b[0m \u001b[0ma\u001b[0m \u001b[1;33m==\u001b[0m \u001b[1;36m1\u001b[0m\u001b[1;33m:\u001b[0m\u001b[1;33m\u001b[0m\u001b[1;33m\u001b[0m\u001b[0m\n",
      "\u001b[1;31mValueError\u001b[0m: invalid literal for int() with base 10: ''"
     ]
    }
   ],
   "source": [
    "#2번\n",
    "print('도형을 선택하세요\\n1.직삼각형\\n2.원\\n3.정사각형\\n4.직사각형')\n",
    "a = input('숫자를 선택하시오')\n",
    "b = int(input('밑변을 입력하시오'))\n",
    "c = int(input('높이를 입력하시오'))\n",
    "d = int(input('반지름을 입력하시오'))\n",
    "\n",
    "if a == 1:\n",
    "    print(b)\n",
    "    print(c)\n",
    "    \n",
    "elif a == 2:\n",
    "    print(d)"
   ]
  }
 ],
 "metadata": {
  "kernelspec": {
   "display_name": "Python 3 (ipykernel)",
   "language": "python",
   "name": "python3"
  },
  "language_info": {
   "codemirror_mode": {
    "name": "ipython",
    "version": 3
   },
   "file_extension": ".py",
   "mimetype": "text/x-python",
   "name": "python",
   "nbconvert_exporter": "python",
   "pygments_lexer": "ipython3",
   "version": "3.9.7"
  }
 },
 "nbformat": 4,
 "nbformat_minor": 5
}

{
 "cells": [
  {
   "cell_type": "markdown",
   "id": "6bb63a74-3b84-4b39-a0fa-f2b77e37b301",
   "metadata": {},
   "source": [
    "# Function"
   ]
  },
  {
   "cell_type": "code",
   "execution_count": null,
   "id": "acbd7cfb-6d48-4ec3-b769-82374d06881f",
   "metadata": {},
   "outputs": [],
   "source": [
    "'''\n",
    "1. 함수 정의\n",
    "def 함수명([매개변수[=초기값],.........]):\n",
    "    수행할 문장\n",
    "    ....\n",
    "    [return 리턴값]\n",
    "    \n",
    "function은 자주 쓰는 함수를 만들어 놓고 필요시 호출해서 재사용\n",
    "\n",
    "def = 함수 정의 문법\n",
    "[]는 생략 가능하다\n",
    "\n",
    "def my-function(매개변수=입력값)\n",
    "    return값=출력값                     \n",
    "    \n",
    "2. 함수 호출\n",
    "print = 파이썬에 만들어진 함수 호출\n",
    "\n",
    "\n",
    "함수명([매개변수]....)\n",
    "'''"
   ]
  },
  {
   "cell_type": "code",
   "execution_count": 21,
   "id": "3b4b5e68-81ad-4ca9-86e2-c2c0f09aa18d",
   "metadata": {},
   "outputs": [
    {
     "name": "stdout",
     "output_type": "stream",
     "text": [
      "--------------------------------------------------\n",
      "my_fuction\n",
      "--------------------------------------------------\n",
      "--------------------------------------------------\n",
      "my_fuction\n",
      "--------------------------------------------------\n",
      "함수호출 끝\n"
     ]
    }
   ],
   "source": [
    "def my_fuction():\n",
    "    print('-'*50)\n",
    "    print('my_fuction')            # 매개변수 , 리턴값 입력 안한 케이스\n",
    "    print('-'*50)\n",
    "    \n",
    "my_fuction()                       # 리턴값이 없으면 대입연산자 사용 불가능\n",
    "my_fuction()\n",
    "print('함수호출 끝')"
   ]
  },
  {
   "cell_type": "code",
   "execution_count": 29,
   "id": "e064ecd2-0806-4903-94fd-979dc70ca8da",
   "metadata": {},
   "outputs": [],
   "source": [
    "def my_fuction(n, msg):\n",
    "    print('-'* n)\n",
    "    print('msg')            # 입력값을 넣고싶으면 매개변수자리에 넣어줌. 이때 호출을 할때도 사용한 매개변수를 명시해야함.\n",
    "    print('-'* n)                  \n",
    "\n"
   ]
  },
  {
   "cell_type": "code",
   "execution_count": 35,
   "id": "b8b88209-31c3-4202-90a6-a87335e09c1e",
   "metadata": {},
   "outputs": [
    {
     "name": "stdin",
     "output_type": "stream",
     "text": [
      "개수 10\n",
      "입력하세요 안녕하세요\n"
     ]
    },
    {
     "name": "stdout",
     "output_type": "stream",
     "text": [
      "----------\n",
      "msg\n",
      "----------\n"
     ]
    }
   ],
   "source": [
    "n = int(input('개수'))            \n",
    "msg = input('입력하세요')                  \n",
    "\n",
    "my_fuction(n, msg)"
   ]
  },
  {
   "cell_type": "code",
   "execution_count": 80,
   "id": "4b36d5f2-ded2-4d20-8dff-bd6ffdea23a0",
   "metadata": {},
   "outputs": [],
   "source": [
    "def my_add(n, m):\n",
    "    print('합을 출력하겠습니다')\n",
    "    print('%d'% 10+n)"
   ]
  },
  {
   "cell_type": "code",
   "execution_count": 81,
   "id": "806ca9c3-d6da-4fa4-8784-d05768e9abd5",
   "metadata": {},
   "outputs": [
    {
     "name": "stdin",
     "output_type": "stream",
     "text": [
      " 10\n",
      " 5\n"
     ]
    },
    {
     "name": "stdout",
     "output_type": "stream",
     "text": [
      "합을 출력하겠습니다\n"
     ]
    },
    {
     "ename": "TypeError",
     "evalue": "can only concatenate str (not \"int\") to str",
     "output_type": "error",
     "traceback": [
      "\u001b[1;31m---------------------------------------------------------------------------\u001b[0m",
      "\u001b[1;31mTypeError\u001b[0m                                 Traceback (most recent call last)",
      "\u001b[1;32m~\\AppData\\Local\\Temp/ipykernel_10120/699700608.py\u001b[0m in \u001b[0;36m<module>\u001b[1;34m\u001b[0m\n\u001b[0;32m      1\u001b[0m \u001b[0mn\u001b[0m \u001b[1;33m=\u001b[0m \u001b[0mint\u001b[0m\u001b[1;33m(\u001b[0m\u001b[0minput\u001b[0m\u001b[1;33m(\u001b[0m\u001b[1;34m''\u001b[0m\u001b[1;33m)\u001b[0m\u001b[1;33m)\u001b[0m\u001b[1;33m\u001b[0m\u001b[1;33m\u001b[0m\u001b[0m\n\u001b[0;32m      2\u001b[0m \u001b[0mm\u001b[0m \u001b[1;33m=\u001b[0m \u001b[0mint\u001b[0m\u001b[1;33m(\u001b[0m\u001b[0minput\u001b[0m\u001b[1;33m(\u001b[0m\u001b[1;34m''\u001b[0m\u001b[1;33m)\u001b[0m\u001b[1;33m)\u001b[0m\u001b[1;33m\u001b[0m\u001b[1;33m\u001b[0m\u001b[0m\n\u001b[1;32m----> 3\u001b[1;33m \u001b[0mmy_add\u001b[0m\u001b[1;33m(\u001b[0m\u001b[0mn\u001b[0m\u001b[1;33m,\u001b[0m \u001b[0mm\u001b[0m\u001b[1;33m)\u001b[0m\u001b[1;33m\u001b[0m\u001b[1;33m\u001b[0m\u001b[0m\n\u001b[0m",
      "\u001b[1;32m~\\AppData\\Local\\Temp/ipykernel_10120/320521077.py\u001b[0m in \u001b[0;36mmy_add\u001b[1;34m(n, m)\u001b[0m\n\u001b[0;32m      1\u001b[0m \u001b[1;32mdef\u001b[0m \u001b[0mmy_add\u001b[0m\u001b[1;33m(\u001b[0m\u001b[0mn\u001b[0m\u001b[1;33m,\u001b[0m \u001b[0mm\u001b[0m\u001b[1;33m)\u001b[0m\u001b[1;33m:\u001b[0m\u001b[1;33m\u001b[0m\u001b[1;33m\u001b[0m\u001b[0m\n\u001b[0;32m      2\u001b[0m     \u001b[0mprint\u001b[0m\u001b[1;33m(\u001b[0m\u001b[1;34m'합을 출력하겠습니다'\u001b[0m\u001b[1;33m)\u001b[0m\u001b[1;33m\u001b[0m\u001b[1;33m\u001b[0m\u001b[0m\n\u001b[1;32m----> 3\u001b[1;33m     \u001b[0mprint\u001b[0m\u001b[1;33m(\u001b[0m\u001b[1;34m'%d'\u001b[0m\u001b[1;33m%\u001b[0m \u001b[1;36m10\u001b[0m\u001b[1;33m+\u001b[0m\u001b[0mn\u001b[0m\u001b[1;33m)\u001b[0m\u001b[1;33m\u001b[0m\u001b[1;33m\u001b[0m\u001b[0m\n\u001b[0m",
      "\u001b[1;31mTypeError\u001b[0m: can only concatenate str (not \"int\") to str"
     ]
    }
   ],
   "source": [
    "n = int(input(''))\n",
    "m = int(input(''))\n",
    "my_add(n, m)"
   ]
  },
  {
   "cell_type": "code",
   "execution_count": 181,
   "id": "ceb7234f-f717-44fc-af05-466804957480",
   "metadata": {},
   "outputs": [],
   "source": [
    "'''\n",
    "숫자 받아서\n",
    "함수4개\n",
    "합 차 곱 나누기\n",
    "매개변수 2개씩\n",
    "'''\n",
    "\n",
    "def my_p(n, m):\n",
    "    print('합을 출력합니다')\n",
    "    h = n + m\n",
    "    print('%d + %d = %d'%(n,m,h))\n",
    "\n",
    "def my_m(n, m):\n",
    "    print('차를 출력합니다')\n",
    "    if n > m:\n",
    "        h = n - m\n",
    "        print('%d - %d = %d'%(n,m,h))\n",
    "    else:\n",
    "        h = m - n\n",
    "        print('%d - %d = %d'%(m,n,h))\n",
    "def my_x(n, m):\n",
    "    print('곱을 출력합니다')\n",
    "    h = n * m\n",
    "    print('%d * %d = %d'%(n,m,h))\n",
    "def my_n(n, m):\n",
    "    print('나누기를 출력합니다')\n",
    "    if n > m:\n",
    "        h = n / m\n",
    "        print('%d / %d = %d'%(n,m,h))\n",
    "    else:\n",
    "        h = m / n\n",
    "        print('%d / %d = %d'%(m,n,h))"
   ]
  },
  {
   "cell_type": "code",
   "execution_count": 190,
   "id": "afb7ffe2-a86e-47dc-8738-3a71d3e2f6c6",
   "metadata": {},
   "outputs": [
    {
     "name": "stdin",
     "output_type": "stream",
     "text": [
      " 1\n",
      " 5\n"
     ]
    },
    {
     "name": "stdout",
     "output_type": "stream",
     "text": [
      "합을 출력합니다\n",
      "1 + 5 = 6\n",
      "차를 출력합니다\n",
      "5 - 1 = 4\n",
      "곱을 출력합니다\n",
      "1 * 5 = 5\n",
      "나누기를 출력합니다\n",
      "5 / 1 = 5\n"
     ]
    }
   ],
   "source": [
    "n = int(input(''))\n",
    "m = int(input(''))\n",
    "my_p(n, m)\n",
    "my_m(n, m)\n",
    "my_x(n, m)\n",
    "my_n(n, m)"
   ]
  }
 ],
 "metadata": {
  "kernelspec": {
   "display_name": "Python 3 (ipykernel)",
   "language": "python",
   "name": "python3"
  },
  "language_info": {
   "codemirror_mode": {
    "name": "ipython",
    "version": 3
   },
   "file_extension": ".py",
   "mimetype": "text/x-python",
   "name": "python",
   "nbconvert_exporter": "python",
   "pygments_lexer": "ipython3",
   "version": "3.9.7"
  }
 },
 "nbformat": 4,
 "nbformat_minor": 5
}

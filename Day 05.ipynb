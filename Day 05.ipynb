{
 "cells": [
  {
   "cell_type": "markdown",
   "id": "2812a2f7-c910-47f2-8dac-fd368f6bfc25",
   "metadata": {},
   "source": [
    "# Day 05"
   ]
  },
  {
   "cell_type": "markdown",
   "id": "d90eec6d-9996-41b2-b7c1-6fe51d2b0c0c",
   "metadata": {},
   "source": [
    "## Account class"
   ]
  },
  {
   "cell_type": "code",
   "execution_count": 42,
   "id": "25484f43-194d-4e66-b5fc-153ed9cd5068",
   "metadata": {},
   "outputs": [],
   "source": [
    "class Account :\n",
    "    \n",
    "    def __init__ (self, num) :\n",
    "        self.__num = num                      # 생성자\n",
    "        self.__balance = 0 \n",
    "    \n",
    "    def get_num(self) :\n",
    "        return self.__num\n",
    "         \n",
    "    def get_balance(self) :                   # get 함수\n",
    "        return self.__balance\n",
    "\n",
    "    def deposit(self, money) :\n",
    "        self.__balance = self.__balance + money\n",
    "        print('{}원이 입금되었습니다. 현재 잔액은 {}원 입니다.'.format(money, self.__balance))\n",
    "        \n",
    "        return self.__balance\n",
    "    \n",
    "    def withraw(self, money) :\n",
    "        self.__balance = self.__balance - money\n",
    "        \n",
    "        print('{}원이 출금되었습니다. 현재 잔액은 {}원 입니다.'.format(money, self.__balance))\n",
    "        \n",
    "        return self.__balance"
   ]
  },
  {
   "cell_type": "code",
   "execution_count": 50,
   "id": "0e83126d-c4a3-4536-895f-920f431521a9",
   "metadata": {},
   "outputs": [
    {
     "name": "stdout",
     "output_type": "stream",
     "text": [
      "100원이 입금되었습니다. 현재 잔액은 100원 입니다.\n",
      "200원이 입금되었습니다. 현재 잔액은 300원 입니다.\n",
      "400원이 입금되었습니다. 현재 잔액은 700원 입니다.\n",
      "500원이 출금되었습니다. 현재 잔액은 200원 입니다.\n",
      "19500원이 입금되었습니다. 현재 잔액은 19500원 입니다.\n"
     ]
    },
    {
     "data": {
      "text/plain": [
       "19500"
      ]
     },
     "execution_count": 50,
     "metadata": {},
     "output_type": "execute_result"
    }
   ],
   "source": [
    "user1 = Account(1)\n",
    "user2 = Account(2)\n",
    "\n",
    "user1.get_num()\n",
    "\n",
    "user1.get_balance()\n",
    "\n",
    "user1.deposit(100)\n",
    "user1.deposit(200)\n",
    "user1.deposit(400)\n",
    "\n",
    "user1.get_balance()\n",
    "\n",
    "user1.withraw(500)\n",
    "\n",
    "user1.get_balance()\n",
    "\n",
    "user2.deposit(19500)\n",
    "\n",
    "user2.get_balance()"
   ]
  }
 ],
 "metadata": {
  "kernelspec": {
   "display_name": "Python 3 (ipykernel)",
   "language": "python",
   "name": "python3"
  },
  "language_info": {
   "codemirror_mode": {
    "name": "ipython",
    "version": 3
   },
   "file_extension": ".py",
   "mimetype": "text/x-python",
   "name": "python",
   "nbconvert_exporter": "python",
   "pygments_lexer": "ipython3",
   "version": "3.9.7"
  }
 },
 "nbformat": 4,
 "nbformat_minor": 5
}

{
 "cells": [
  {
   "cell_type": "markdown",
   "id": "2812a2f7-c910-47f2-8dac-fd368f6bfc25",
   "metadata": {},
   "source": [
    "# Day 05"
   ]
  },
  {
   "cell_type": "markdown",
   "id": "d90eec6d-9996-41b2-b7c1-6fe51d2b0c0c",
   "metadata": {},
   "source": [
    "## Account class"
   ]
  },
  {
   "cell_type": "code",
   "execution_count": 256,
   "id": "25484f43-194d-4e66-b5fc-153ed9cd5068",
   "metadata": {
    "tags": []
   },
   "outputs": [],
   "source": [
    "class Account :\n",
    "    account_cnt = 0\n",
    "    \n",
    "    def __init__ (self, num) :\n",
    "        self.__num = num                      # 생성자\n",
    "        self.__balance = 0 \n",
    "        Account.account_cnt += 1\n",
    "    \n",
    "    def get_num(self) :\n",
    "        return self.__num\n",
    "         \n",
    "    def get_balance(self) :                   # get 함수\n",
    "        return self.__balance\n",
    "\n",
    "    def deposit(self, money) :\n",
    "        self.__balance = self.__balance + money\n",
    "        print('{}원이 입금되었습니다. 현재 잔액은 {}원 입니다.'.format(money, self.__balance))           # __ : 프라이빗. 다른 셀에서 접근이 불가능함. 접근하기 위해서 get\n",
    "                                                                                                        # 함수를 만들어서 접근해야함. __을 사용시 호출할때도 __을 꼭 붙여야함\n",
    "        return self.__balance\n",
    "    \n",
    "    def withraw(self, money) :\n",
    "        \n",
    "        if self.__balance < money :\n",
    "                print('잔액이 부족합니다')\n",
    "                \n",
    "        else: \n",
    "            self.__balance = self.__balance - money\n",
    "            print('{}원이 출금되었습니다. 현재 잔액은 {}원 입니다.'.format(money, self.__balance))        # 함수내에서는 계산만하고, 프린트는 메인함수로 빼는게 좋다\n",
    "            \n",
    "        return self.__balance\n",
    "    \n",
    "    \n",
    "    def transfer(self, money , other) :                                                                  # other는 다른사람의 account 타입\n",
    "        self.__balance = self.__balance - money\n",
    "        other.__balance = other.__balance + money\n",
    "        print(type(other))\n",
    "        other.set_balance(other.get_balance() + money)                                                   # 다른 클래스에서 가져올때는 get set 함수를 사용해야한다.\n",
    "    \n",
    "    def set_num (self, num) :                                                                            # set은 get의 반대. 입력값은 있지만 리턴값음 없음. 외부에 있는걸 내부로\n",
    "        self.__num = set_num\n",
    "        \n",
    "    def get_num(self) :                                                                                  # get은 리턴값은 있지만 입력값이 없음. 내부에 있는걸 외부로\n",
    "        return self.__num\n",
    "    \n",
    "    def set_balance(self, balance) :\n",
    "        self.__balance = set_balance\n",
    "        \n",
    "    def get_num(self) :\n",
    "        return self.__balance\n",
    "    \n",
    "    @classmethod                                                                                          # 클래스 메소드는 @같은걸 통해서 표기를 하는게 좋다\n",
    "    def print_account_ctn(cls) :\n",
    "        print(cls.account_cnt)                                                                            # self 대신 cls를 사용"
   ]
  },
  {
   "cell_type": "code",
   "execution_count": 249,
   "id": "0e83126d-c4a3-4536-895f-920f431521a9",
   "metadata": {},
   "outputs": [
    {
     "name": "stdout",
     "output_type": "stream",
     "text": [
      "99000원이 입금되었습니다. 현재 잔액은 99000원 입니다.\n",
      "잔액이 부족합니다\n",
      "10000원이 출금되었습니다. 현재 잔액은 89000원 입니다.\n",
      "10\n",
      "<class '__main__.Account'>\n"
     ]
    },
    {
     "data": {
      "text/plain": [
       "89400"
      ]
     },
     "execution_count": 249,
     "metadata": {},
     "output_type": "execute_result"
    }
   ],
   "source": [
    "user1 = Account(1)\n",
    "user2 = Account(2)\n",
    "\n",
    "user1.get_num()\n",
    "\n",
    "user1.get_balance()\n",
    "\n",
    "user2.deposit(99000)\n",
    "\n",
    "user2.withraw(100000)\n",
    "\n",
    "user2.get_balance()\n",
    "\n",
    "user2.withraw(10000)\n",
    "\n",
    "print(Account.account_cnt)\n",
    "\n",
    "user1.transfer(400, user2)\n",
    "\n",
    "user2.get_balance()"
   ]
  },
  {
   "cell_type": "code",
   "execution_count": 915,
   "id": "ad286dee-1784-4601-b5e8-012757fa4d66",
   "metadata": {},
   "outputs": [
    {
     "ename": "SyntaxError",
     "evalue": "EOF while scanning triple-quoted string literal (Temp/ipykernel_6816/1521473460.py, line 7)",
     "output_type": "error",
     "traceback": [
      "\u001b[1;36m  File \u001b[1;32m\"C:\\Users\\BIT\\AppData\\Local\\Temp/ipykernel_6816/1521473460.py\"\u001b[1;36m, line \u001b[1;32m7\u001b[0m\n\u001b[1;33m    ...\u001b[0m\n\u001b[1;37m       \n^\u001b[0m\n\u001b[1;31mSyntaxError\u001b[0m\u001b[1;31m:\u001b[0m EOF while scanning triple-quoted string literal\n"
     ]
    }
   ],
   "source": [
    "'''\n",
    "어카운트를 키보드로 입력받게 만들기\n",
    "1. 계좌를 만들기\n",
    "2. 입금\n",
    "3. 출금\n",
    "4. 송금\n",
    "..."
   ]
  },
  {
   "cell_type": "code",
   "execution_count": 618,
   "id": "bf0c668e-a75b-49d1-bd34-8f6ab55bb805",
   "metadata": {},
   "outputs": [],
   "source": [
    "class Rectangle :\n",
    "    \n",
    "    def __init__ (self, garo, sero) :\n",
    "        self.__garo = garo\n",
    "        self.__sero = sero\n",
    "    \n",
    "    def get_garo (self) :\n",
    "        return self.__garo\n",
    "    \n",
    "    def set_garo (self) :\n",
    "        self.__sero = set_sero \n",
    "   \n",
    "    def get_sero (self) :\n",
    "        return self.__sero\n",
    "    \n",
    "    def set_sero (self) :\n",
    "        self.__sero = set_sero\n",
    "    \n",
    "\n",
    "    def get_area (self) :\n",
    "        a = self.__garo * self.__sero\n",
    "        \n",
    "        return a\n",
    "    \n",
    "    def get_round (self) :\n",
    "        r = (self.__garo + self.__sero) * 2\n",
    "        \n",
    "        return r \n",
    "    \n",
    "    def __repr__ (self) :\n",
    "        return '가로 : {} , 세로 : {}'.format(self.__garo, self.__sero)    # 정해놓은 문자를 출력. str과 같은 용도\n",
    "\n",
    "    def __str__ (self) :\n",
    "        return '가로 : {} , 세로 : {}'.format(self.__garo, self.__sero)\n",
    "    \n",
    "    \n",
    "    \n",
    "    \n",
    "    #def __eq__ (self, other_rect) :                                        # 같다. == 사용\n",
    "        return self.get_area() == other_rect.get_area()\n",
    "    \n",
    "    #def __gt__ (self, other_rect) :\n",
    "        return self.get_area() > other_rect.get_area()                     # 더 크다. great than\n",
    "    \n",
    "    #def __le__                                                             # 작거나 같다. less equal"
   ]
  },
  {
   "cell_type": "code",
   "execution_count": 619,
   "id": "1f529e68-9c4c-4c82-95d5-4ce6476f3fe3",
   "metadata": {},
   "outputs": [
    {
     "name": "stdout",
     "output_type": "stream",
     "text": [
      "[가로 : 10 , 세로 : 20, 가로 : 7 , 세로 : 5, 가로 : 5 , 세로 : 7, 가로 : 9 , 세로 : 8, 가로 : 1 , 세로 : 2]\n"
     ]
    }
   ],
   "source": [
    "r1 = Rectangle(10, 20)\n",
    "r2 = Rectangle(7, 5)\n",
    "r3 = Rectangle(5, 7)\n",
    "r4 = Rectangle(9, 8)\n",
    "r5 = Rectangle(1, 2)\n",
    "\n",
    "rect_list = [r1, r2, r3, r4, r5]\n",
    "\n",
    "print(rect_list)\n"
   ]
  },
  {
   "cell_type": "code",
   "execution_count": 627,
   "id": "297947d4-9eed-4b30-8ec7-94e26ce8ed68",
   "metadata": {},
   "outputs": [
    {
     "name": "stdout",
     "output_type": "stream",
     "text": [
      "[200, 35, 35, 72, 2]\n",
      "344\n",
      "[60, 24, 24, 34, 6]\n",
      "148\n"
     ]
    }
   ],
   "source": [
    "a = list()\n",
    "b = list()\n",
    "for i in rect_list :\n",
    "    a.append(i.get_area())\n",
    "    b.append(i.get_round())\n",
    "print(a)\n",
    "print(sum(a))\n",
    "print(b)\n",
    "print(sum(b))"
   ]
  },
  {
   "cell_type": "markdown",
   "id": "f4ec1efd-fdc4-4649-a9db-83429e89739e",
   "metadata": {},
   "source": [
    "# Module"
   ]
  },
  {
   "cell_type": "code",
   "execution_count": 680,
   "id": "2123b3e9-c46f-40f9-9557-9bf66bb18528",
   "metadata": {},
   "outputs": [
    {
     "name": "stdout",
     "output_type": "stream",
     "text": [
      "2022-01-03 15:51:36.691371\n",
      "2022\n",
      "3\n",
      "Monday\n",
      "2022/1/3\n",
      "Monday\n",
      "<class 'datetime.datetime'>\n",
      "<class 'datetime.datetime'>\n"
     ]
    }
   ],
   "source": [
    "'''\n",
    "한 번 정의했던 변수나 함수,클래스 또는 누가 만들어놓은 변수,함수,클래스 등을 가져와 사용\n",
    "\n",
    "1. import 모듈명\n",
    "2. import 모듈명 as 모듈별명\n",
    "3. from 모듈명 import *\n",
    "4. from 모듈명 import 함수명 or 클래스명\n",
    "'''\n",
    "\n",
    "import math\n",
    "math.sqrt(2)\n",
    "\n",
    "#dir(math)                             # dir 을 쓰면 모듈안에 뭐가 있는지 볼 수 있다.\n",
    "\n",
    "from datetime import datetime\n",
    "#import datetime\n",
    "\n",
    "\n",
    "x = datetime.now()\n",
    "\n",
    "print(x)\n",
    "\n",
    "print(x.year)\n",
    "print(x.day)\n",
    "\n",
    "s = x.strftime('%A')\n",
    "\n",
    "print(s)\n",
    "\n",
    "print('{}/{}/{}\\n{}'.format(x.year, x.month, x.day, s))\n",
    "\n",
    "x.strftime('%Y/%m%d')\n",
    "print(type(x))\n",
    "y = datetime.strptime('2022-01-03','%Y-%m-%d')\n",
    "\n",
    "print(type(y))"
   ]
  },
  {
   "cell_type": "code",
   "execution_count": 912,
   "id": "fb84bebb-45d0-4857-b65d-3aa502e78425",
   "metadata": {},
   "outputs": [
    {
     "name": "stdout",
     "output_type": "stream",
     "text": [
      "Windows\n"
     ]
    }
   ],
   "source": [
    "import platform\n",
    "\n",
    "x = platform.system()\n",
    "\n",
    "print(x)"
   ]
  },
  {
   "cell_type": "code",
   "execution_count": 914,
   "id": "4bb69f38-a785-4a95-a9fe-05bca87c1602",
   "metadata": {},
   "outputs": [
    {
     "name": "stdout",
     "output_type": "stream",
     "text": [
      "0.5983215233910638\n",
      "16\n",
      "['c', 'd', 'a', 'r', 't']\n",
      "d\n"
     ]
    }
   ],
   "source": [
    "import random\n",
    "\n",
    "num = random.random()\n",
    "num2 = random.randint(1, 100)\n",
    "print(num)\n",
    "print(num2)\n",
    "\n",
    "a = ['a','c','d','t','r']\n",
    "random.shuffle(a)\n",
    "b = random.choice(a)\n",
    "print(a)\n",
    "print(b)"
   ]
  },
  {
   "cell_type": "markdown",
   "id": "20dee237-22d7-40f1-9472-3bff9bade560",
   "metadata": {},
   "source": [
    "# Package"
   ]
  },
  {
   "cell_type": "code",
   "execution_count": 928,
   "id": "7b4d6d03-2717-4490-b840-e8ac63f276db",
   "metadata": {},
   "outputs": [
    {
     "data": {
      "text/plain": [
       "'\\n도트(.)를 사용하여 파이썬 모듈을 계층적으로 관리할 수 있게 해준다.\\n파이썬에서 모듈은 하나의 .py 파일이다\\n모듈이 모이면 Package\\nA.B.C(A = 패키지 , B = 모듈 , C = 클래스) \\n\\n1. import 패지키명\\n2. import 패키지명 as 패키지별명\\n3. from 패키지명 import *\\n4. from 패키지명 import 함수명 or 클래스명\\n\\n나한테 없는 패키지는 미리 다운부터 해야하\\n'"
      ]
     },
     "execution_count": 928,
     "metadata": {},
     "output_type": "execute_result"
    }
   ],
   "source": [
    "'''\n",
    "도트(.)를 사용하여 파이썬 모듈을 계층적으로 관리할 수 있게 해준다.\n",
    "파이썬에서 모듈은 하나의 .py 파일이다\n",
    "모듈이 모이면 Package\n",
    "A.B.C(A = 패키지 , B = 모듈 , C = 클래스) \n",
    "\n",
    "1. import 패지키명\n",
    "2. import 패키지명 as 패키지별명\n",
    "3. from 패키지명 import *\n",
    "4. from 패키지명 import 함수명 or 클래스명\n",
    "\n",
    "나한테 없는 패키지는 미리 다운부터 해야하\n",
    "'''\n"
   ]
  },
  {
   "cell_type": "code",
   "execution_count": 926,
   "id": "357fc10f-5990-49aa-9388-a9983b1cd2a8",
   "metadata": {},
   "outputs": [
    {
     "name": "stdout",
     "output_type": "stream",
     "text": [
      "Requirement already satisfied: camelcase in c:\\users\\bit\\anaconda3\\lib\\site-packages (0.2)\n",
      "Note: you may need to restart the kernel to use updated packages.\n"
     ]
    }
   ],
   "source": [
    "pip install camelcase       # 패키시 다운 = pip install 패키지명"
   ]
  },
  {
   "cell_type": "code",
   "execution_count": 933,
   "id": "f6e1fe60-86c3-4e7a-84b4-b5627b998ef2",
   "metadata": {},
   "outputs": [
    {
     "name": "stdout",
     "output_type": "stream",
     "text": [
      "Hello World\n"
     ]
    }
   ],
   "source": [
    "import camelcase as cc\n",
    "\n",
    "c = cc.CamelCase()\n",
    "\n",
    "txt = 'hello world'\n",
    "\n",
    "print(c.hump(txt))"
   ]
  },
  {
   "cell_type": "code",
   "execution_count": 935,
   "id": "a2a19a33-2d9b-4e73-99f5-f77a2d296897",
   "metadata": {},
   "outputs": [],
   "source": [
    "#pip list"
   ]
  },
  {
   "cell_type": "markdown",
   "id": "50974f3d-1bfc-4a0d-a306-1bd48eb481d8",
   "metadata": {},
   "source": [
    "# Json"
   ]
  },
  {
   "cell_type": "code",
   "execution_count": 943,
   "id": "7ee085da-ab59-4f35-bd55-7ff7ef3ee587",
   "metadata": {},
   "outputs": [
    {
     "data": {
      "text/plain": [
       "'\\njason (자바스크립트 오브젝트 노테이션)\\n\\nYAML \\njason 현재 제일 많이 씀\\n\\n'"
      ]
     },
     "execution_count": 943,
     "metadata": {},
     "output_type": "execute_result"
    }
   ],
   "source": [
    "'''\n",
    "jason (자바스크립트 오브젝트 노테이션)\n",
    "\n",
    "YAML \n",
    "jason 현재 제일 많이 씀\n",
    "\n",
    "'''"
   ]
  },
  {
   "cell_type": "code",
   "execution_count": 977,
   "id": "ce9e57da-298f-4bb2-9054-de1521147b05",
   "metadata": {},
   "outputs": [
    {
     "name": "stdout",
     "output_type": "stream",
     "text": [
      "<class 'dict'> {'name': 'john', 'age': 25, 'city': 'new york'}\n",
      "25\n",
      "{\"name\": \"john\", \"age\": 25, \"city\": \"new york\"} <class 'str'>\n"
     ]
    },
    {
     "data": {
      "text/plain": [
       "'\\n자료를 긁어오면 보통 json 형식일 수 있다.\\n그때 형식을 파이썬 딕셔너리로 변환\\n문자열 - 제이슨 - 딕셔너리 형식변환이 잘 이뤄져야함\\n'"
      ]
     },
     "execution_count": 977,
     "metadata": {},
     "output_type": "execute_result"
    }
   ],
   "source": [
    "import json\n",
    "\n",
    "json_string = '''{ \"name\" : \"john\" , \n",
    "                   \"age\"  : 25 , \n",
    "                   \"city\" : \"new york\"}'''\n",
    "\n",
    "python_dict = json.loads(json_string)              # loads = 문자열을 파이썬 딕셔너리로 변환\n",
    "\n",
    "print(type(python_dict),python_dict)\n",
    "print(python_dict[\"age\"])\n",
    "\n",
    "json_string = json.dumps(python_dict)               # dumps = 파이썬 딕셔너리를 문자열로 변환\n",
    "    \n",
    "print(json_string,type(json_string))\n",
    "\n",
    "\n",
    "'''\n",
    "자료를 긁어오면 보통 json 형식일 수 있다.\n",
    "그때 형식을 파이썬 딕셔너리로 변환\n",
    "문자열 - 제이슨 - 딕셔너리 형식변환이 잘 이뤄져야함\n",
    "'''"
   ]
  }
 ],
 "metadata": {
  "kernelspec": {
   "display_name": "Python 3 (ipykernel)",
   "language": "python",
   "name": "python3"
  },
  "language_info": {
   "codemirror_mode": {
    "name": "ipython",
    "version": 3
   },
   "file_extension": ".py",
   "mimetype": "text/x-python",
   "name": "python",
   "nbconvert_exporter": "python",
   "pygments_lexer": "ipython3",
   "version": "3.9.7"
  }
 },
 "nbformat": 4,
 "nbformat_minor": 5
}

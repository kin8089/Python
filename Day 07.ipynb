{
 "cells": [
  {
   "cell_type": "markdown",
   "id": "ad488023-846f-4c70-9daa-c51ba84d66d5",
   "metadata": {},
   "source": [
    "# Day 07"
   ]
  },
  {
   "cell_type": "code",
   "execution_count": 151,
   "id": "380610e5-4b16-4dda-ae05-087a26edf8a5",
   "metadata": {},
   "outputs": [
    {
     "name": "stdout",
     "output_type": "stream",
     "text": [
      "<title>Sample Addresses!</title>\n",
      "title\n",
      "Sample Addresses!\n",
      "Sample Addresses!\n",
      "<li>Cecilia Chapman<br/>711-2880 Nulla St.<br/>Mankato Mississippi 96522<br/>(257) 563-7401</li>\n",
      "<li>Cecilia Chapman<br/>711-2880 Nulla St.<br/>Mankato Mississippi 96522<br/>(257) 563-7401</li>\n"
     ]
    }
   ],
   "source": [
    "import requests\n",
    "\n",
    "from bs4 import BeautifulSoup\n",
    "\n",
    "response = requests.get('https://www.summet.com/dmsi/html/codesamples/addresses.html')\n",
    "#response = requests.get('https://httpbin.org/get')\n",
    "#response = requests.get('https://httpbin.org/put')\n",
    "#response = requests.get('https://httpbin.org/post')\n",
    "#response = requests.get('https://httpbin.org/ip')\n",
    "\n",
    "#print(response.text)\n",
    "\n",
    "html_doc = response.text\n",
    "\n",
    "soup = BeautifulSoup(html_doc, 'html.parser')              # 스트링타입을 뷰티플솦을 통해서 객체로 만들어줘서 메소드를 사용할 수 있다. 거기서 find같은 기능 사용\n",
    "\n",
    "print(soup.title)\n",
    "print(soup.title.name)\n",
    "print(soup.title.string)\n",
    "print(soup.title.text)\n",
    "print(soup.ul.li)\n",
    "print(soup.li)"
   ]
  },
  {
   "cell_type": "code",
   "execution_count": 152,
   "id": "a73348de-b455-4f4a-9537-ec7105db4fcc",
   "metadata": {
    "tags": []
   },
   "outputs": [
    {
     "name": "stdout",
     "output_type": "stream",
     "text": [
      "<h1> A page full of sample addresses for your parsing enjoyment!</h1>\n",
      "[<h1> A page full of sample addresses for your parsing enjoyment!</h1>]\n"
     ]
    }
   ],
   "source": [
    "print(soup.find('h1'))\n",
    "print(soup.find_all('h1'))"
   ]
  },
  {
   "cell_type": "code",
   "execution_count": 153,
   "id": "1f420c5f-a436-46cd-acc2-6e3c80df9983",
   "metadata": {},
   "outputs": [
    {
     "name": "stdout",
     "output_type": "stream",
     "text": [
      "<li>Cecilia Chapman<br/>711-2880 Nulla St.<br/>Mankato Mississippi 96522<br/>(257) 563-7401</li> <class 'bs4.element.Tag'>\n",
      "[<li>Cecilia Chapman<br/>711-2880 Nulla St.<br/>Mankato Mississippi 96522<br/>(257) 563-7401</li>, <li>Iris Watson<br/>P.O. Box 283 8562 Fusce Rd.<br/>Frederick Nebraska 20620<br/>(372) 587-2335</li>, <li>Celeste Slater<br/>606-3727 Ullamcorper. Street<br/>Roseville NH 11523<br/>(786) 713-8616</li>, <li>Theodore Lowe<br/>Ap #867-859 Sit Rd.<br/>Azusa New York 39531<br/>(793) 151-6230</li>, <li>Calista Wise<br/>7292 Dictum Av.<br/>San Antonio MI 47096<br/>(492) 709-6392</li>, <li>Kyla Olsen<br/>Ap #651-8679 Sodales Av.<br/>Tamuning PA 10855<br/>(654) 393-5734</li>, <li>Forrest Ray<br/>191-103 Integer Rd.<br/>Corona New Mexico 08219<br/>(404) 960-3807</li>, <li>Hiroko Potter<br/>P.O. Box 887 2508 Dolor. Av.<br/>Muskegon KY 12482<br/>(314) 244-6306</li>, <li>Nyssa Vazquez<br/>511-5762 At Rd.<br/>Chelsea MI 67708<br/>(947) 278-5929</li>, <li>Lawrence Moreno<br/>935-9940 Tortor. Street<br/>Santa Rosa MN 98804<br/>(684) 579-1879</li>, <li>Ina Moran<br/>P.O. Box 929 4189 Nunc Road<br/>Lebanon KY 69409<br/>(389) 737-2852</li>, <li>Aaron Hawkins<br/>5587 Nunc. Avenue<br/>Erie Rhode Island 24975<br/>(660) 663-4518</li>, <li>Hedy Greene<br/>Ap #696-3279 Viverra. Avenue<br/>Latrobe DE 38100<br/>(608) 265-2215</li>, <li>Melvin Porter<br/>P.O. Box 132 1599 Curabitur Rd.<br/>Bandera South Dakota 45149<br/>(959) 119-8364</li>, <li>Keefe Sellers<br/>347-7666 Iaculis St.<br/>Woodruff SC 49854<br/>(468) 353-2641</li>, <li>Joan Romero<br/>666-4366 Lacinia Avenue<br/>Idaho Falls Ohio 19253<br/>(248) 675-4007</li>, <li>Davis Patrick<br/>P.O. Box 147 2546 Sociosqu Rd.<br/>Bethlehem Utah 02913<br/>(939) 353-1107</li>, <li>Leilani Boyer<br/>557-6308 Lacinia Road<br/>San Bernardino ND 09289<br/>(570) 873-7090</li>, <li>Colby Bernard<br/>Ap #285-7193 Ullamcorper Avenue<br/>Amesbury HI 93373<br/>(302) 259-2375</li>, <li>Bryar Pitts<br/>5543 Aliquet St.<br/>Fort Dodge GA 20783<br/>(717) 450-4729</li>, <li>Rahim Henderson<br/>5037 Diam Rd.<br/>Daly City Ohio 90255<br/>(453) 391-4650</li>, <li>Noelle Adams<br/>6351 Fringilla Avenue<br/>Gardena Colorado 37547<br/>(559) 104-5475</li>, <li>Lillith Daniel<br/>935-1670 Neque. St.<br/>Centennial Delaware 48432<br/>(387) 142-9434</li>, <li>Adria Russell<br/>414-7533 Non Rd.<br/>Miami Beach North Dakota 58563<br/>(516) 745-4496</li>, <li>Hilda Haynes<br/>778-9383 Suspendisse Av.<br/>Weirton IN 93479<br/>(326) 677-3419</li>, <li>Sheila Mcintosh<br/>P.O. Box 360 4407 Et Rd.<br/>Santa Monica FL 30309<br/>(746) 679-2470</li>, <li>Rebecca Chambers<br/>P.O. Box 813 5982 Sit Ave<br/>Liberal Vermont 51324<br/>(455) 430-0989</li>, <li>Christian Emerson<br/>P.O. Box 886 4118 Arcu St.<br/>Rolling Hills Georgia 92358<br/>(490) 936-4694</li>, <li>Nevada Ware<br/>P.O. Box 597 4156 Tincidunt Ave<br/>Green Bay Indiana 19759<br/>(985) 834-8285</li>, <li>Margaret Joseph<br/>P.O. Box 508 3919 Gravida St.<br/>Tamuning Washington 55797<br/>(662) 661-1446</li>, <li>Edward Nieves<br/>928-3313 Vel Av.<br/>Idaho Falls Rhode Island 37232<br/>(802) 668-8240</li>, <li>Imani Talley<br/>P.O. Box 262 4978 Sit St.<br/>Yigo Massachusetts 50654<br/>(477) 768-9247</li>, <li>Bertha Riggs<br/>P.O. Box 206 6639 In St.<br/>Easthampton TN 31626<br/>(791) 239-9057</li>, <li>Wallace Ross<br/>313 Pellentesque Ave<br/>Villa Park Hawaii 43526<br/>(832) 109-0213</li>, <li>Chester Bennett<br/>3476 Aliquet. Ave<br/>Minot AZ 95302<br/>(837) 196-3274</li>, <li>Castor Richardson<br/>P.O. Box 902 3472 Ullamcorper Street<br/>Lynchburg DC 29738<br/>(268) 442-2428</li>, <li>Sonya Jordan<br/>Ap #443-336 Ullamcorper. Street<br/>Visalia VA 54886<br/>(850) 676-5117</li>, <li>Harrison Mcguire<br/>574-8633 Arcu Street<br/>San Fernando ID 77373<br/>(861) 546-5032</li>, <li>Malcolm Long<br/>9291 Proin Road<br/>Lake Charles Maine 11292<br/>(176) 805-4108</li>, <li>Raymond Levy<br/>Ap #643-7006 Risus St.<br/>Beaumont New Mexico 73585<br/>(715) 912-6931</li>, <li>Hedley Ingram<br/>737-2580 At Street<br/>Independence Texas 87535<br/>(993) 554-0563</li>, <li>David Mathews<br/>1011 Malesuada Road<br/>Moscow Kentucky 77382<br/>(357) 616-5411</li>, <li>Xyla Cash<br/>969-1762 Tincidunt Rd.<br/>Boise CT 35282<br/>(121) 347-0086</li>, <li>Madeline Gregory<br/>977-4841 Ut Ave<br/>Walla Walla Michigan 82776<br/>(304) 506-6314</li>, <li>Griffith Daniels<br/>6818 Eget St.<br/>Tacoma AL 92508<br/>(425) 288-2332</li>, <li>Anne Beasley<br/>987-4223 Urna St.<br/>Savannah Illinois 85794<br/>(145) 987-4962</li>, <li>Chaney Bennett<br/>P.O. Box 721 902 Dolor Rd.<br/>Fremont AK 19408<br/>(187) 582-9707</li>, <li>Daniel Bernard<br/>P.O. Box 567 1561 Duis Rd.<br/>Pomona TN 08609<br/>(750) 558-3965</li>, <li>Willow Hunt<br/>Ap #784-1887 Lobortis Ave<br/>Cudahy Ohio 31522<br/>(492) 467-3131</li>, <li>Judith Floyd<br/>361-7936 Feugiat St.<br/>Williston Nevada 58521<br/>(774) 914-2510</li>, <li>Seth Farley<br/>6216 Aenean Avenue<br/>Seattle Utah 81202<br/>(888) 106-8550</li>, <li>Zephania Sanders<br/>3714 Nascetur St.<br/>Hawthorne Louisiana 10626<br/>(539) 567-3573</li>, <li>Calista Merritt<br/>Ap #938-5470 Posuere Ave<br/>Chickasha LA 58520<br/>(693) 337-2849</li>, <li>Craig Williams<br/>P.O. Box 372 5634 Montes Rd.<br/>Springdale MO 57692<br/>(545) 604-9386</li>, <li>Lee Preston<br/>981 Eget Rd.<br/>Clemson GA 04645<br/>(221) 156-5026</li>, <li>Katelyn Cooper<br/>6059 Sollicitudin Road<br/>Burlingame Colorado 26278<br/>(414) 876-0865</li>, <li>Lacy Eaton<br/>1379 Nulla. Av.<br/>Asbury Park Montana 69679<br/>(932) 726-8645</li>, <li>Driscoll Leach<br/>P.O. Box 120 2410 Odio Avenue<br/>Pass Christian Delaware 03869<br/>(726) 710-9826</li>, <li>Merritt Watson<br/>P.O. Box 686 7014 Amet Street<br/>Corona Oklahoma 55246<br/>(622) 594-1662</li>, <li>Nehru Holmes<br/>P.O. Box 547 4764 Sed Road<br/>Grand Rapids CT 87323<br/>(948) 600-8503</li>, <li>Quamar Rivera<br/>427-5827 Ac St.<br/>Schaumburg Arkansas 84872<br/>(605) 900-7508</li>, <li>Hiram Mullins<br/>754-6427 Nunc Ave<br/>Kennewick AL 41329<br/>(716) 977-5775</li>, <li>Kim Fletcher<br/>Ap #345-3847 Metus Road<br/>Independence CO 30135<br/>(368) 239-8275</li>, <li>Rigel Koch<br/>P.O. Box 558 9561 Lacus. Road<br/>Laughlin Hawaii 99602<br/>(725) 342-0650</li>, <li>Jeanette Sharpe<br/>Ap #364-2006 Ipsum Avenue<br/>Wilmington Ohio 91750<br/>(711) 993-5187</li>, <li>Dahlia Lee<br/>1293 Tincidunt Street<br/>Atwater Pennsylvania 76865<br/>(882) 399-5084</li>, <li>Howard Hayden<br/>P.O. Box 847 8019 Facilisis Street<br/>Joliet SC 73490<br/>(287) 755-9948</li>, <li>Hyatt Kramer<br/>1011 Massa Av.<br/>Kent ID 63725<br/>(659) 551-3389</li>, <li>Sonya Ray<br/>Ap #315-8441 Eleifend Street<br/>Fairbanks RI 96892<br/>(275) 730-6868</li>, <li>Cara Whitehead<br/>4005 Praesent St.<br/>Torrance Wyoming 22767<br/>(725) 757-4047</li>, <li>Blythe Carroll<br/>7709 Justo. Ave<br/>Princeton TX 77987<br/>(314) 882-1496</li>, <li>Dale Griffin<br/>P.O. Box 854 8580 In Ave<br/>Revere South Dakota 43841<br/>(639) 360-7590</li>, <li>McKenzie Hernandez<br/>Ap #367-674 Mi Street<br/>Greensboro VT 40684<br/>(168) 222-1592</li>, <li>Haviva Holcomb<br/>P.O. Box 642 3450 In Road<br/>Isle of Palms New York 03828<br/>(896) 303-1164</li>, <li>Ezra Duffy<br/>Ap #782-7348 Dis Rd.<br/>Austin KY 50710<br/>(203) 982-6130</li>, <li>Eleanor Jennings<br/>9631 Semper Ave<br/>Astoria NJ 66309<br/>(906) 217-1470</li>, <li>Remedios Hester<br/>487-5787 Mollis St.<br/>City of Industry Louisiana 67973<br/>(614) 514-1269</li>, <li>Jasper Carney<br/>1195 Lobortis Rd.<br/>New Orleans New Hampshire 71983<br/>(763) 409-5446</li>, <li>Vielka Nielsen<br/>Ap #517-7326 Elementum Rd.<br/>Fort Smith North Dakota 79637<br/>(836) 292-5324</li>, <li>Wilma Pace<br/>Ap #676-6532 Odio Rd.<br/>Darlington CO 06963<br/>(926) 709-3295</li>, <li>Palmer Gay<br/>557-2026 Purus St.<br/>Watertown TN 07367<br/>(963) 356-9268</li>, <li>Lyle Sutton<br/>Ap #250-9843 Elementum St.<br/>South Gate Missouri 68999<br/>(736) 522-8584</li>, <li>Ina Burt<br/>Ap #130-1685 Ut Street<br/>Tyler KS 73510<br/>(410) 483-0352</li>, <li>Cleo Best<br/>282-8351 Tincidunt Ave<br/>Sedalia Utah 53700<br/>(252) 204-1434</li>, <li>Hu Park<br/>1429 Netus Rd.<br/>Reedsport NY 48247<br/>(874) 886-4174</li>, <li>Liberty Walton<br/>343-6527 Purus. Avenue<br/>Logan NV 12657<br/>(581) 379-7573</li>, <li>Aaron Trujillo<br/>Ap #146-3132 Cras Rd.<br/>Kingsport NH 56618<br/>(983) 632-8597</li>, <li>Elmo Lopez<br/>Ap #481-7473 Cum Rd.<br/>Yorba Linda South Carolina 28423<br/>(295) 983-3476</li>, <li>Emerson Espinoza<br/>Ap #247-5577 Tincidunt St.<br/>Corpus Christi WI 97020<br/>(873) 392-8802</li>, <li>Daniel Malone<br/>2136 Adipiscing Av.<br/>Lima RI 93490<br/>(360) 669-3923</li>, <li>Dante Bennett<br/>481-8762 Nulla Street<br/>Dearborn OR 62401<br/>(840) 987-9449</li>, <li>Sade Higgins<br/>Ap #287-3260 Ut St.<br/>Wilmington OR 05182<br/>(422) 517-6053</li>, <li>Zorita Anderson<br/>1964 Facilisis Avenue<br/>Bell Gardens Texas 87065<br/>(126) 940-2753</li>, <li>Jordan Calderon<br/>430-985 Eleifend St.<br/>Duluth Washington 92611<br/>(427) 930-5255</li>, <li>Ivor Delgado<br/>Ap #310-1678 Ut Av.<br/>Santa Barbara MT 88317<br/>(689) 721-5145</li>, <li>Pascale Patton<br/>P.O. Box 399 4275 Amet Street<br/>West Allis NC 36734<br/>(676) 334-2174</li>, <li>Nasim Strong<br/>Ap #630-3889 Nulla. Street<br/>Watervliet Oklahoma 70863<br/>(437) 994-5270</li>, <li>Keaton Underwood<br/>Ap #636-8082 Arcu Avenue<br/>Thiensville Maryland 19587<br/>(564) 908-6970</li>, <li>Keegan Blair<br/>Ap #761-2515 Egestas. Rd.<br/>Manitowoc TN 07528<br/>(577) 333-6244</li>, <li>Tamara Howe<br/>3415 Lobortis. Avenue<br/>Rocky Mount WA 48580<br/>(655) 840-6139</li>] <class 'bs4.element.ResultSet'>\n"
     ]
    }
   ],
   "source": [
    "print(soup.find('li'),type(soup.find('li')))\n",
    "print(soup.find_all('li'), type(soup.find_all('li')))"
   ]
  },
  {
   "cell_type": "code",
   "execution_count": 154,
   "id": "d8722736-444e-4e5e-ae66-89452f35d519",
   "metadata": {},
   "outputs": [
    {
     "name": "stdout",
     "output_type": "stream",
     "text": [
      "Cecilia Chapman711-2880 Nulla St.Mankato Mississippi 96522(257) 563-7401\n",
      "Iris WatsonP.O. Box 283 8562 Fusce Rd.Frederick Nebraska 20620(372) 587-2335\n",
      "Celeste Slater606-3727 Ullamcorper. StreetRoseville NH 11523(786) 713-8616\n",
      "Theodore LoweAp #867-859 Sit Rd.Azusa New York 39531(793) 151-6230\n",
      "Calista Wise7292 Dictum Av.San Antonio MI 47096(492) 709-6392\n",
      "Kyla OlsenAp #651-8679 Sodales Av.Tamuning PA 10855(654) 393-5734\n",
      "Forrest Ray191-103 Integer Rd.Corona New Mexico 08219(404) 960-3807\n",
      "Hiroko PotterP.O. Box 887 2508 Dolor. Av.Muskegon KY 12482(314) 244-6306\n",
      "Nyssa Vazquez511-5762 At Rd.Chelsea MI 67708(947) 278-5929\n",
      "Lawrence Moreno935-9940 Tortor. StreetSanta Rosa MN 98804(684) 579-1879\n",
      "Ina MoranP.O. Box 929 4189 Nunc RoadLebanon KY 69409(389) 737-2852\n",
      "Aaron Hawkins5587 Nunc. AvenueErie Rhode Island 24975(660) 663-4518\n",
      "Hedy GreeneAp #696-3279 Viverra. AvenueLatrobe DE 38100(608) 265-2215\n",
      "Melvin PorterP.O. Box 132 1599 Curabitur Rd.Bandera South Dakota 45149(959) 119-8364\n",
      "Keefe Sellers347-7666 Iaculis St.Woodruff SC 49854(468) 353-2641\n",
      "Joan Romero666-4366 Lacinia AvenueIdaho Falls Ohio 19253(248) 675-4007\n",
      "Davis PatrickP.O. Box 147 2546 Sociosqu Rd.Bethlehem Utah 02913(939) 353-1107\n",
      "Leilani Boyer557-6308 Lacinia RoadSan Bernardino ND 09289(570) 873-7090\n",
      "Colby BernardAp #285-7193 Ullamcorper AvenueAmesbury HI 93373(302) 259-2375\n",
      "Bryar Pitts5543 Aliquet St.Fort Dodge GA 20783(717) 450-4729\n",
      "Rahim Henderson5037 Diam Rd.Daly City Ohio 90255(453) 391-4650\n",
      "Noelle Adams6351 Fringilla AvenueGardena Colorado 37547(559) 104-5475\n",
      "Lillith Daniel935-1670 Neque. St.Centennial Delaware 48432(387) 142-9434\n",
      "Adria Russell414-7533 Non Rd.Miami Beach North Dakota 58563(516) 745-4496\n",
      "Hilda Haynes778-9383 Suspendisse Av.Weirton IN 93479(326) 677-3419\n",
      "Sheila McintoshP.O. Box 360 4407 Et Rd.Santa Monica FL 30309(746) 679-2470\n",
      "Rebecca ChambersP.O. Box 813 5982 Sit AveLiberal Vermont 51324(455) 430-0989\n",
      "Christian EmersonP.O. Box 886 4118 Arcu St.Rolling Hills Georgia 92358(490) 936-4694\n",
      "Nevada WareP.O. Box 597 4156 Tincidunt AveGreen Bay Indiana 19759(985) 834-8285\n",
      "Margaret JosephP.O. Box 508 3919 Gravida St.Tamuning Washington 55797(662) 661-1446\n",
      "Edward Nieves928-3313 Vel Av.Idaho Falls Rhode Island 37232(802) 668-8240\n",
      "Imani TalleyP.O. Box 262 4978 Sit St.Yigo Massachusetts 50654(477) 768-9247\n",
      "Bertha RiggsP.O. Box 206 6639 In St.Easthampton TN 31626(791) 239-9057\n",
      "Wallace Ross313 Pellentesque AveVilla Park Hawaii 43526(832) 109-0213\n",
      "Chester Bennett3476 Aliquet. AveMinot AZ 95302(837) 196-3274\n",
      "Castor RichardsonP.O. Box 902 3472 Ullamcorper StreetLynchburg DC 29738(268) 442-2428\n",
      "Sonya JordanAp #443-336 Ullamcorper. StreetVisalia VA 54886(850) 676-5117\n",
      "Harrison Mcguire574-8633 Arcu StreetSan Fernando ID 77373(861) 546-5032\n",
      "Malcolm Long9291 Proin RoadLake Charles Maine 11292(176) 805-4108\n",
      "Raymond LevyAp #643-7006 Risus St.Beaumont New Mexico 73585(715) 912-6931\n",
      "Hedley Ingram737-2580 At StreetIndependence Texas 87535(993) 554-0563\n",
      "David Mathews1011 Malesuada RoadMoscow Kentucky 77382(357) 616-5411\n",
      "Xyla Cash969-1762 Tincidunt Rd.Boise CT 35282(121) 347-0086\n",
      "Madeline Gregory977-4841 Ut AveWalla Walla Michigan 82776(304) 506-6314\n",
      "Griffith Daniels6818 Eget St.Tacoma AL 92508(425) 288-2332\n",
      "Anne Beasley987-4223 Urna St.Savannah Illinois 85794(145) 987-4962\n",
      "Chaney BennettP.O. Box 721 902 Dolor Rd.Fremont AK 19408(187) 582-9707\n",
      "Daniel BernardP.O. Box 567 1561 Duis Rd.Pomona TN 08609(750) 558-3965\n",
      "Willow HuntAp #784-1887 Lobortis AveCudahy Ohio 31522(492) 467-3131\n",
      "Judith Floyd361-7936 Feugiat St.Williston Nevada 58521(774) 914-2510\n",
      "Seth Farley6216 Aenean AvenueSeattle Utah 81202(888) 106-8550\n",
      "Zephania Sanders3714 Nascetur St.Hawthorne Louisiana 10626(539) 567-3573\n",
      "Calista MerrittAp #938-5470 Posuere AveChickasha LA 58520(693) 337-2849\n",
      "Craig WilliamsP.O. Box 372 5634 Montes Rd.Springdale MO 57692(545) 604-9386\n",
      "Lee Preston981 Eget Rd.Clemson GA 04645(221) 156-5026\n",
      "Katelyn Cooper6059 Sollicitudin RoadBurlingame Colorado 26278(414) 876-0865\n",
      "Lacy Eaton1379 Nulla. Av.Asbury Park Montana 69679(932) 726-8645\n",
      "Driscoll LeachP.O. Box 120 2410 Odio AvenuePass Christian Delaware 03869(726) 710-9826\n",
      "Merritt WatsonP.O. Box 686 7014 Amet StreetCorona Oklahoma 55246(622) 594-1662\n",
      "Nehru HolmesP.O. Box 547 4764 Sed RoadGrand Rapids CT 87323(948) 600-8503\n",
      "Quamar Rivera427-5827 Ac St.Schaumburg Arkansas 84872(605) 900-7508\n",
      "Hiram Mullins754-6427 Nunc AveKennewick AL 41329(716) 977-5775\n",
      "Kim FletcherAp #345-3847 Metus RoadIndependence CO 30135(368) 239-8275\n",
      "Rigel KochP.O. Box 558 9561 Lacus. RoadLaughlin Hawaii 99602(725) 342-0650\n",
      "Jeanette SharpeAp #364-2006 Ipsum AvenueWilmington Ohio 91750(711) 993-5187\n",
      "Dahlia Lee1293 Tincidunt StreetAtwater Pennsylvania 76865(882) 399-5084\n",
      "Howard HaydenP.O. Box 847 8019 Facilisis StreetJoliet SC 73490(287) 755-9948\n",
      "Hyatt Kramer1011 Massa Av.Kent ID 63725(659) 551-3389\n",
      "Sonya RayAp #315-8441 Eleifend StreetFairbanks RI 96892(275) 730-6868\n",
      "Cara Whitehead4005 Praesent St.Torrance Wyoming 22767(725) 757-4047\n",
      "Blythe Carroll7709 Justo. AvePrinceton TX 77987(314) 882-1496\n",
      "Dale GriffinP.O. Box 854 8580 In AveRevere South Dakota 43841(639) 360-7590\n",
      "McKenzie HernandezAp #367-674 Mi StreetGreensboro VT 40684(168) 222-1592\n",
      "Haviva HolcombP.O. Box 642 3450 In RoadIsle of Palms New York 03828(896) 303-1164\n",
      "Ezra DuffyAp #782-7348 Dis Rd.Austin KY 50710(203) 982-6130\n",
      "Eleanor Jennings9631 Semper AveAstoria NJ 66309(906) 217-1470\n",
      "Remedios Hester487-5787 Mollis St.City of Industry Louisiana 67973(614) 514-1269\n",
      "Jasper Carney1195 Lobortis Rd.New Orleans New Hampshire 71983(763) 409-5446\n",
      "Vielka NielsenAp #517-7326 Elementum Rd.Fort Smith North Dakota 79637(836) 292-5324\n",
      "Wilma PaceAp #676-6532 Odio Rd.Darlington CO 06963(926) 709-3295\n",
      "Palmer Gay557-2026 Purus St.Watertown TN 07367(963) 356-9268\n",
      "Lyle SuttonAp #250-9843 Elementum St.South Gate Missouri 68999(736) 522-8584\n",
      "Ina BurtAp #130-1685 Ut StreetTyler KS 73510(410) 483-0352\n",
      "Cleo Best282-8351 Tincidunt AveSedalia Utah 53700(252) 204-1434\n",
      "Hu Park1429 Netus Rd.Reedsport NY 48247(874) 886-4174\n",
      "Liberty Walton343-6527 Purus. AvenueLogan NV 12657(581) 379-7573\n",
      "Aaron TrujilloAp #146-3132 Cras Rd.Kingsport NH 56618(983) 632-8597\n",
      "Elmo LopezAp #481-7473 Cum Rd.Yorba Linda South Carolina 28423(295) 983-3476\n",
      "Emerson EspinozaAp #247-5577 Tincidunt St.Corpus Christi WI 97020(873) 392-8802\n",
      "Daniel Malone2136 Adipiscing Av.Lima RI 93490(360) 669-3923\n",
      "Dante Bennett481-8762 Nulla StreetDearborn OR 62401(840) 987-9449\n",
      "Sade HigginsAp #287-3260 Ut St.Wilmington OR 05182(422) 517-6053\n",
      "Zorita Anderson1964 Facilisis AvenueBell Gardens Texas 87065(126) 940-2753\n",
      "Jordan Calderon430-985 Eleifend St.Duluth Washington 92611(427) 930-5255\n",
      "Ivor DelgadoAp #310-1678 Ut Av.Santa Barbara MT 88317(689) 721-5145\n",
      "Pascale PattonP.O. Box 399 4275 Amet StreetWest Allis NC 36734(676) 334-2174\n",
      "Nasim StrongAp #630-3889 Nulla. StreetWatervliet Oklahoma 70863(437) 994-5270\n",
      "Keaton UnderwoodAp #636-8082 Arcu AvenueThiensville Maryland 19587(564) 908-6970\n",
      "Keegan BlairAp #761-2515 Egestas. Rd.Manitowoc TN 07528(577) 333-6244\n",
      "Tamara Howe3415 Lobortis. AvenueRocky Mount WA 48580(655) 840-6139\n"
     ]
    }
   ],
   "source": [
    "li_list = soup.find_all('li')\n",
    "\n",
    "for li in li_list :\n",
    "    #print(li, type(li))\n",
    "    print(li.get_text())"
   ]
  },
  {
   "cell_type": "code",
   "execution_count": 155,
   "id": "a0aa37d5-8adb-48a3-989c-c9a381570789",
   "metadata": {},
   "outputs": [
    {
     "data": {
      "text/plain": [
       "'\\nherf = 속성 / 뉴스스탠드 바로가기 = 값\\n\\nid + class = html 과 css를 연결해주는 역할\\n# = id , . = class 가르킨다\\n\\nid는 한개만 적용\\nclass는 같은 클래스는 전부 적용\\n'"
      ]
     },
     "execution_count": 155,
     "metadata": {},
     "output_type": "execute_result"
    }
   ],
   "source": [
    "import requests\n",
    "\n",
    "from bs4 import BeautifulSoup\n",
    "\n",
    "response = requests.get('https://www.naver.com/')\n",
    "\n",
    "html_doc = response.text\n",
    "\n",
    "soup = BeautifulSoup(html_doc, 'html.parser')           # html문서로 인식하겠다\n",
    "\n",
    "'''\n",
    "herf = 속성 / 뉴스스탠드 바로가기 = 값\n",
    "\n",
    "id + class = html 과 css를 연결해주는 역할\n",
    "# = id , . = class 가르킨다\n",
    "\n",
    "id는 한개만 적용\n",
    "class는 같은 클래스는 전부 적용\n",
    "'''\n"
   ]
  },
  {
   "cell_type": "code",
   "execution_count": 156,
   "id": "e620c295-7213-49be-a8d1-6be227a0da40",
   "metadata": {},
   "outputs": [
    {
     "data": {
      "text/plain": [
       "[<span class=\"blind\">쇼핑</span>]"
      ]
     },
     "execution_count": 156,
     "metadata": {},
     "output_type": "execute_result"
    }
   ],
   "source": [
    "soup.find_all('a', {'herf':'#newsstand'})\n",
    "\n",
    "#soup.find_all(type = 'button')\n",
    "soup.find_all('button', {'type':'button'})\n",
    "\n",
    "soup.select('a > span')                                 # find all과 비슷.  > 는 부모 자식관계를 나타냄\n",
    "\n",
    "soup.select('#header > div.special_bg > div > div.service_area > a.link_jrnaver > span')   # 웹 f12창에서 copy - copy selector로 가져옴\n",
    "\n",
    "soup.select('#header > div.special_bg > div > div.service_area > a.link_happybin > span')\n",
    "\n",
    "soup.select('#NM_FAVORITE > div.group_nav > ul.list_nav.type_fix > li:nth-child(5) > a > span')"
   ]
  },
  {
   "cell_type": "code",
   "execution_count": 157,
   "id": "a891b1b0-f826-4880-9851-5efe2934a4da",
   "metadata": {},
   "outputs": [],
   "source": [
    "import requests\n",
    "\n",
    "from bs4 import BeautifulSoup\n",
    "\n",
    "response = requests.get('https://search.naver.com/search.naver?sm=tab_hty.top&where=nexearch&query=bts&oquery=bst&tqi=hORiPwprvh8ssCL7tBZssssstlZ-166708')\n",
    "\n",
    "html_doc = response.text\n",
    "\n",
    "soup = BeautifulSoup(html_doc, 'html.parser')"
   ]
  },
  {
   "cell_type": "code",
   "execution_count": 158,
   "id": "5b0be616-26c1-4245-833d-7820103c9313",
   "metadata": {},
   "outputs": [
    {
     "name": "stdout",
     "output_type": "stream",
     "text": [
      "['_blank']\n",
      "['_blank']\n"
     ]
    }
   ],
   "source": [
    "#tag = soup.select_one('#main_pack > section > div > div.group_news > ul')\n",
    "# tag 변수를 사용해야 tag.select를 할 수 있다. 다른변수에 저장하면 타입이 list이기 때문에 .find같은 메소드를 사용 불가능.\n",
    "\n",
    "my = soup.select_one('li > div > ul')\n",
    "\n",
    "mylist = my.select('li > span > a')\n",
    "\n",
    "#print(mylist)\n",
    "\n",
    "for i in mylist :\n",
    "    #print(i)\n",
    "    #print(i.get_text())\n",
    "    print(i.get_attribute_list('target'))\n",
    "    #print(i)"
   ]
  },
  {
   "cell_type": "code",
   "execution_count": 159,
   "id": "db731544-4dd3-4679-87d9-2c389f75dca5",
   "metadata": {},
   "outputs": [],
   "source": [
    "import requests\n",
    "\n",
    "from bs4 import BeautifulSoup\n",
    "\n",
    "response = requests.get('https://sports.news.naver.com/index')\n",
    "\n",
    "html_doc = response.text\n",
    "\n",
    "soup = BeautifulSoup(html_doc, 'html.parser')\n"
   ]
  },
  {
   "cell_type": "code",
   "execution_count": 160,
   "id": "00584079-9ae7-415b-82ed-dd0b68725d94",
   "metadata": {},
   "outputs": [
    {
     "name": "stdout",
     "output_type": "stream",
     "text": [
      "['SON 프리킥 상황…\"PK 선언됐어야! 의심의 여지 없다\"']\n"
     ]
    }
   ],
   "source": [
    "mylist = soup.select('#content > div > div.today_section.type_no_da > ul > li:nth-child(1) > a')\n",
    "\n",
    "#print(mylist)\n",
    "\n",
    "for i in mylist :\n",
    "    #print(i)\n",
    "    #print(i.get_text())\n",
    "    print(i.get_attribute_list('title'))\n",
    "    #print(i)"
   ]
  },
  {
   "cell_type": "markdown",
   "id": "1feae9d3-314a-4093-a9f2-098eafd6efe8",
   "metadata": {},
   "source": [
    "# Web Crawling"
   ]
  },
  {
   "cell_type": "markdown",
   "id": "29edbcee-6dc2-463e-b316-653d9dffaebc",
   "metadata": {},
   "source": [
    "## selenium"
   ]
  },
  {
   "cell_type": "code",
   "execution_count": 184,
   "id": "9fd123f3-54f2-4ee3-922e-82e3af14b125",
   "metadata": {},
   "outputs": [
    {
     "name": "stderr",
     "output_type": "stream",
     "text": [
      "C:\\Users\\BIT\\AppData\\Local\\Temp/ipykernel_4392/3669721531.py:3: DeprecationWarning: executable_path has been deprecated, please pass in a Service object\n",
      "  driver = webdriver.Chrome('driver/chromedriver')\n",
      "C:\\Users\\BIT\\AppData\\Local\\Temp/ipykernel_4392/3669721531.py:8: DeprecationWarning: find_element_by_* commands are deprecated. Please use find_element() instead\n",
      "  login = driver.find_element_by_id('id')\n",
      "C:\\Users\\BIT\\AppData\\Local\\Temp/ipykernel_4392/3669721531.py:14: DeprecationWarning: find_element_by_* commands are deprecated. Please use find_element() instead\n",
      "  login = driver.find_element_by_id('pw')\n",
      "C:\\Users\\BIT\\AppData\\Local\\Temp/ipykernel_4392/3669721531.py:23: DeprecationWarning: find_element_by_* commands are deprecated. Please use find_element() instead\n",
      "  driver.find_element_by_xpath(xpath).click()\n"
     ]
    }
   ],
   "source": [
    "from selenium import webdriver\n",
    "\n",
    "driver = webdriver.Chrome('driver/chromedriver')\n",
    "driver.get('https://nid.naver.com/nidlogin.login?mode=form&url=https%3A%2F%2Fwww.naver.com')\n",
    "\n",
    "#driver.save_screenshot('001.png')                 # 현재 화면 스크린샷        / element  = tag (p,a 등)\n",
    "\n",
    "login = driver.find_element_by_id('id')\n",
    "\n",
    "login.clear()\n",
    "\n",
    "login.send_keys('kin8089')\n",
    "\n",
    "login = driver.find_element_by_id('pw')\n",
    "\n",
    "login.clear()\n",
    "\n",
    "login.send_keys('rlawhdans8089')\n",
    "\n",
    "driver.implicitly_wait(30)\n",
    "\n",
    "xpath = '''//*[@id='log.login']'''\n",
    "driver.find_element_by_xpath(xpath).click()"
   ]
  },
  {
   "cell_type": "code",
   "execution_count": 227,
   "id": "f05320c4-f9fd-4df2-998a-cd5b65123b3b",
   "metadata": {},
   "outputs": [
    {
     "name": "stderr",
     "output_type": "stream",
     "text": [
      "C:\\Users\\BIT\\AppData\\Local\\Temp/ipykernel_4392/3437918083.py:5: DeprecationWarning: executable_path has been deprecated, please pass in a Service object\n",
      "  driver = webdriver.Chrome('driver/chromedriver')\n",
      "C:\\Users\\BIT\\AppData\\Local\\Temp/ipykernel_4392/3437918083.py:11: DeprecationWarning: find_element_by_* commands are deprecated. Please use find_element() instead\n",
      "  search = driver.find_element_by_xpath('/html/body/div[1]/div[3]/form/div[1]/div[1]/div[1]/div[2]/div[2]/input')\n",
      "C:\\Users\\BIT\\AppData\\Local\\Temp/ipykernel_4392/3437918083.py:17: DeprecationWarning: find_element_by_* commands are deprecated. Please use find_element() instead\n",
      "  driver.find_element_by_xpath(click).click()\n"
     ]
    }
   ],
   "source": [
    "from selenium import webdriver\n",
    "\n",
    "from selenium.webdriver.common.keys import Keys\n",
    "\n",
    "driver = webdriver.Chrome('driver/chromedriver')\n",
    " \n",
    "driver.implicitly_wait(5)                           # 지연시간을 안걸어주면 처리 속도가 빨라서 정상적으로 작동을 못하는 경우가 있음\n",
    "\n",
    "driver.get('https://www.google.co.kr/')\n",
    "\n",
    "search = driver.find_element_by_xpath('/html/body/div[1]/div[3]/form/div[1]/div[1]/div[1]/div[2]/div[2]/input')\n",
    "\n",
    "search.send_keys('home')\n",
    "#search.send_keys(Keys.ENTER)                       # 엔터키같은 키를 사용하려면 모듈을 추가로 불러와야한다.\n",
    "\n",
    "click = '/html/body/div[1]/div[3]/form/div[1]/div[1]/div[2]/div[2]/div[5]/center/input[1]'\n",
    "driver.find_element_by_xpath(click).click()"
   ]
  },
  {
   "cell_type": "code",
   "execution_count": null,
   "id": "822edbe3-c384-44a8-8e8d-23c316d8e086",
   "metadata": {},
   "outputs": [],
   "source": [
    "'''\n",
    "ctrl + shift + c = 웹페이지에서 원하는 요소 지정하기\n",
    "\n",
    "'''\n",
    "\n"
   ]
  },
  {
   "cell_type": "code",
   "execution_count": 259,
   "id": "8f511695-8257-4003-9309-4d30dc060f79",
   "metadata": {},
   "outputs": [
    {
     "name": "stderr",
     "output_type": "stream",
     "text": [
      "C:\\Users\\BIT\\AppData\\Local\\Temp/ipykernel_4392/842816222.py:5: DeprecationWarning: executable_path has been deprecated, please pass in a Service object\n",
      "  driver = webdriver.Chrome('driver/chromedriver')\n",
      "C:\\Users\\BIT\\AppData\\Local\\Temp/ipykernel_4392/842816222.py:11: DeprecationWarning: find_element_by_* commands are deprecated. Please use find_element() instead\n",
      "  search = driver.find_element_by_xpath('/html/body/div[1]/div[3]/form/div[1]/div[1]/div[1]/div[2]/div[2]/input')\n",
      "C:\\Users\\BIT\\AppData\\Local\\Temp/ipykernel_4392/842816222.py:19: DeprecationWarning: find_element_by_* commands are deprecated. Please use find_element() instead\n",
      "  driver.find_element_by_xpath(click).click()\n",
      "C:\\Users\\BIT\\AppData\\Local\\Temp/ipykernel_4392/842816222.py:21: DeprecationWarning: find_element_by_* commands are deprecated. Please use find_element() instead\n",
      "  driver.find_element_by_xpath(click1).click()\n",
      "C:\\Users\\BIT\\AppData\\Local\\Temp/ipykernel_4392/842816222.py:23: DeprecationWarning: find_element_by_* commands are deprecated. Please use find_element() instead\n",
      "  search1 = driver.find_element_by_xpath('//*[@id=\"searchboxinput\"]')\n",
      "C:\\Users\\BIT\\AppData\\Local\\Temp/ipykernel_4392/842816222.py:33: DeprecationWarning: find_element_by_* commands are deprecated. Please use find_element() instead\n",
      "  driver.find_element_by_xpath(click3).click()\n",
      "C:\\Users\\BIT\\AppData\\Local\\Temp/ipykernel_4392/842816222.py:37: DeprecationWarning: find_element_by_* commands are deprecated. Please use find_element() instead\n",
      "  driver.find_element_by_xpath(click4).click()\n"
     ]
    }
   ],
   "source": [
    "from selenium import webdriver\n",
    "\n",
    "from selenium.webdriver.common.keys import Keys\n",
    "\n",
    "driver = webdriver.Chrome('driver/chromedriver')\n",
    " \n",
    "driver.implicitly_wait(5)                          \n",
    "\n",
    "driver.get('https://www.google.co.kr/')\n",
    "\n",
    "search = driver.find_element_by_xpath('/html/body/div[1]/div[3]/form/div[1]/div[1]/div[1]/div[2]/div[2]/input')\n",
    "\n",
    "search.send_keys('구글맵')\n",
    "\n",
    "click = '/html/body/div[1]/div[3]/form/div[1]/div[1]/div[2]/div[2]/div[5]/center/input[1]'\n",
    "\n",
    "click1 = '//*[@id=\"rso\"]/div[1]/div/div/div/div/div/div[1]/a/h3'\n",
    "\n",
    "driver.find_element_by_xpath(click).click()\n",
    "\n",
    "driver.find_element_by_xpath(click1).click()\n",
    "\n",
    "search1 = driver.find_element_by_xpath('//*[@id=\"searchboxinput\"]')\n",
    "\n",
    "search1.send_keys('비트아카데미')\n",
    "\n",
    "search1.send_keys(Keys.ENTER)\n",
    "\n",
    "#click2 = '//*[@id=\"searchbox-searchbutton\"]'\n",
    "\n",
    "click3 = '//*[@id=\"pane\"]/div/div[1]/div/div/div[2]/div[1]/div[1]/div[2]/div/div[1]/span[1]/span/span/span[2]/span[1]/button'\n",
    "\n",
    "driver.find_element_by_xpath(click3).click()\n",
    "\n",
    "click4 = '//*[@id=\"pane\"]/div/div[1]/div/div/div[2]/div[4]/div/button/span'\n",
    "\n",
    "driver.find_element_by_xpath(click4).click()\n",
    "\n",
    "\n",
    "#bit = driver.page_source.\n"
   ]
  }
 ],
 "metadata": {
  "kernelspec": {
   "display_name": "Python 3 (ipykernel)",
   "language": "python",
   "name": "python3"
  },
  "language_info": {
   "codemirror_mode": {
    "name": "ipython",
    "version": 3
   },
   "file_extension": ".py",
   "mimetype": "text/x-python",
   "name": "python",
   "nbconvert_exporter": "python",
   "pygments_lexer": "ipython3",
   "version": "3.9.7"
  }
 },
 "nbformat": 4,
 "nbformat_minor": 5
}

{
 "cells": [
  {
   "cell_type": "markdown",
   "id": "d498febe-6235-42c2-9465-46d9083f0562",
   "metadata": {},
   "source": [
    "# Day 01"
   ]
  },
  {
   "cell_type": "code",
   "execution_count": 3,
   "id": "e01547c7-9213-4484-84a4-bdcd1ef59826",
   "metadata": {},
   "outputs": [
    {
     "name": "stdout",
     "output_type": "stream",
     "text": [
      "1\n",
      "3.0\n",
      "5.0\n",
      "안녕하세요\n",
      "내이름은 \n",
      "김종문입니다\n",
      "안녕하세요 \t김종문입니다\n"
     ]
    }
   ],
   "source": [
    "print(1)\n",
    "print(3.0)\n",
    "print(5.0)\n",
    "print('안녕하세요')\n",
    "print('내이름은 \\n김종문입니다') # \\n 줄바꾸기\n",
    "print('안녕하세요 \\t김종문입니다') #\\t 탭문자(많이 띄우기)"
   ]
  },
  {
   "cell_type": "code",
   "execution_count": 45,
   "id": "de20b784-5291-4c50-a67d-d54c9ac3af6d",
   "metadata": {},
   "outputs": [
    {
     "name": "stdin",
     "output_type": "stream",
     "text": [
      "이름을 입력하세요 김종문\n"
     ]
    },
    {
     "data": {
      "text/plain": [
       "'김종문'"
      ]
     },
     "execution_count": 45,
     "metadata": {},
     "output_type": "execute_result"
    }
   ],
   "source": [
    "input('이름을 입력하세요')"
   ]
  },
  {
   "cell_type": "code",
   "execution_count": 14,
   "id": "a5f08f8c-45b7-4341-81fb-d6987d0191d2",
   "metadata": {},
   "outputs": [
    {
     "name": "stdout",
     "output_type": "stream",
     "text": [
      "안녕하세요\n",
      "안녕하세요.\n"
     ]
    }
   ],
   "source": [
    "print('안녕하세요')   ; print('안녕하세요.')"
   ]
  },
  {
   "cell_type": "code",
   "execution_count": 23,
   "id": "564efdfe-e31a-4d55-a785-3d340d903500",
   "metadata": {},
   "outputs": [
    {
     "name": "stdout",
     "output_type": "stream",
     "text": [
      "안녕\n"
     ]
    }
   ],
   "source": [
    "'''\n",
    "안녕하세요\n",
    "'''\n",
    "\n",
    "print('안녕')"
   ]
  }
 ],
 "metadata": {
  "kernelspec": {
   "display_name": "Python 3 (ipykernel)",
   "language": "python",
   "name": "python3"
  },
  "language_info": {
   "codemirror_mode": {
    "name": "ipython",
    "version": 3
   },
   "file_extension": ".py",
   "mimetype": "text/x-python",
   "name": "python",
   "nbconvert_exporter": "python",
   "pygments_lexer": "ipython3",
   "version": "3.9.7"
  }
 },
 "nbformat": 4,
 "nbformat_minor": 5
}

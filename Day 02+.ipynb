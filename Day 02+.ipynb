{
 "cells": [
  {
   "cell_type": "code",
   "execution_count": 25,
   "id": "7e18137a-bdc3-4579-ad2f-f22151bc431f",
   "metadata": {},
   "outputs": [
    {
     "name": "stdin",
     "output_type": "stream",
     "text": [
      "숫자를 입력하세요 0\n"
     ]
    },
    {
     "name": "stdout",
     "output_type": "stream",
     "text": [
      "음수입니다\n"
     ]
    }
   ],
   "source": [
    "'''\n",
    "if문 속에 if문을 쓸때는 들여쓰기를 주의하고 써야함\n",
    "'''\n",
    "\n",
    "a = int(input('숫자를 입력하세요'))\n",
    "\n",
    "if a > 0:\n",
    "    if a % 2 ==0:\n",
    "        print('짝수입니다')\n",
    "    else:\n",
    "        print('홀수입니다')\n",
    "else:\n",
    "    print('음수입니다')"
   ]
  },
  {
   "cell_type": "code",
   "execution_count": 11,
   "id": "86c02d33-beeb-4064-90b0-1a88ba33c203",
   "metadata": {},
   "outputs": [
    {
     "name": "stdin",
     "output_type": "stream",
     "text": [
      "숫자를 입력하세요 17\n"
     ]
    },
    {
     "name": "stdout",
     "output_type": "stream",
     "text": [
      "15이상입니다\n",
      "17입니다\n"
     ]
    }
   ],
   "source": [
    "a = int(input('숫자를 입력하세요'))\n",
    "\n",
    "if a >= 15:\n",
    "    print('15이상입니다')\n",
    "\n",
    "    if a == 17:\n",
    "        print('17입니다')\n",
    "\n",
    "elif a <= 15:\n",
    "    print('15이하입니다')"
   ]
  },
  {
   "cell_type": "code",
   "execution_count": 39,
   "id": "ef237277-af61-4dce-b047-dd7f397ca095",
   "metadata": {},
   "outputs": [
    {
     "name": "stdout",
     "output_type": "stream",
     "text": [
      "Hello1\n",
      "Hello2\n",
      "Hello3\n",
      "Hello4\n",
      "Hello5\n",
      "Hello6\n",
      "Hello7\n",
      "Hello8\n",
      "Hello9\n",
      "Hello10\n"
     ]
    }
   ],
   "source": [
    "'''\n",
    "반복문 - while(횟수 미지정) 과 for(횟수 지정)이 있다 \n",
    "while 조건식:\n",
    "들여쓰기 ooo\n",
    "\n",
    "i = i + 5 - 숫자 증가할때 사용\n",
    "'''\n",
    "\n",
    "i = 1\n",
    "while i <= 10:\n",
    "    print('Hello%d'%i)\n",
    "    i = i + 1      # *** 안써주면 무한정으로 늘어남(중요함)"
   ]
  },
  {
   "cell_type": "code",
   "execution_count": 56,
   "id": "33ebc9d5-9082-4399-984b-8b84e3c3cbf5",
   "metadata": {},
   "outputs": [
    {
     "name": "stdout",
     "output_type": "stream",
     "text": [
      "5\n",
      "15\n",
      "25\n",
      "35\n",
      "45\n",
      "55\n",
      "65\n",
      "75\n",
      "85\n",
      "95\n"
     ]
    }
   ],
   "source": [
    "i = 1\n",
    "while i <= 100:\n",
    "    if i % 5 == 0:\n",
    "        print(i)\n",
    "    i = i + 2"
   ]
  },
  {
   "cell_type": "code",
   "execution_count": 150,
   "id": "6a4e135e-14b0-4492-a523-b3834b735e3a",
   "metadata": {},
   "outputs": [
    {
     "name": "stdout",
     "output_type": "stream",
     "text": [
      "['사과', '배', '딸기', '수박', '포도']\n",
      "<class 'list'>\n",
      "5\n",
      "배\n",
      "<class 'str'>\n",
      "나는 오렌지를 좋아합니다\n",
      "나는 배를 좋아합니다\n",
      "나는 딸기를 좋아합니다\n",
      "나는 수박를 좋아합니다\n",
      "나는 포도를 좋아합니다\n"
     ]
    }
   ],
   "source": [
    "'''\n",
    "list : [] \n",
    "tuple : () - 수정 삭제 불가\n",
    "set : {} / 값 - 숫자 고정 불가\n",
    "dictionary : 키 값이 세트임\n",
    "\n",
    "a = [1,2,3]  1 / 2 / 3 : 각각 item or index라고 부름 / 123은 순서대로 a[0] a[1] a[2]이다\n",
    "'''\n",
    "\n",
    "fruit = ['사과' , '배' , '딸기' , '수박' , '포도']\n",
    "\n",
    "'''\n",
    "len(fruit)  len : 길이를 알려주는 문법\n",
    "'''\n",
    "\n",
    "print(fruit)\n",
    "print(type(fruit))\n",
    "print(len(fruit))\n",
    "\n",
    "print(fruit[1])       # 인덱스 표기할때는 [] 대괄호 사용해야함\n",
    "print(type(fruit[1]))\n",
    "\n",
    "'''\n",
    "for문 : for 변수 in 리스트\n",
    "     문장 구조로 사용\n",
    "'''\n",
    "fruit[0] = '오렌지'\n",
    "\n",
    "for i in fruit:       # [2:4] : 2번째부터 3번째까지 (인덱스는 0부터 시작)\n",
    "    print('나는 ' + i +'를 좋아합니다')"
   ]
  },
  {
   "cell_type": "code",
   "execution_count": 159,
   "id": "4af231e2-41f6-44c4-bbc9-957152c4309c",
   "metadata": {},
   "outputs": [
    {
     "name": "stdin",
     "output_type": "stream",
     "text": [
      "좋아하는 과일을 입력하세요 수박\n"
     ]
    },
    {
     "name": "stdout",
     "output_type": "stream",
     "text": [
      "['사과', '배', '수박']\n"
     ]
    }
   ],
   "source": [
    "a = input('좋아하는 과일을 입력하세요')\n",
    "fruit = ['사과','배','딸기']\n",
    "fruit[2] = a\n",
    "print(fruit)"
   ]
  },
  {
   "cell_type": "code",
   "execution_count": 275,
   "id": "d609a08a-3ce1-4bf2-a234-a1402f390d4d",
   "metadata": {},
   "outputs": [
    {
     "name": "stdout",
     "output_type": "stream",
     "text": [
      "[1, 3, 7, 8, 13, 21, 10, 15, 17, 20]\n",
      "<class 'list'>\n",
      "13\n",
      "[7, 8, 13, 21]\n",
      "21\n",
      "29\n",
      "1\n",
      "4\n",
      "11\n",
      "19\n",
      "32\n",
      "53\n",
      "63\n",
      "78\n",
      "95\n",
      "115\n",
      "115\n"
     ]
    }
   ],
   "source": [
    "number = [1,3,7,8,13,21,10,15,17,20]\n",
    "\n",
    "print(number)\n",
    "print(type(number))\n",
    "print(number[4])\n",
    "len(number)\n",
    "print(number[2:6])\n",
    "\n",
    "print(number[3 + 2])\n",
    "print(number[3] + number[5])\n",
    "\n",
    "\n",
    "sum = 0\n",
    "for i in number:\n",
    "    sum = sum + i\n",
    "    print(sum)\n",
    "print(sum)        # 결과만 나오게 할때는 들여쓰기를 생략"
   ]
  },
  {
   "cell_type": "code",
   "execution_count": 237,
   "id": "40e2bb99-ff15-4352-955a-8c7debd97944",
   "metadata": {},
   "outputs": [
    {
     "name": "stdout",
     "output_type": "stream",
     "text": [
      "8\n",
      "10\n",
      "20\n",
      "3\n",
      "38\n"
     ]
    }
   ],
   "source": [
    "number = [1,3,7,8,13,21,10,15,17,20]\n",
    "\n",
    "count = 0\n",
    "total = 0\n",
    "\n",
    "for i in number:\n",
    "    if i % 2 ==0:\n",
    "        count = count + 1\n",
    "        total = total + i\n",
    "        print(i)\n",
    "print(count)\n",
    "print(total)"
   ]
  },
  {
   "cell_type": "code",
   "execution_count": 256,
   "id": "7bc6a798-83fc-4d69-94e9-6ded073acfcf",
   "metadata": {},
   "outputs": [
    {
     "name": "stdout",
     "output_type": "stream",
     "text": [
      "3\n",
      "\n",
      "38\n"
     ]
    }
   ],
   "source": [
    "number = [1,3,7,8,13,21,10,15,17,20]\n",
    "\n",
    "count = 0\n",
    "total = 0\n",
    "\n",
    "for i in number:\n",
    "    if i % 2 ==0:\n",
    "        count = count + 1\n",
    "        total = total + i\n",
    "print(count)\n",
    "print('\\n%s'%total)    #줄 바꿀때는 '\\n%s'% 를 사용"
   ]
  },
  {
   "cell_type": "code",
   "execution_count": 270,
   "id": "b1185927-b512-43a3-ad7b-8850d3cb299b",
   "metadata": {},
   "outputs": [
    {
     "name": "stdout",
     "output_type": "stream",
     "text": [
      "3\n",
      "\n",
      "38\n",
      "\n",
      "7\n",
      "\n",
      "77\n",
      "\n",
      "39\n"
     ]
    }
   ],
   "source": [
    "number = [1,3,7,8,13,21,10,15,17,20]\n",
    "\n",
    "count = 0\n",
    "total = 0\n",
    "count2 = 0\n",
    "total2 = 0\n",
    "for i in number:\n",
    "    if i % 2 ==0:\n",
    "        count = count + 1\n",
    "        total = total + i\n",
    "    if i % 2 ==1:\n",
    "        count2 = count2 + 1\n",
    "        total2 = total2 + i\n",
    "sum = total2 - total\n",
    "\n",
    "print(count)     # 짝수 개수           #줄 바꿀때는 '\\n%s'% 를 사용\n",
    "\n",
    "print('\\n%s'%total)     #짝수 총합\n",
    "\n",
    "print('\\n%s'%count1)    #홀수 개수\n",
    "    \n",
    "print('\\n%s'%total1)    #홀수 총합\n",
    "\n",
    "print('\\n%s'%sum)      #홀수 총합 - 짝수 총합"
   ]
  },
  {
   "cell_type": "code",
   "execution_count": 290,
   "id": "3d41beb6-974f-4f6d-81c3-1fd35342ab76",
   "metadata": {},
   "outputs": [
    {
     "name": "stdin",
     "output_type": "stream",
     "text": [
      "숫자를 입력하세요 2\n"
     ]
    },
    {
     "name": "stdout",
     "output_type": "stream",
     "text": [
      "중\n"
     ]
    }
   ],
   "source": [
    "a = int(input('숫자를 입력하세요'))\n",
    "if a == 1:\n",
    "    print('하')\n",
    "elif a ==2:\n",
    "    print('중')\n",
    "elif a ==3:\n",
    "    print('상')"
   ]
  },
  {
   "cell_type": "code",
   "execution_count": null,
   "id": "926442d3-cfd9-4eb6-9e91-2b8cf2fc72aa",
   "metadata": {},
   "outputs": [
    {
     "name": "stdin",
     "output_type": "stream",
     "text": [
      "숫자를 입력하세요 4\n"
     ]
    },
    {
     "name": "stdout",
     "output_type": "stream",
     "text": [
      "DOWN\n"
     ]
    }
   ],
   "source": [
    "answer = 150\n",
    "\n",
    "a = int(input('숫자를 입력하세요'))\n",
    "\n",
    "if a == answer:\n",
    "        print('정답입니다')\n",
    "elif a > answer:\n",
    "    print('UP')\n",
    "elif a < answer:\n",
    "    print('DOWN')"
   ]
  },
  {
   "cell_type": "code",
   "execution_count": 339,
   "id": "e7231292-7ae6-4ddd-82fc-c54ddc2bc8c2",
   "metadata": {},
   "outputs": [
    {
     "name": "stdout",
     "output_type": "stream",
     "text": [
      "1\n",
      "10\n"
     ]
    }
   ],
   "source": [
    "number = [1,2,3,4,5,6,7,8,9,10]\n",
    "\n",
    "for i in number:\n",
    "    if i < 2:\n",
    "        print(i)\n",
    "    if i > 9:\n",
    "        print(i)"
   ]
  },
  {
   "cell_type": "code",
   "execution_count": 366,
   "id": "a3aedcef-a2cb-4440-b2b6-2895b29eb560",
   "metadata": {},
   "outputs": [
    {
     "name": "stdin",
     "output_type": "stream",
     "text": [
      "숫자를 입력하세요 5\n"
     ]
    },
    {
     "name": "stdout",
     "output_type": "stream",
     "text": [
      "정답이 아닙니다\n"
     ]
    },
    {
     "name": "stdin",
     "output_type": "stream",
     "text": [
      "숫자를 입력하세요 4\n"
     ]
    },
    {
     "name": "stdout",
     "output_type": "stream",
     "text": [
      "정답이 아닙니다\n"
     ]
    },
    {
     "name": "stdin",
     "output_type": "stream",
     "text": [
      "숫자를 입력하세요 4\n"
     ]
    },
    {
     "name": "stdout",
     "output_type": "stream",
     "text": [
      "정답이 아닙니다\n"
     ]
    },
    {
     "name": "stdin",
     "output_type": "stream",
     "text": [
      "숫자를 입력하세요 4\n"
     ]
    },
    {
     "name": "stdout",
     "output_type": "stream",
     "text": [
      "정답이 아닙니다\n"
     ]
    },
    {
     "name": "stdin",
     "output_type": "stream",
     "text": [
      "숫자를 입력하세요 4\n"
     ]
    },
    {
     "name": "stdout",
     "output_type": "stream",
     "text": [
      "정답이 아닙니다\n"
     ]
    },
    {
     "name": "stdin",
     "output_type": "stream",
     "text": [
      "숫자를 입력하세요 4\n"
     ]
    },
    {
     "name": "stdout",
     "output_type": "stream",
     "text": [
      "기회가 없습니다\n"
     ]
    }
   ],
   "source": [
    "i = int(input('숫자를 입력하세요'))\n",
    "answer = 40\n",
    "chance = 5\n",
    "\n",
    "while chance > 0:\n",
    "    if i == answer:\n",
    "        print('정답입니다')\n",
    "        break\n",
    "    else:\n",
    "        chance = chance - 1\n",
    "        print('정답이 아닙니다')\n",
    "        i = int(input('숫자를 입력하세요'))\n",
    "        if chance == 0:\n",
    "            print('기회가 없습니다')"
   ]
  },
  {
   "cell_type": "code",
   "execution_count": 374,
   "id": "65cc228e-713a-4146-bd59-f06c19965074",
   "metadata": {},
   "outputs": [
    {
     "name": "stdin",
     "output_type": "stream",
     "text": [
      "숫자를 입력하세요 9\n"
     ]
    },
    {
     "name": "stdout",
     "output_type": "stream",
     "text": [
      "더 큽니다. 4번 남았습니다\n"
     ]
    },
    {
     "name": "stdin",
     "output_type": "stream",
     "text": [
      "숫자를 입력하세요 6\n"
     ]
    },
    {
     "name": "stdout",
     "output_type": "stream",
     "text": [
      "더 큽니다. 3번 남았습니다\n"
     ]
    },
    {
     "name": "stdin",
     "output_type": "stream",
     "text": [
      "숫자를 입력하세요 5\n"
     ]
    },
    {
     "name": "stdout",
     "output_type": "stream",
     "text": [
      "더 큽니다. 2번 남았습니다\n"
     ]
    },
    {
     "name": "stdin",
     "output_type": "stream",
     "text": [
      "숫자를 입력하세요 8\n"
     ]
    },
    {
     "name": "stdout",
     "output_type": "stream",
     "text": [
      "더 큽니다. 1번 남았습니다\n"
     ]
    },
    {
     "name": "stdin",
     "output_type": "stream",
     "text": [
      "숫자를 입력하세요 4\n"
     ]
    },
    {
     "name": "stdout",
     "output_type": "stream",
     "text": [
      "더 큽니다. 0번 남았습니다\n"
     ]
    },
    {
     "name": "stdin",
     "output_type": "stream",
     "text": [
      "숫자를 입력하세요 1\n"
     ]
    },
    {
     "name": "stdout",
     "output_type": "stream",
     "text": [
      "다음 기회에\n"
     ]
    }
   ],
   "source": [
    "i = int(input('숫자를 입력하세요'))\n",
    "answer = 100\n",
    "chance = 5\n",
    "\n",
    "while chance > 0:\n",
    "    if i == answer:\n",
    "        print('정답입니다')\n",
    "        break\n",
    "    elif i > answer:\n",
    "        chance = chance -1\n",
    "        print('더 작습니다. %d번 남았습니다'%chance)\n",
    "        i = int(input('숫자를 입력하세요'))\n",
    "        if chance == 0:\n",
    "            print('다음 기회에')\n",
    "    elif i < answer:\n",
    "        chance = chance -1\n",
    "        print('더 큽니다. %d번 남았습니다'%chance)\n",
    "        i = int(input('숫자를 입력하세요'))\n",
    "        if chance == 0:\n",
    "            print('다음 기회에')"
   ]
  }
 ],
 "metadata": {
  "kernelspec": {
   "display_name": "Python 3 (ipykernel)",
   "language": "python",
   "name": "python3"
  },
  "language_info": {
   "codemirror_mode": {
    "name": "ipython",
    "version": 3
   },
   "file_extension": ".py",
   "mimetype": "text/x-python",
   "name": "python",
   "nbconvert_exporter": "python",
   "pygments_lexer": "ipython3",
   "version": "3.9.7"
  }
 },
 "nbformat": 4,
 "nbformat_minor": 5
}

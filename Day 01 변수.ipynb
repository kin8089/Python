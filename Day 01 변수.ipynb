{
 "cells": [
  {
   "cell_type": "code",
   "execution_count": 19,
   "id": "f657b878-2cfc-4ada-a4ec-9401ea9f55da",
   "metadata": {},
   "outputs": [
    {
     "name": "stdout",
     "output_type": "stream",
     "text": [
      "5\n",
      "7\n",
      "<class 'int'>\n"
     ]
    }
   ],
   "source": [
    "a = 5\n",
    "print(a)\n",
    "a = 7\n",
    "print(a)\n",
    "\n",
    "print(type(a))"
   ]
  },
  {
   "cell_type": "code",
   "execution_count": 22,
   "id": "549c5bfe-06aa-439c-8021-82189c28941b",
   "metadata": {},
   "outputs": [
    {
     "name": "stdout",
     "output_type": "stream",
     "text": [
      "3.0\n",
      "\n",
      "<class 'str'>\n"
     ]
    }
   ],
   "source": [
    "b = 3.0\n",
    "print(b)\n",
    "\n",
    "b = ''\n",
    "print(b)\n",
    "print(type(b))"
   ]
  },
  {
   "cell_type": "code",
   "execution_count": 40,
   "id": "b153e70c-6371-448d-9eb1-b82467518a91",
   "metadata": {},
   "outputs": [
    {
     "name": "stdout",
     "output_type": "stream",
     "text": [
      "12\n",
      "12\n",
      "-2\n",
      "-2\n",
      "10\n",
      "35\n",
      "35\n",
      "0.7142857142857143\n",
      "0.7142857142857143\n"
     ]
    }
   ],
   "source": [
    "a = 5\n",
    "b = 7\n",
    "\n",
    "print(a + b)\n",
    "\n",
    "c = a + b\n",
    "\n",
    "print(c)\n",
    "\n",
    "print(a - b)\n",
    "\n",
    "d = a - b\n",
    "\n",
    "print(d)\n",
    "\n",
    "print(c + d)\n",
    "\n",
    "print(a * b)\n",
    "\n",
    "e = a * b\n",
    "\n",
    "print(e)\n",
    "\n",
    "print(a / b)\n",
    "\n",
    "f = a / b\n",
    "\n",
    "print(f)"
   ]
  },
  {
   "cell_type": "code",
   "execution_count": 48,
   "id": "f92ec19d-139a-47a2-814f-42d1816cf625",
   "metadata": {},
   "outputs": [
    {
     "name": "stdout",
     "output_type": "stream",
     "text": [
      "26\n",
      "22\n",
      "<class 'int'>\n"
     ]
    }
   ],
   "source": [
    "a = 15\n",
    "b = 11\n",
    "\n",
    "print(a + b)\n",
    "\n",
    "c = (a + b) - (a - b)\n",
    "\n",
    "print(c)\n",
    "\n",
    "print(type(c))"
   ]
  },
  {
   "cell_type": "code",
   "execution_count": 67,
   "id": "64a0cfa0-8765-46f5-9605-d375d76cb242",
   "metadata": {},
   "outputs": [
    {
     "name": "stdout",
     "output_type": "stream",
     "text": [
      "7.0\n",
      "<class 'float'>\n"
     ]
    }
   ],
   "source": [
    "a = 2.5\n",
    "b = 3.5\n",
    "\n",
    "c = (a + b) - (a - b)\n",
    "print(c)\n",
    "\n",
    "print(type(c))"
   ]
  }
 ],
 "metadata": {
  "kernelspec": {
   "display_name": "Python 3 (ipykernel)",
   "language": "python",
   "name": "python3"
  },
  "language_info": {
   "codemirror_mode": {
    "name": "ipython",
    "version": 3
   },
   "file_extension": ".py",
   "mimetype": "text/x-python",
   "name": "python",
   "nbconvert_exporter": "python",
   "pygments_lexer": "ipython3",
   "version": "3.9.7"
  }
 },
 "nbformat": 4,
 "nbformat_minor": 5
}

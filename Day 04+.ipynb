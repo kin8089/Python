{
 "cells": [
  {
   "cell_type": "markdown",
   "id": "2bcbf29b-c7ed-4683-ae55-4ead0e8dc6ba",
   "metadata": {},
   "source": [
    "# Class"
   ]
  },
  {
   "cell_type": "code",
   "execution_count": 13,
   "id": "a3290c7d-75fe-4dce-9392-3c984e4a23b5",
   "metadata": {},
   "outputs": [],
   "source": [
    "'''\n",
    "object(객체) = 데이터(변수) + 데이터를 처리 할 함수가 세트로 묶여있음.\n",
    "\n",
    "오브젝트 = 붕어빵\n",
    "클래스 = 붕어빵 틀\n",
    "\n",
    "클래스 = 배럭\n",
    "오브젝트 = 유닛\n",
    "\n",
    "ex) my_list - 객체 = list() - 클래스\n",
    "'''\n",
    "\n",
    "class Car() :       # 클래스 정의\n",
    "    id = '1234'\n",
    "    name = 'bmw'\n",
    "    speed = 100\n",
    "    \n",
    " "
   ]
  },
  {
   "cell_type": "code",
   "execution_count": 14,
   "id": "891fa849-c15a-425a-8900-a992382166df",
   "metadata": {},
   "outputs": [
    {
     "name": "stdout",
     "output_type": "stream",
     "text": [
      "20 bmw 100\n",
      "1234 porche 100\n"
     ]
    }
   ],
   "source": [
    "c1 = Car()          # 객체생성\n",
    "c2 = Car()\n",
    "\n",
    "c1.id = '20'\n",
    "print(c1.id, c1.name, c1.speed)    # .을 통해서 어디에(어떤 객체) 속해있는지 밝혀야함   ***\n",
    "c2.name = 'porche'\n",
    "print(c2.id, c2.name, c2.speed)"
   ]
  },
  {
   "cell_type": "markdown",
   "id": "8db04788-de2d-4628-a6c0-676c06ee05ae",
   "metadata": {},
   "source": [
    "# 생성자"
   ]
  },
  {
   "cell_type": "code",
   "execution_count": 94,
   "id": "86dbbef2-cbf1-489f-ae20-61fca3eccbcd",
   "metadata": {},
   "outputs": [],
   "source": [
    "'''\n",
    "__init__ = 생성자 함수 문법\n",
    "밑줄 2개 init 밑줄 2개\n",
    "'''\n",
    "\n",
    "class Car() :\n",
    "\n",
    "    def __init__(self, id, name) :       \n",
    "        self.id = id\n",
    "        self.name = name\n",
    "    \n",
    "    def my_print(self):\n",
    "        print(self.id, self.name)\n",
    "        \n",
    "    def get_id(self) :\n",
    "        return self.id\n",
    "    \n",
    "    def get_name(self) :\n",
    "        return self.name                         # self는 클래스 내부에서만 쓸 수 있는 키워드임\n",
    "                                                 # self는 틀에 저장되어있는 정보"
   ]
  },
  {
   "cell_type": "code",
   "execution_count": 105,
   "id": "61dd3980-66ba-463a-8bab-274a1dc75ab5",
   "metadata": {},
   "outputs": [
    {
     "name": "stdout",
     "output_type": "stream",
     "text": [
      "5555 bmw\n",
      "5555 bmw\n",
      "5555\n",
      "bmw\n",
      "<class '__main__.Car'>\n",
      "5555\n"
     ]
    }
   ],
   "source": [
    "c1 = Car('5555', 'bmw')\n",
    "\n",
    "c2 = Car('3333', 'kia')\n",
    "print(c1.id, c1.name)\n",
    "\n",
    "c1.my_print()\n",
    "\n",
    "y = c1.get_id()\n",
    "\n",
    "print(y)\n",
    "\n",
    "x = c1.get_name()\n",
    "\n",
    "print(x)\n",
    "\n",
    "car = [c1, c2]\n",
    "\n",
    "print(type(c1))\n",
    "\n",
    "a = car[0].get_id()\n",
    "\n",
    "print(a)\n",
    "\n",
    "for q in car :\n",
    "    q.get_id()"
   ]
  },
  {
   "cell_type": "code",
   "execution_count": 73,
   "id": "53956262-03e9-4875-9922-075a0e019a59",
   "metadata": {},
   "outputs": [],
   "source": [
    "class Person() :\n",
    "    \n",
    "    def __init__(self, name, age) :\n",
    "        self.name = name                    # 생성자는 매개변수만있고 리턴값은 없음\n",
    "        self.age = age         \n",
    "    \n",
    "    def my_print(self) :\n",
    "        print(self.name , self.age)         # 멤버함수를 만들때는 self를 넣어햐함"
   ]
  },
  {
   "cell_type": "code",
   "execution_count": 241,
   "id": "296b1e79-a3a1-4ca5-b8a4-d074e5e2094d",
   "metadata": {},
   "outputs": [
    {
     "name": "stdout",
     "output_type": "stream",
     "text": [
      "김종문 26\n",
      "김종문 26\n"
     ]
    }
   ],
   "source": [
    "p1 = Person('김종문', '26')\n",
    "\n",
    "print(p1.name, p1.age)\n",
    "\n",
    "p1.my_print()"
   ]
  },
  {
   "cell_type": "code",
   "execution_count": 3,
   "id": "bb5dfa98-6bf1-45ab-b1a2-174844348b97",
   "metadata": {},
   "outputs": [],
   "source": [
    "class Student() :\n",
    "    \n",
    "    def __init__(self, name, kor, eng, math) :              # 클래스 속에 있는 함수는 메소드라고 한다. 메소드는 내장함수로 함수이기 때문에 ()가 필수적으로 따라온다.\n",
    "        self.name = name                                    # self = 클래스에 저장하는 변수 \n",
    "        self.kor = kor\n",
    "        self.eng = eng\n",
    "        self.math = math\n",
    "        \n",
    "\n",
    "    def get_name(self) :                                    # get_name 이라는 메소드를 만드는 함수. 객체.get_name = self.name / 메소드에는 self가 필수적으로 들어감\n",
    "        return self.name\n",
    "    \n",
    "    def get_kor(self) :\n",
    "        return self.kor\n",
    "    \n",
    "    def get_eng(self) :\n",
    "        return self.eng\n",
    "    \n",
    "    def get_math(self) :\n",
    "        return self.math\n",
    "    \n",
    "    def get_sum(self) :\n",
    "        x = self.kor + self.eng + self.math\n",
    "        \n",
    "        return x"
   ]
  },
  {
   "cell_type": "code",
   "execution_count": 7,
   "id": "51ee8f66-d954-4a5d-8ea7-7a0494e5a54b",
   "metadata": {},
   "outputs": [
    {
     "name": "stdout",
     "output_type": "stream",
     "text": [
      "[240, 275, 250, 260]\n",
      "<class 'list'>\n",
      "1025\n"
     ]
    }
   ],
   "source": [
    "s1 = Student('김종문', 90, 80, 70)\n",
    "s2 = Student('김지환', 95, 88, 92)\n",
    "s3 = Student('이용권', 70, 100, 80)\n",
    "s4 = Student('김효산', 90, 90, 80)\n",
    "\n",
    "student = [s1,s2,s3,s4]\n",
    "\n",
    "total = []\n",
    "\n",
    "for i in student :\n",
    "    m = 0\n",
    "    m = i.get_sum()\n",
    "    total.append(m)\n",
    "\n",
    "print(total)\n",
    "\n",
    "print(type(total))\n",
    "print(sum(total))"
   ]
  }
 ],
 "metadata": {
  "kernelspec": {
   "display_name": "Python 3 (ipykernel)",
   "language": "python",
   "name": "python3"
  },
  "language_info": {
   "codemirror_mode": {
    "name": "ipython",
    "version": 3
   },
   "file_extension": ".py",
   "mimetype": "text/x-python",
   "name": "python",
   "nbconvert_exporter": "python",
   "pygments_lexer": "ipython3",
   "version": "3.9.7"
  }
 },
 "nbformat": 4,
 "nbformat_minor": 5
}

{
 "cells": [
  {
   "cell_type": "markdown",
   "id": "050c09e2-c84f-409e-ae13-06fb200f43ac",
   "metadata": {},
   "source": [
    "# Day 02"
   ]
  },
  {
   "cell_type": "code",
   "execution_count": 13,
   "id": "1856ea03-518d-47c7-a244-69772c8ba9f5",
   "metadata": {},
   "outputs": [
    {
     "name": "stdout",
     "output_type": "stream",
     "text": [
      "57\n",
      "<class 'str'>\n"
     ]
    }
   ],
   "source": [
    "a = '5'\n",
    "b = '7'\n",
    "\n",
    "print(a + b)\n",
    "\n",
    "c = a + b\n",
    "\n",
    "'''\n",
    "문자열은 계산 안함\n",
    "'''\n",
    "\n",
    "print(type(c))"
   ]
  },
  {
   "cell_type": "code",
   "execution_count": 20,
   "id": "61497a71-b670-4a4e-b911-81bf6416534d",
   "metadata": {},
   "outputs": [
    {
     "name": "stdin",
     "output_type": "stream",
     "text": [
      "월 12\n",
      "일 28\n"
     ]
    },
    {
     "name": "stdout",
     "output_type": "stream",
     "text": [
      "1228\n",
      "<class 'str'>\n",
      "<class 'int'>\n",
      "40\n"
     ]
    }
   ],
   "source": [
    "y = input('월')\n",
    "\n",
    "x = input('일')\n",
    "\n",
    "print(y + x)\n",
    "\n",
    "'''\n",
    "input 함수는 타입이 무조건 문자열로 나옴\n",
    "\n",
    "뒤에서 사용하기 위해서는 변수에 저장해야함(대입연산자 = 사용) ex) y = oo / x = oo\n",
    "\n",
    "타입 변환 : 현재 x = str 타입  -  x = int(x)  -  x = int 타입으로 변환   ///   바꿀타입(str,int,float)을 쓰고 ()안에 넣기\n",
    "'''\n",
    "\n",
    "print(type(x))\n",
    "\n",
    "x = int(x)\n",
    "\n",
    "print(type(x))\n",
    "y = int(y)\n",
    "\n",
    "print(x + y)"
   ]
  },
  {
   "cell_type": "code",
   "execution_count": 234,
   "id": "824e2fbf-45d6-41ce-876c-28299146d58d",
   "metadata": {},
   "outputs": [
    {
     "name": "stdin",
     "output_type": "stream",
     "text": [
      "국어점수를 입력하세요 80\n",
      "영어점수를 입력하세요 70\n",
      "수학점수를 입력하세요 90\n"
     ]
    },
    {
     "name": "stdout",
     "output_type": "stream",
     "text": [
      "240\n",
      "6\n",
      "<class 'int'>\n",
      "내 기말고사 총점은 240점, 평균점수는 80.00점입니다\n",
      "--------------------------------------------------\n"
     ]
    }
   ],
   "source": [
    "x = input('국어점수를 입력하세요')\n",
    "y = input('영어점수를 입력하세요')\n",
    "z = input('수학점수를 입력하세요')\n",
    "\n",
    "x = int(x)\n",
    "y = int(y)\n",
    "z = int(z)\n",
    "\n",
    "'''\n",
    "input : 입력받기\n",
    "계산하기 : 타입바꿔서계산\n",
    "'''\n",
    "\n",
    "total = x + y + z\n",
    "\n",
    "print(total)\n",
    "\n",
    "avg = total/3\n",
    "\n",
    "print(c)\n",
    "\n",
    "print(type(c))\n",
    "\n",
    "'''\n",
    "%.2 : 소수점 2번째 자리까지 표기해라\n",
    "'''\n",
    "\n",
    "print('내 기말고사 총점은 %d점, 평균점수는 %.2f점입니다' % (total , avg))\n",
    "\n",
    "      \n",
    "'''\n",
    "입력받은 값들을 나열할때는 %를 사용해야함\n",
    "%d (정수) %f(실수) %s(문자열)\n",
    "%s 등을 사용할 시 '%s'뒤에 % (내용) 을 넣어줘야함\n",
    "\n",
    "ex) print('%s%d$f' % (a,b,c)) \n",
    "'''\n",
    "      \n",
    "print('-' * 50)"
   ]
  },
  {
   "cell_type": "code",
   "execution_count": 242,
   "id": "a200db2f-5e7b-48ae-b970-382f9fb1ea2b",
   "metadata": {},
   "outputs": [
    {
     "name": "stdin",
     "output_type": "stream",
     "text": [
      "이름을 입력하세요 김종문\n"
     ]
    },
    {
     "name": "stdout",
     "output_type": "stream",
     "text": [
      "내 이름은 김종문입니다\n"
     ]
    }
   ],
   "source": [
    "name = input('이름을 입력하세요')\n",
    "\n",
    "print('내 이름은'+' %s'%name+ '입니다')\n"
   ]
  },
  {
   "cell_type": "code",
   "execution_count": 98,
   "id": "431111e9-488f-4673-8603-23aac01ee4c6",
   "metadata": {},
   "outputs": [
    {
     "name": "stdin",
     "output_type": "stream",
     "text": [
      "이름을 입력하세요 김종문\n",
      "국어점수를 입력하세요 70\n",
      "영어점수를 입력하세요 80\n",
      "수학점수를 입력하세요 90\n"
     ]
    },
    {
     "name": "stdout",
     "output_type": "stream",
     "text": [
      "이름\t국어\t영어\t수학\t총점\t평균\n",
      "--------------------------------------------------\n",
      "김종문\t70\t80\t90\t240\t80.00\n"
     ]
    }
   ],
   "source": [
    "a = input('이름을 입력하세요')\n",
    "\n",
    "x = int(input('국어점수를 입력하세요'))\n",
    "y = int(input('영어점수를 입력하세요'))\n",
    "z = int(input('수학점수를 입력하세요'))\n",
    "\n",
    "total = x + y + z\n",
    "\n",
    "avg = total / 3\n",
    "\n",
    "print('이름\\t국어\\t영어\\t수학\\t총점\\t평균')\n",
    "print('-' * 50)\n",
    "print('%s\\t%d\\t%d\\t%d\\t%d\\t%.2f' % (a, x, y, z, total, avg))"
   ]
  },
  {
   "cell_type": "code",
   "execution_count": 104,
   "id": "3f28b7d1-3be9-424d-b73a-38eaf3f7ddba",
   "metadata": {},
   "outputs": [
    {
     "name": "stdin",
     "output_type": "stream",
     "text": [
      "이름을 입력하세요 김종문\n",
      "국어점수 80\n",
      "영어점수 90\n",
      "수학점수 70\n"
     ]
    },
    {
     "name": "stdout",
     "output_type": "stream",
     "text": [
      "김종문\t80\t90\t70\t240\t80.000000\n"
     ]
    }
   ],
   "source": [
    "a = input('이름을 입력하세요')\n",
    "\n",
    "x = int(input('국어점수'))\n",
    "y = int(input('영어점수'))\n",
    "z = int(input('수학점수'))\n",
    "\n",
    "total = x + y + z\n",
    "avg = total/3\n",
    "\n",
    "print('%s\\t%d\\t%d\\t%d\\t%d\\t%f' % (a,x,y,z,total,avg))"
   ]
  },
  {
   "cell_type": "code",
   "execution_count": 123,
   "id": "83142daa-dc78-4e45-8346-3153ab9bf047",
   "metadata": {},
   "outputs": [
    {
     "name": "stdout",
     "output_type": "stream",
     "text": [
      "False\n",
      "True\n",
      "True\n",
      "False\n",
      "False\n",
      "True\n",
      "<class 'bool'>\n",
      "0\n",
      "50\n",
      "True\n",
      "False\n",
      "True\n"
     ]
    }
   ],
   "source": [
    "'''\n",
    "// #나누기(몫)연산자\n",
    "\n",
    "% #나눈 나머지 연산자 - 자주쓰임 ex(33 % 5 = 3)\n",
    "\n",
    "** #제곱연산자\n",
    "\n",
    "비교연산자\n",
    "\n",
    "<\n",
    ">\n",
    "<=\n",
    ">=\n",
    "\n",
    "== # 같다(같으면 True)\n",
    "\n",
    "!= # 같지 않다(다르면 True)\n",
    "'''\n",
    "\n",
    "data = 50\n",
    "score = 100\n",
    "\n",
    "print(data > score)\n",
    "print(data < score)\n",
    "print(data <= score)\n",
    "print(data >= score)\n",
    "print(data == score)\n",
    "print(data != score)\n",
    "\n",
    "a = (data == score)\n",
    "print(type(a)) # bool 타입은 True or False 를 판별\n",
    "\n",
    "print(score % data)\n",
    "print(data % score)\n",
    "\n",
    "'''\n",
    "논리연산자\n",
    "\n",
    "and 둘 다 참일 경우 True\n",
    "\n",
    "or 둘 중 하나만 참이어도 True\n",
    "\n",
    "! = 보통 not의 개념으로 쓰임\n",
    "'''\n",
    "\n",
    "score = 10\n",
    "print(score >=0 and score <= 100)\n",
    "print(score >=100 or score <= 0)\n",
    "print(score >=0 or score <= 100)"
   ]
  },
  {
   "cell_type": "code",
   "execution_count": 129,
   "id": "2166f64a-65cc-4a4c-9abd-4253f9623898",
   "metadata": {},
   "outputs": [
    {
     "name": "stdin",
     "output_type": "stream",
     "text": [
      "국어점수 80\n",
      "영어점수 90\n"
     ]
    },
    {
     "name": "stdout",
     "output_type": "stream",
     "text": [
      "False\n",
      "True\n",
      "True\n",
      "False\n"
     ]
    }
   ],
   "source": [
    "a = int(input('국어점수'))\n",
    "              \n",
    "b = int(input('영어점수'))\n",
    "              \n",
    "print(a >= b) \n",
    "print(a <= b)\n",
    "print(a != b)\n",
    "print(a == b)"
   ]
  },
  {
   "cell_type": "code",
   "execution_count": 168,
   "id": "9be25b81-e5d9-476e-90bd-fa16fbd3d63a",
   "metadata": {},
   "outputs": [
    {
     "name": "stdin",
     "output_type": "stream",
     "text": [
      "나이를 입력하세요 25\n"
     ]
    },
    {
     "name": "stdout",
     "output_type": "stream",
     "text": [
      "성인입니다\n",
      "당신은25살입니다\n"
     ]
    }
   ],
   "source": [
    "'''\n",
    "if : 조건식이 True면 조건식을 실행한다\n",
    "\n",
    "if + 조건식 : \n",
    "들여쓰기(Tab) 참이면 실행할 문장\n",
    "'''\n",
    "\n",
    "age = int(input('나이를 입력하세요'))\n",
    "if age>=20 :\n",
    "    print('성인입니다')\n",
    "    print('당신은''%d' % (age) + '살입니다')"
   ]
  },
  {
   "cell_type": "code",
   "execution_count": 197,
   "id": "ce51b9b5-9b1d-495f-b357-313696821e1a",
   "metadata": {},
   "outputs": [
    {
     "name": "stdout",
     "output_type": "stream",
     "text": [
      "노인입니다\n"
     ]
    }
   ],
   "source": [
    "'''\n",
    "elif 는 조건을 여러개 사용할때 사용\n",
    "else 는 기타등등 마지막에 기술\n",
    "elif 와 else는 단독으로 사용 불가능\n",
    "'''\n",
    "\n",
    "age = \n",
    "if age >= 60:\n",
    "    print('노인입니다')\n",
    "elif age >= 40:\n",
    "    print('중년입니다')\n",
    "elif age >= 20:\n",
    "    print('성인입니다')\n",
    "else:\n",
    "    print('청소년입니다')"
   ]
  },
  {
   "cell_type": "code",
   "execution_count": 232,
   "id": "634320a3-6852-4d58-9de1-f4cc5b137cfa",
   "metadata": {},
   "outputs": [
    {
     "name": "stdin",
     "output_type": "stream",
     "text": [
      "점수를 입력하세요 45\n"
     ]
    },
    {
     "name": "stdout",
     "output_type": "stream",
     "text": [
      "D\n"
     ]
    }
   ],
   "source": [
    "a = int(input('점수를 입력하세요'))\n",
    "\n",
    "if a >= 90:\n",
    "    print('A')\n",
    "elif a >= 80:\n",
    "    print('B')\n",
    "elif a >= 70:\n",
    "    print('C')\n",
    "else:\n",
    "    print('D')"
   ]
  },
  {
   "cell_type": "code",
   "execution_count": 233,
   "id": "63124951-2272-4377-9ee6-1a84fd7cef7d",
   "metadata": {},
   "outputs": [
    {
     "name": "stdin",
     "output_type": "stream",
     "text": [
      "숫자를 입력하세요 45\n"
     ]
    },
    {
     "name": "stdout",
     "output_type": "stream",
     "text": [
      "홀수\n"
     ]
    }
   ],
   "source": [
    "a = int(input('숫자를 입력하세요'))\n",
    "\n",
    "if a % 2 == 0:   #연산자 계산순서 : 산술연산자 - 비교연산자 - 대입연산자\n",
    "    print('짝수')\n",
    "elif a % 2 == 1:\n",
    "    print('홀수')"
   ]
  }
 ],
 "metadata": {
  "kernelspec": {
   "display_name": "Python 3 (ipykernel)",
   "language": "python",
   "name": "python3"
  },
  "language_info": {
   "codemirror_mode": {
    "name": "ipython",
    "version": 3
   },
   "file_extension": ".py",
   "mimetype": "text/x-python",
   "name": "python",
   "nbconvert_exporter": "python",
   "pygments_lexer": "ipython3",
   "version": "3.9.7"
  }
 },
 "nbformat": 4,
 "nbformat_minor": 5
}

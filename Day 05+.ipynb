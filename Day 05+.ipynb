{
 "cells": [
  {
   "cell_type": "code",
   "execution_count": 139,
   "id": "f2b68695-03f4-4b0b-beaf-b249586834ef",
   "metadata": {},
   "outputs": [],
   "source": [
    "class Account :\n",
    "    \n",
    "    def __init__ (self, num) :\n",
    "        self.__num = num\n",
    "        self.__balance = 0\n",
    "        \n",
    "    def get_num (self) :\n",
    "        return self.__num\n",
    "    \n",
    "    def set_num (self) :\n",
    "        self.__num = set_num\n",
    "        \n",
    "    def get_balance (self) :\n",
    "        return self.__balance\n",
    "    \n",
    "    def set_num (self) :\n",
    "        self.__balance = set_balance\n",
    "        \n",
    "    def deposit (self, money) :\n",
    "        self.__balance = self.__balance + money\n",
    "        return self.__balance\n",
    "    \n",
    "    def withraw (self, money) :\n",
    "        self.__balance = self.__balance - money\n",
    "        return self.__balance\n",
    "    \n",
    "    def transter (self, money, other) :\n",
    "        self.__balance = self.__balance - money\n",
    "        other.__balance = other.__balance + money\n",
    "        \n",
    "        return other.__balance"
   ]
  },
  {
   "cell_type": "code",
   "execution_count": 178,
   "id": "21109a90-3f2f-46ae-961d-dbf43fce01a6",
   "metadata": {},
   "outputs": [
    {
     "data": {
      "text/plain": [
       "\"\\nx = int(input('개설하려는 계좌번호를 입력하세요.'))\\na1 = Account(x)\\na2 = Account(123)\\n\\nclient = [a2]\\nclient.append(a1)\\n\\nif True:\\n    print('계좌가 성공적으로 개설되었습니다. 계좌번호는 {}입니다'.format(x))               # 계좌생성\\n    y = int(input('원하시는 서비스를 선택하세요.\\n1.입금 2.출금 3.송금'))\\n        \\n    if y == 1 :                                                                           # 입금\\n        d = int(input('입금을 원하는 금액을 쓰세요.'))\\n        a1.deposit(d)\\n        print('{}원 입금되었습니다. 현재 잔액은 {}원입니다.'.format(d,a1.get_balance()))\\n        \\n    elif y == 2 :                                                                         # 출금\\n        w = int(input('출금을 원하는 금액을 쓰세요.'))\\n        if w > a1.get_balance() :\\n            print('잔액이 부족합니다.')\\n            \\n        else:\\n            a1.withraw(w)\\n            \\n    elif y == 3 :                                                                                # 송금\\n        z = int(input('송금을 원하는 계좌번호를 입력하세요'))\\n        if z == a2.get_num() :\\n            t = int(input('송금을 원하는 금액을 입력하세요.'))\\n            a1.transter(t,a2)\\n            print('{}원 송금을 완료하였습니다. 상대방의 잔액은 {}원 입니다.'.format(t, a2.get_balance()))\\n        else :\\n            print('계좌번호가 옳바르지 않습니다.')\\n            \\n    else :\\n        print('잘못된 요청입니다.')\\n\""
      ]
     },
     "execution_count": 178,
     "metadata": {},
     "output_type": "execute_result"
    }
   ],
   "source": [
    "'''\n",
    "x = int(input('개설하려는 계좌번호를 입력하세요.'))\n",
    "a1 = Account(x)\n",
    "a2 = Account(123)\n",
    "\n",
    "client = [a2]\n",
    "client.append(a1)\n",
    "\n",
    "if True:\n",
    "    print('계좌가 성공적으로 개설되었습니다. 계좌번호는 {}입니다'.format(x))               # 계좌생성\n",
    "    y = int(input('원하시는 서비스를 선택하세요.\\n1.입금 2.출금 3.송금'))\n",
    "        \n",
    "    if y == 1 :                                                                           # 입금\n",
    "        d = int(input('입금을 원하는 금액을 쓰세요.'))\n",
    "        a1.deposit(d)\n",
    "        print('{}원 입금되었습니다. 현재 잔액은 {}원입니다.'.format(d,a1.get_balance()))\n",
    "        \n",
    "    elif y == 2 :                                                                         # 출금\n",
    "        w = int(input('출금을 원하는 금액을 쓰세요.'))\n",
    "        if w > a1.get_balance() :\n",
    "            print('잔액이 부족합니다.')\n",
    "            \n",
    "        else:\n",
    "            a1.withraw(w)\n",
    "            \n",
    "    elif y == 3 :                                                                                # 송금\n",
    "        z = int(input('송금을 원하는 계좌번호를 입력하세요'))\n",
    "        if z == a2.get_num() :\n",
    "            t = int(input('송금을 원하는 금액을 입력하세요.'))\n",
    "            a1.transter(t,a2)\n",
    "            print('{}원 송금을 완료하였습니다. 상대방의 잔액은 {}원 입니다.'.format(t, a2.get_balance()))\n",
    "        else :\n",
    "            print('계좌번호가 옳바르지 않습니다.')\n",
    "            \n",
    "    else :\n",
    "        print('잘못된 요청입니다.')\n",
    "'''"
   ]
  },
  {
   "cell_type": "code",
   "execution_count": 189,
   "id": "dc6f846c-b2a9-4e33-83fc-5fbc1c8f3344",
   "metadata": {},
   "outputs": [
    {
     "name": "stdout",
     "output_type": "stream",
     "text": [
      "1.계좌개설 2.입금 3.출금 4.송금\n"
     ]
    },
    {
     "name": "stdin",
     "output_type": "stream",
     "text": [
      "원하시는 서비스를 선택하세요 4\n",
      "송금을 원하는 계좌번호를 입력하세요 123\n",
      "송금을 원하는 금액을 입력하세요. 1500\n"
     ]
    },
    {
     "name": "stdout",
     "output_type": "stream",
     "text": [
      "1500원 송금을 완료하였습니다. 현재 잔액은 302원 입니다.\n"
     ]
    }
   ],
   "source": [
    "client = list()\n",
    "service = [1,2,3,4]\n",
    "\n",
    "def new(num):\n",
    "    client.append(num)\n",
    "    \n",
    "\n",
    "for i in service :\n",
    "    print('1.계좌개설 2.입금 3.출금 4.송금')\n",
    "    a = int(input('원하시는 서비스를 선택하세요'))\n",
    "    \n",
    "    if a == 1  :\n",
    "        y = int(input('개설을 원하는 계좌번호를 입력하세요.'))\n",
    "        print('계좌가 개설되었습니다. 계좌번호는 {}입니다.'.format(y))\n",
    "        client.append(y)\n",
    "        \n",
    "    elif a == 2 :\n",
    "        d = int(input('입금을 원하는 금액을 쓰세요.'))\n",
    "        a1.deposit(d)\n",
    "        print('{}원 입금되었습니다. 현재 잔액은 {}원입니다.'.format(d,a1.get_balance()))\n",
    "        \n",
    "        break\n",
    "    \n",
    "    elif a == 3 :\n",
    "        w = int(input('출금을 원하는 금액을 쓰세요.'))\n",
    "        if w > a1.get_balance() :\n",
    "            print('잔액이 부족합니다.')\n",
    "            \n",
    "        else:\n",
    "            a1.withraw(w)\n",
    "            print('{}원 출금되었습니다. 현재 잔액은 {}원입니다.'.format(w, a1.get_balance()))\n",
    "            \n",
    "            break\n",
    "    \n",
    "    elif a == 4 :\n",
    "        z = int(input('송금을 원하는 계좌번호를 입력하세요'))\n",
    "        if z == a2.get_num() :\n",
    "            t = int(input('송금을 원하는 금액을 입력하세요.'))\n",
    "            a1.transter(t,a2)\n",
    "            print('{}원 송금을 완료하였습니다. 현재 잔액은 {}원 입니다.'.format(t, a1.get_balance()))\n",
    "            \n",
    "            break\n",
    "        else :\n",
    "            print('계좌번호가 옳바르지 않습니다.')\n",
    "            \n",
    "            \n",
    "    else :\n",
    "        print('잘못된 요청입니다.')\n"
   ]
  }
 ],
 "metadata": {
  "kernelspec": {
   "display_name": "Python 3 (ipykernel)",
   "language": "python",
   "name": "python3"
  },
  "language_info": {
   "codemirror_mode": {
    "name": "ipython",
    "version": 3
   },
   "file_extension": ".py",
   "mimetype": "text/x-python",
   "name": "python",
   "nbconvert_exporter": "python",
   "pygments_lexer": "ipython3",
   "version": "3.9.7"
  }
 },
 "nbformat": 4,
 "nbformat_minor": 5
}

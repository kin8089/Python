{
 "cells": [
  {
   "cell_type": "markdown",
   "id": "d43d100f-7692-490c-b394-45b753148dae",
   "metadata": {},
   "source": [
    "# Day 04"
   ]
  },
  {
   "cell_type": "markdown",
   "id": "f362de25-da0d-40ea-b657-02e50e14479d",
   "metadata": {},
   "source": [
    "## 매개변수와 인수"
   ]
  },
  {
   "cell_type": "code",
   "execution_count": 3,
   "id": "5c59cf2c-6555-4708-82f6-aca981e3c27f",
   "metadata": {},
   "outputs": [
    {
     "name": "stdout",
     "output_type": "stream",
     "text": [
      "\n"
     ]
    }
   ],
   "source": [
    "'''\n",
    "함수를 호출할 때 매개변수를 입력할때는 값이 존재해야함\n",
    "\n",
    "함수 호출 : my(x) - my 함수를 호출할때는 x(인수)에 값이 있어야함.\n",
    "\n",
    "함수는 명령을 실행하면 처음으로 돌아가는데 리턴값이 없으면 그냥 돌아가지만\n",
    "리턴값을 입력하면 값을 가진채로 돌아간다\n",
    "'''\n",
    "print()"
   ]
  },
  {
   "cell_type": "markdown",
   "id": "cb06633d-4a9b-42e9-96f9-36a069436b87",
   "metadata": {},
   "source": [
    "# 리턴값"
   ]
  },
  {
   "cell_type": "code",
   "execution_count": 12,
   "id": "60b1b100-d446-454f-9796-fa2afe72f6d7",
   "metadata": {},
   "outputs": [],
   "source": [
    "'''\n",
    "리턴값은 호출하는 위치로 돌아간다. 메인 함수 = 호출\n",
    "\n",
    "프로그램은 메인에서 시작해서 메인에서 끝남\n",
    "\n",
    "return 명령어로 실행\n",
    "'''\n",
    "\n",
    "def my_add(a, b):                        # 매개변수와 인수는 달라도 상관없음\n",
    "    x = a + b\n",
    "    \n",
    "    return x"
   ]
  },
  {
   "cell_type": "code",
   "execution_count": 11,
   "id": "2fc2049d-d8c9-4aa1-ae85-18ebba91ae11",
   "metadata": {},
   "outputs": [
    {
     "name": "stdout",
     "output_type": "stream",
     "text": [
      "None\n"
     ]
    }
   ],
   "source": [
    "y = my_add(10,20)                        # 함수를 통해 리턴값을 받아서 대입시킨다\n",
    "\n",
    "print(y)"
   ]
  },
  {
   "cell_type": "code",
   "execution_count": 57,
   "id": "863efa89-159a-44d5-8947-35a09a45a2d0",
   "metadata": {},
   "outputs": [],
   "source": [
    "number = list()\n",
    "def my_evenodd(a):\n",
    "    \n",
    "    number.append(a)\n",
    "    if a % 2 ==0:\n",
    "        s = '짝수'\n",
    "        return s\n",
    "    else:\n",
    "        d = '홀수'                      # 리턴값은 실제로 실행되는 1개로 사용이 가능하다.\n",
    "        return d"
   ]
  },
  {
   "cell_type": "code",
   "execution_count": 56,
   "id": "14653a3b-f2bd-4ccb-8b0f-63cee62679ae",
   "metadata": {},
   "outputs": [
    {
     "name": "stdin",
     "output_type": "stream",
     "text": [
      "숫자를 입력하시오 5\n"
     ]
    },
    {
     "name": "stdout",
     "output_type": "stream",
     "text": [
      "홀수\n"
     ]
    }
   ],
   "source": [
    "x = int(input('숫자를 입력하시오'))\n",
    "y = my_evenodd(x)\n",
    "\n",
    "print(y)"
   ]
  },
  {
   "cell_type": "code",
   "execution_count": 70,
   "id": "bdcf9aaf-b874-421e-8ca2-db3d8a21ad0c",
   "metadata": {},
   "outputs": [],
   "source": [
    "def my_addsub(a, b) :\n",
    "    add = a + b\n",
    "    sub = a - b\n",
    "    \n",
    "    return add, sub                    # 파이썬만 리턴값이 복수여도 실행이 가능. 이때 리턴값은 타입이 tuple에 묶여서 나온다"
   ]
  },
  {
   "cell_type": "code",
   "execution_count": 75,
   "id": "f2376fae-afdf-4223-baec-b2abcbcfc241",
   "metadata": {},
   "outputs": [
    {
     "name": "stdout",
     "output_type": "stream",
     "text": [
      "<class 'tuple'>\n",
      "(60, 20)\n"
     ]
    }
   ],
   "source": [
    "y = my_addsub(40, 20)\n",
    "\n",
    "print(type(y))\n",
    "print(y)"
   ]
  },
  {
   "cell_type": "code",
   "execution_count": 89,
   "id": "7d1c3574-6dc6-47be-92a0-d6aa0fc7116f",
   "metadata": {},
   "outputs": [],
   "source": [
    "def my_area(a):\n",
    "    y = a * a * 3.14\n",
    "    \n",
    "    return y"
   ]
  },
  {
   "cell_type": "code",
   "execution_count": 116,
   "id": "551ccd85-abeb-4cf7-a8ee-79bd0243d98f",
   "metadata": {},
   "outputs": [
    {
     "name": "stdin",
     "output_type": "stream",
     "text": [
      "반지름을 입력하세요 4420\n"
     ]
    },
    {
     "name": "stdout",
     "output_type": "stream",
     "text": [
      "61344296.0\n",
      "<class 'float'>\n"
     ]
    }
   ],
   "source": [
    "number = int(input('반지름을 입력하세요'))\n",
    "x = my_area(number)\n",
    "\n",
    "print(x)\n",
    "print(type(x))"
   ]
  }
 ],
 "metadata": {
  "kernelspec": {
   "display_name": "Python 3 (ipykernel)",
   "language": "python",
   "name": "python3"
  },
  "language_info": {
   "codemirror_mode": {
    "name": "ipython",
    "version": 3
   },
   "file_extension": ".py",
   "mimetype": "text/x-python",
   "name": "python",
   "nbconvert_exporter": "python",
   "pygments_lexer": "ipython3",
   "version": "3.9.7"
  }
 },
 "nbformat": 4,
 "nbformat_minor": 5
}

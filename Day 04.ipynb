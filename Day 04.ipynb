{
 "cells": [
  {
   "cell_type": "markdown",
   "id": "d43d100f-7692-490c-b394-45b753148dae",
   "metadata": {},
   "source": [
    "# Day 04"
   ]
  },
  {
   "cell_type": "markdown",
   "id": "f362de25-da0d-40ea-b657-02e50e14479d",
   "metadata": {},
   "source": [
    "## 매개변수와 인수"
   ]
  },
  {
   "cell_type": "code",
   "execution_count": 3,
   "id": "5c59cf2c-6555-4708-82f6-aca981e3c27f",
   "metadata": {},
   "outputs": [
    {
     "name": "stdout",
     "output_type": "stream",
     "text": [
      "\n"
     ]
    }
   ],
   "source": [
    "'''\n",
    "함수를 호출할 때 매개변수를 입력할때는 값이 존재해야함\n",
    "\n",
    "함수 호출 : my(x) - my 함수를 호출할때는 x(인수)에 값이 있어야함.\n",
    "\n",
    "함수는 명령을 실행하면 처음으로 돌아가는데 리턴값이 없으면 그냥 돌아가지만\n",
    "리턴값을 입력하면 값을 가진채로 돌아간다\n",
    "'''\n",
    "print()"
   ]
  },
  {
   "cell_type": "markdown",
   "id": "cb06633d-4a9b-42e9-96f9-36a069436b87",
   "metadata": {},
   "source": [
    "# 리턴값"
   ]
  },
  {
   "cell_type": "code",
   "execution_count": 12,
   "id": "60b1b100-d446-454f-9796-fa2afe72f6d7",
   "metadata": {},
   "outputs": [],
   "source": [
    "'''\n",
    "리턴값은 호출하는 위치로 돌아간다. 메인 함수 = 호출\n",
    "\n",
    "프로그램은 메인에서 시작해서 메인에서 끝남\n",
    "\n",
    "return 명령어로 실행\n",
    "'''\n",
    "\n",
    "def my_add(a, b):                        # 매개변수와 인수는 달라도 상관없음\n",
    "    x = a + b\n",
    "    \n",
    "    return x"
   ]
  },
  {
   "cell_type": "code",
   "execution_count": 11,
   "id": "2fc2049d-d8c9-4aa1-ae85-18ebba91ae11",
   "metadata": {},
   "outputs": [
    {
     "name": "stdout",
     "output_type": "stream",
     "text": [
      "None\n"
     ]
    }
   ],
   "source": [
    "y = my_add(10,20)                        # 함수를 통해 리턴값을 받아서 대입시킨다\n",
    "\n",
    "print(y)"
   ]
  },
  {
   "cell_type": "code",
   "execution_count": 57,
   "id": "863efa89-159a-44d5-8947-35a09a45a2d0",
   "metadata": {},
   "outputs": [],
   "source": [
    "number = list()\n",
    "def my_evenodd(a):\n",
    "    \n",
    "    number.append(a)\n",
    "    if a % 2 ==0:\n",
    "        s = '짝수'\n",
    "        return s\n",
    "    else:\n",
    "        d = '홀수'                      # 리턴값은 실제로 실행되는 1개로 사용이 가능하다.\n",
    "        return d"
   ]
  },
  {
   "cell_type": "code",
   "execution_count": 56,
   "id": "14653a3b-f2bd-4ccb-8b0f-63cee62679ae",
   "metadata": {},
   "outputs": [
    {
     "name": "stdin",
     "output_type": "stream",
     "text": [
      "숫자를 입력하시오 5\n"
     ]
    },
    {
     "name": "stdout",
     "output_type": "stream",
     "text": [
      "홀수\n"
     ]
    }
   ],
   "source": [
    "x = int(input('숫자를 입력하시오'))\n",
    "y = my_evenodd(x)\n",
    "\n",
    "print(y)"
   ]
  },
  {
   "cell_type": "code",
   "execution_count": 70,
   "id": "bdcf9aaf-b874-421e-8ca2-db3d8a21ad0c",
   "metadata": {},
   "outputs": [],
   "source": [
    "def my_addsub(a, b) :\n",
    "    add = a + b\n",
    "    sub = a - b\n",
    "    \n",
    "    return add, sub                    # 파이썬만 리턴값이 복수여도 실행이 가능. 이때 리턴값은 타입이 tuple에 묶여서 나온다"
   ]
  },
  {
   "cell_type": "code",
   "execution_count": 75,
   "id": "f2376fae-afdf-4223-baec-b2abcbcfc241",
   "metadata": {},
   "outputs": [
    {
     "name": "stdout",
     "output_type": "stream",
     "text": [
      "<class 'tuple'>\n",
      "(60, 20)\n"
     ]
    }
   ],
   "source": [
    "y = my_addsub(40, 20)\n",
    "\n",
    "print(type(y))\n",
    "print(y)"
   ]
  },
  {
   "cell_type": "code",
   "execution_count": 89,
   "id": "7d1c3574-6dc6-47be-92a0-d6aa0fc7116f",
   "metadata": {},
   "outputs": [],
   "source": [
    "def my_area(a):\n",
    "    y = a * a * 3.14\n",
    "    \n",
    "    return y"
   ]
  },
  {
   "cell_type": "code",
   "execution_count": 116,
   "id": "551ccd85-abeb-4cf7-a8ee-79bd0243d98f",
   "metadata": {},
   "outputs": [
    {
     "name": "stdin",
     "output_type": "stream",
     "text": [
      "반지름을 입력하세요 4420\n"
     ]
    },
    {
     "name": "stdout",
     "output_type": "stream",
     "text": [
      "61344296.0\n",
      "<class 'float'>\n"
     ]
    }
   ],
   "source": [
    "number = int(input('반지름을 입력하세요'))\n",
    "x = my_area(number)\n",
    "\n",
    "print(x)\n",
    "print(type(x))"
   ]
  },
  {
   "cell_type": "code",
   "execution_count": 123,
   "id": "e0e87b29-bd8a-4316-a166-5cd7933be6d7",
   "metadata": {},
   "outputs": [],
   "source": [
    "def my_familly(*name) :              # 매개변수 갯수를 모를때는 *사용. 파이썬만 가능\n",
    "    print(type(name))\n",
    "    print(name)"
   ]
  },
  {
   "cell_type": "code",
   "execution_count": 126,
   "id": "7aa71b24-7fbf-4bc7-b0fb-6c00d6d5627c",
   "metadata": {},
   "outputs": [
    {
     "name": "stdout",
     "output_type": "stream",
     "text": [
      "<class 'tuple'>\n",
      "('김종문',)\n",
      "<class 'tuple'>\n",
      "('김종문', '김종훈')\n",
      "<class 'tuple'>\n",
      "('김종문', '김종훈', '김종완')\n"
     ]
    }
   ],
   "source": [
    "my_familly('김종문')\n",
    "my_familly('김종문','김종훈')\n",
    "my_familly('김종문','김종훈','김종완')"
   ]
  },
  {
   "cell_type": "code",
   "execution_count": 145,
   "id": "03557dde-310a-43d0-8794-88b9540e5f2d",
   "metadata": {},
   "outputs": [],
   "source": [
    "def my_familly(*name):\n",
    "    for n in name:\n",
    "        print(n)"
   ]
  },
  {
   "cell_type": "code",
   "execution_count": 146,
   "id": "0ced4dbc-4e0d-4e9a-abc3-d52c59c7ac40",
   "metadata": {},
   "outputs": [
    {
     "name": "stdout",
     "output_type": "stream",
     "text": [
      "김종문\n",
      "김종훈\n",
      "김종완\n"
     ]
    }
   ],
   "source": [
    "my_familly('김종문', '김종훈','김종완')"
   ]
  },
  {
   "cell_type": "code",
   "execution_count": 147,
   "id": "6620c031-bfe7-4f06-919e-f022e72f4934",
   "metadata": {},
   "outputs": [
    {
     "name": "stdout",
     "output_type": "stream",
     "text": [
      "김종문\n"
     ]
    }
   ],
   "source": [
    "my_familly(a)"
   ]
  },
  {
   "cell_type": "code",
   "execution_count": 168,
   "id": "dc8df684-906a-46b1-8ced-8e1ffb54603f",
   "metadata": {},
   "outputs": [],
   "source": [
    "'''\n",
    "매개변수 이름 지정 = 별표 2개 ** 사용\n",
    "호출할 때 (a = 'b', c = 'd') dict처럼 키값을 지정해서 사용\n",
    "'''\n",
    "    \n",
    "def my_familly(**name):\n",
    "    print(type(name))\n",
    "    print(name)\n",
    "    #print(name['fname'])                # 키를 지정해서 출력하면 해당 키의 값만 출력된다."
   ]
  },
  {
   "cell_type": "code",
   "execution_count": 169,
   "id": "22b5df5e-0a85-443f-b029-fa42f9598d95",
   "metadata": {},
   "outputs": [
    {
     "name": "stdout",
     "output_type": "stream",
     "text": [
      "<class 'dict'>\n",
      "{'fname': 'jongmun', 'lname': 'kim'}\n"
     ]
    }
   ],
   "source": [
    "my_familly(fname='jongmun', lname = 'kim')"
   ]
  },
  {
   "cell_type": "code",
   "execution_count": 7,
   "id": "c532b325-09f9-493f-9850-092ceb6778dc",
   "metadata": {},
   "outputs": [],
   "source": [
    "def my_add(*number):\n",
    "    for i in number:\n",
    "        add = i + b\n",
    "    \n",
    "    return add"
   ]
  },
  {
   "cell_type": "code",
   "execution_count": 10,
   "id": "d445ccc0-2d93-4217-be62-7f566c3df6f4",
   "metadata": {},
   "outputs": [
    {
     "name": "stdin",
     "output_type": "stream",
     "text": [
      "숫자를 입력하세요 123\n",
      "숫자를 입력하세요 123\n"
     ]
    },
    {
     "name": "stdout",
     "output_type": "stream",
     "text": [
      "246\n"
     ]
    }
   ],
   "source": [
    "a = int(input('숫자를 입력하세요'))\n",
    "b = int(input('숫자를 입력하세요'))\n",
    "y = my_add(a)\n",
    "\n",
    "print(y)"
   ]
  },
  {
   "cell_type": "code",
   "execution_count": 1,
   "id": "200f1c26-1391-4555-a423-db994617af19",
   "metadata": {},
   "outputs": [],
   "source": [
    "def my_add(*number):\n",
    "    add = a + b\n",
    "    \n",
    "    return add"
   ]
  },
  {
   "cell_type": "code",
   "execution_count": 6,
   "id": "c03e85ab-02b1-4f30-812e-915341c6900c",
   "metadata": {},
   "outputs": [
    {
     "name": "stdin",
     "output_type": "stream",
     "text": [
      "숫자를 입력하세요 98\n",
      "숫자를 입력하세요 54\n"
     ]
    },
    {
     "name": "stdout",
     "output_type": "stream",
     "text": [
      "152\n"
     ]
    }
   ],
   "source": [
    "a = int(input('숫자를 입력하세요'))\n",
    "b = int(input('숫자를 입력하세요'))\n",
    "y = my_add(a)\n",
    "\n",
    "print(y)"
   ]
  },
  {
   "cell_type": "code",
   "execution_count": 73,
   "id": "7b6313d3-3e50-4f9f-884d-eaba765ee97c",
   "metadata": {},
   "outputs": [],
   "source": [
    "'''\n",
    "매개변수에 기본값 설정가능 - 이 때 인수가 값을 넣지 않으면 기본값이 출력된다\n",
    "'''\n",
    "\n",
    "def my_country(state, country ='korea'):                  # 기본값을 넣은 매개변수는 항상 마지막에 위치해야한다\n",
    "    print(state, country)"
   ]
  },
  {
   "cell_type": "code",
   "execution_count": 74,
   "id": "3b69aee2-b9bb-4f18-acf8-9f517111265e",
   "metadata": {},
   "outputs": [
    {
     "name": "stdout",
     "output_type": "stream",
     "text": [
      "kangnam korea\n",
      "kyoto japan\n"
     ]
    }
   ],
   "source": [
    "my_country('kangnam')\n",
    "my_country('kyoto','japan')"
   ]
  },
  {
   "cell_type": "code",
   "execution_count": 76,
   "id": "e6448cd8-5400-44b5-a293-ac2fd936e3f2",
   "metadata": {},
   "outputs": [],
   "source": [
    "'''\n",
    "매개변수가 컬렉션인 경우\n",
    "\n",
    "'''\n",
    "\n",
    "def my_function(food):\n",
    "    for x in food:\n",
    "        print(x)"
   ]
  },
  {
   "cell_type": "code",
   "execution_count": 79,
   "id": "9ce1bc96-5891-462a-8a26-7d6ea0450e2e",
   "metadata": {},
   "outputs": [
    {
     "name": "stdout",
     "output_type": "stream",
     "text": [
      "apple\n",
      "banana\n",
      "cherry\n"
     ]
    }
   ],
   "source": [
    "fruits = ['apple' , 'banana', 'cherry']\n",
    "\n",
    "my_function(fruits)"
   ]
  },
  {
   "cell_type": "code",
   "execution_count": 223,
   "id": "86578b20-3211-488b-88e7-09a69c04c7ff",
   "metadata": {},
   "outputs": [],
   "source": [
    "def my_add(a):\n",
    "    add = 0\n",
    "    \n",
    "    for i in a:\n",
    "        add = i + add \n",
    "    \n",
    "    return add"
   ]
  },
  {
   "cell_type": "code",
   "execution_count": 226,
   "id": "dd42e18f-bd0c-4ff6-82f7-138753e34cb0",
   "metadata": {},
   "outputs": [
    {
     "name": "stdin",
     "output_type": "stream",
     "text": [
      "개수를 입력하세요 3\n",
      "숫자를 입력하세요 1\n",
      "숫자를 입력하세요 2\n",
      "숫자를 입력하세요 3\n"
     ]
    },
    {
     "name": "stdout",
     "output_type": "stream",
     "text": [
      "6\n"
     ]
    }
   ],
   "source": [
    "number = list()\n",
    "\n",
    "x = int(input('개수를 입력하세요'))\n",
    "\n",
    "for i in range(0, x):\n",
    "    c = int(input('숫자를 입력하세요'))\n",
    "        \n",
    "    number.append(c)\n",
    "\n",
    "a = my_add(number)\n",
    "\n",
    "print(a)"
   ]
  },
  {
   "cell_type": "code",
   "execution_count": 264,
   "id": "c61068e7-bac0-4c4a-b841-fb0e067ee67d",
   "metadata": {},
   "outputs": [],
   "source": [
    "def my_q(a):\n",
    "    add = 1\n",
    "    \n",
    "    for i in a:\n",
    "        add = i * add\n",
    "        \n",
    "    return add"
   ]
  },
  {
   "cell_type": "code",
   "execution_count": 266,
   "id": "b79a1420-29cc-4fca-b650-63ad0d8db594",
   "metadata": {},
   "outputs": [
    {
     "name": "stdin",
     "output_type": "stream",
     "text": [
      "개수를 입력하시오 3\n",
      "숫자를 입력하시오 1\n",
      "숫자를 입력하시오 2\n",
      "숫자를 입력하시오 3\n"
     ]
    },
    {
     "name": "stdout",
     "output_type": "stream",
     "text": [
      "6\n"
     ]
    }
   ],
   "source": [
    "number = list()\n",
    "x = int(input('개수를 입력하시오'))\n",
    "\n",
    "for i in range(0, x):\n",
    "    c = int(input('숫자를 입력하시오'))\n",
    "    \n",
    "    number.append(c)\n",
    "    \n",
    "y = my_q(number)\n",
    "\n",
    "print(y)"
   ]
  },
  {
   "cell_type": "code",
   "execution_count": 267,
   "id": "a81de0a5-25eb-4456-a2ac-1bcf32e50988",
   "metadata": {},
   "outputs": [],
   "source": [
    "def my_family(a):\n",
    "    print(a)"
   ]
  },
  {
   "cell_type": "code",
   "execution_count": 271,
   "id": "7ce27668-acf7-41b1-b4e2-0e102186e486",
   "metadata": {},
   "outputs": [
    {
     "name": "stdin",
     "output_type": "stream",
     "text": [
      "가족구성원의 수를 기입하세요. 5\n",
      "가족구성원의 성함을 기입하세요. A\n",
      "가족구성원의 성함을 기입하세요. B\n",
      "가족구성원의 성함을 기입하세요. C\n",
      "가족구성원의 성함을 기입하세요. D\n",
      "가족구성원의 성함을 기입하세요. E\n"
     ]
    },
    {
     "name": "stdout",
     "output_type": "stream",
     "text": [
      "['A', 'B', 'C', 'D', 'E']\n"
     ]
    }
   ],
   "source": [
    "family = list()\n",
    "x = int(input('가족구성원의 수를 기입하세요.'))\n",
    "for i in range(0, x):\n",
    "    c = input('가족구성원의 성함을 기입하세요.')\n",
    "    \n",
    "    family.append(c)\n",
    "    \n",
    "my_family(family)"
   ]
  }
 ],
 "metadata": {
  "kernelspec": {
   "display_name": "Python 3 (ipykernel)",
   "language": "python",
   "name": "python3"
  },
  "language_info": {
   "codemirror_mode": {
    "name": "ipython",
    "version": 3
   },
   "file_extension": ".py",
   "mimetype": "text/x-python",
   "name": "python",
   "nbconvert_exporter": "python",
   "pygments_lexer": "ipython3",
   "version": "3.9.7"
  }
 },
 "nbformat": 4,
 "nbformat_minor": 5
}
